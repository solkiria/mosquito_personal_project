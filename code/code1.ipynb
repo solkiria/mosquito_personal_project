# Code1 its a file with the first attemp to start this project.
