{
 "cells": [
  {
   "cell_type": "markdown",
   "metadata": {},
   "source": [
    "# Analyzing 2"
   ]
  },
  {
   "cell_type": "markdown",
   "metadata": {},
   "source": [
    "In this jupyter notebook the dataframe 'mosquito1_meteo.csv' will be analized. The objectives are:\n",
    "\n",
    "- Mean meteo data per country obtention.\n",
    "\n",
    "- Mosquito per day per country obtention.\n",
    "\n",
    "- Get the dataframe ready for machine learning."
   ]
  },
  {
   "cell_type": "code",
   "execution_count": 92,
   "metadata": {},
   "outputs": [],
   "source": [
    "# Data treatment\n",
    "# ------------------------------------------------------------------------------\n",
    "import numpy as np\n",
    "import pandas as pd\n",
    "#from datetime import date, datetime\n",
    "#import holidays\n",
    "#import requests #To check if an API link works\n",
    "#from IPython.core.interactiveshell import InteractiveShell #Show more than one output per cell\n",
    "#InteractiveShell.ast_node_interactivity = \"all\"\n",
    "#import ast\n",
    "\n",
    "# API for accessing open weather and climate data\n",
    "# ------------------------------------------------------------------------------\n",
    "#from meteostat import Point, Daily\n",
    "\n",
    "# Graphs\n",
    "# ------------------------------------------------------------------------------\n",
    "import matplotlib.pyplot as plt\n",
    "import seaborn as sns\n",
    "\n",
    "# Warnings configuration\n",
    "# ------------------------------------------------------------------------------\n",
    "#import warnings\n",
    "#warnings.filterwarnings('once')\n",
    "\n",
    "# Library to create pickle files.\n",
    "# ------------------------------------------------------------------------------\n",
    "#import pickle\n",
    "#import os\n",
    "\n",
    "# Progress bar\n",
    "# ------------------------------------------------------------------------------\n",
    "#from tqdm import tqdm\n",
    "\n",
    "# Put a pause between API calls\n",
    "# ------------------------------------------------------------------------------\n",
    "#import time"
   ]
  },
  {
   "cell_type": "code",
   "execution_count": 93,
   "metadata": {},
   "outputs": [
    {
     "data": {
      "text/html": [
       "<div>\n",
       "<style scoped>\n",
       "    .dataframe tbody tr th:only-of-type {\n",
       "        vertical-align: middle;\n",
       "    }\n",
       "\n",
       "    .dataframe tbody tr th {\n",
       "        vertical-align: top;\n",
       "    }\n",
       "\n",
       "    .dataframe thead th {\n",
       "        text-align: right;\n",
       "    }\n",
       "</style>\n",
       "<table border=\"1\" class=\"dataframe\">\n",
       "  <thead>\n",
       "    <tr style=\"text-align: right;\">\n",
       "      <th></th>\n",
       "      <th>index</th>\n",
       "      <th>event_date</th>\n",
       "      <th>year</th>\n",
       "      <th>month</th>\n",
       "      <th>day</th>\n",
       "      <th>country_code</th>\n",
       "      <th>latitude</th>\n",
       "      <th>longitude</th>\n",
       "      <th>witness</th>\n",
       "      <th>issue</th>\n",
       "      <th>...</th>\n",
       "      <th>tavg</th>\n",
       "      <th>tmin</th>\n",
       "      <th>tmax</th>\n",
       "      <th>prcp</th>\n",
       "      <th>snow</th>\n",
       "      <th>wdir</th>\n",
       "      <th>wspd</th>\n",
       "      <th>wpgt</th>\n",
       "      <th>pres</th>\n",
       "      <th>tsun</th>\n",
       "    </tr>\n",
       "  </thead>\n",
       "  <tbody>\n",
       "    <tr>\n",
       "      <th>0</th>\n",
       "      <td>0</td>\n",
       "      <td>2022-11-04</td>\n",
       "      <td>2022</td>\n",
       "      <td>11</td>\n",
       "      <td>4</td>\n",
       "      <td>ES</td>\n",
       "      <td>41.51019</td>\n",
       "      <td>2.24589</td>\n",
       "      <td>Roger Eritja</td>\n",
       "      <td>CONTINENT_DERIVED_FROM_COORDINATES</td>\n",
       "      <td>...</td>\n",
       "      <td>15.4</td>\n",
       "      <td>11.0</td>\n",
       "      <td>20.0</td>\n",
       "      <td>0.0</td>\n",
       "      <td>NaN</td>\n",
       "      <td>271.0</td>\n",
       "      <td>19.5</td>\n",
       "      <td>42.6</td>\n",
       "      <td>1013.8</td>\n",
       "      <td>NaN</td>\n",
       "    </tr>\n",
       "    <tr>\n",
       "      <th>1</th>\n",
       "      <td>1</td>\n",
       "      <td>2021-08-27</td>\n",
       "      <td>2021</td>\n",
       "      <td>8</td>\n",
       "      <td>27</td>\n",
       "      <td>IT</td>\n",
       "      <td>44.40289</td>\n",
       "      <td>8.98775</td>\n",
       "      <td>Karin Bakran-Lebl;Ana Klobucar;UNIROMA1;Roger ...</td>\n",
       "      <td>CONTINENT_DERIVED_FROM_COORDINATES</td>\n",
       "      <td>...</td>\n",
       "      <td>25.0</td>\n",
       "      <td>23.0</td>\n",
       "      <td>28.1</td>\n",
       "      <td>0.3</td>\n",
       "      <td>NaN</td>\n",
       "      <td>68.0</td>\n",
       "      <td>13.8</td>\n",
       "      <td>27.8</td>\n",
       "      <td>1007.5</td>\n",
       "      <td>NaN</td>\n",
       "    </tr>\n",
       "    <tr>\n",
       "      <th>2</th>\n",
       "      <td>3</td>\n",
       "      <td>2022-08-11</td>\n",
       "      <td>2022</td>\n",
       "      <td>8</td>\n",
       "      <td>11</td>\n",
       "      <td>IT</td>\n",
       "      <td>41.70922</td>\n",
       "      <td>12.78512</td>\n",
       "      <td>UNIROMA1;Eleonora Longo;Francesco Severini;Rog...</td>\n",
       "      <td>CONTINENT_DERIVED_FROM_COORDINATES</td>\n",
       "      <td>...</td>\n",
       "      <td>27.7</td>\n",
       "      <td>22.0</td>\n",
       "      <td>32.0</td>\n",
       "      <td>1.1</td>\n",
       "      <td>NaN</td>\n",
       "      <td>173.0</td>\n",
       "      <td>9.0</td>\n",
       "      <td>NaN</td>\n",
       "      <td>1013.9</td>\n",
       "      <td>NaN</td>\n",
       "    </tr>\n",
       "  </tbody>\n",
       "</table>\n",
       "<p>3 rows × 25 columns</p>\n",
       "</div>"
      ],
      "text/plain": [
       "   index  event_date  year  month  day country_code  latitude  longitude  \\\n",
       "0      0  2022-11-04  2022     11    4           ES  41.51019    2.24589   \n",
       "1      1  2021-08-27  2021      8   27           IT  44.40289    8.98775   \n",
       "2      3  2022-08-11  2022      8   11           IT  41.70922   12.78512   \n",
       "\n",
       "                                             witness  \\\n",
       "0                                       Roger Eritja   \n",
       "1  Karin Bakran-Lebl;Ana Klobucar;UNIROMA1;Roger ...   \n",
       "2  UNIROMA1;Eleonora Longo;Francesco Severini;Rog...   \n",
       "\n",
       "                                issue  ...  tavg  tmin  tmax  prcp snow  \\\n",
       "0  CONTINENT_DERIVED_FROM_COORDINATES  ...  15.4  11.0  20.0   0.0  NaN   \n",
       "1  CONTINENT_DERIVED_FROM_COORDINATES  ...  25.0  23.0  28.1   0.3  NaN   \n",
       "2  CONTINENT_DERIVED_FROM_COORDINATES  ...  27.7  22.0  32.0   1.1  NaN   \n",
       "\n",
       "    wdir  wspd  wpgt    pres  tsun  \n",
       "0  271.0  19.5  42.6  1013.8   NaN  \n",
       "1   68.0  13.8  27.8  1007.5   NaN  \n",
       "2  173.0   9.0   NaN  1013.9   NaN  \n",
       "\n",
       "[3 rows x 25 columns]"
      ]
     },
     "execution_count": 93,
     "metadata": {},
     "output_type": "execute_result"
    }
   ],
   "source": [
    "df_1 = pd.read_csv(\"../data/mosquito1_meteo.csv\",index_col=0)\n",
    "df_1.head(3)"
   ]
  },
  {
   "cell_type": "code",
   "execution_count": 94,
   "metadata": {},
   "outputs": [
    {
     "name": "stdout",
     "output_type": "stream",
     "text": [
      "This DataFrame has 14512 rows and 25 columns.\n"
     ]
    }
   ],
   "source": [
    "print(f'This DataFrame has {df_1.shape[0]} rows and {df_1.shape[1]} columns.')"
   ]
  },
  {
   "cell_type": "markdown",
   "metadata": {},
   "source": [
    "## 1. Clean dataframe"
   ]
  },
  {
   "cell_type": "markdown",
   "metadata": {},
   "source": [
    "### 1.1. Check concat"
   ]
  },
  {
   "cell_type": "code",
   "execution_count": 95,
   "metadata": {},
   "outputs": [
    {
     "data": {
      "text/html": [
       "<div>\n",
       "<style scoped>\n",
       "    .dataframe tbody tr th:only-of-type {\n",
       "        vertical-align: middle;\n",
       "    }\n",
       "\n",
       "    .dataframe tbody tr th {\n",
       "        vertical-align: top;\n",
       "    }\n",
       "\n",
       "    .dataframe thead th {\n",
       "        text-align: right;\n",
       "    }\n",
       "</style>\n",
       "<table border=\"1\" class=\"dataframe\">\n",
       "  <thead>\n",
       "    <tr style=\"text-align: right;\">\n",
       "      <th></th>\n",
       "      <th>index</th>\n",
       "      <th>event_date</th>\n",
       "      <th>year</th>\n",
       "      <th>month</th>\n",
       "      <th>day</th>\n",
       "      <th>country_code</th>\n",
       "      <th>latitude</th>\n",
       "      <th>longitude</th>\n",
       "      <th>witness</th>\n",
       "      <th>issue</th>\n",
       "      <th>...</th>\n",
       "      <th>tmin</th>\n",
       "      <th>tmax</th>\n",
       "      <th>prcp</th>\n",
       "      <th>snow</th>\n",
       "      <th>wdir</th>\n",
       "      <th>wspd</th>\n",
       "      <th>wpgt</th>\n",
       "      <th>pres</th>\n",
       "      <th>tsun</th>\n",
       "      <th>new_event_date</th>\n",
       "    </tr>\n",
       "  </thead>\n",
       "  <tbody>\n",
       "    <tr>\n",
       "      <th>0</th>\n",
       "      <td>0</td>\n",
       "      <td>2022-11-04</td>\n",
       "      <td>2022</td>\n",
       "      <td>11</td>\n",
       "      <td>4</td>\n",
       "      <td>ES</td>\n",
       "      <td>41.51019</td>\n",
       "      <td>2.24589</td>\n",
       "      <td>Roger Eritja</td>\n",
       "      <td>CONTINENT_DERIVED_FROM_COORDINATES</td>\n",
       "      <td>...</td>\n",
       "      <td>11.0</td>\n",
       "      <td>20.0</td>\n",
       "      <td>0.0</td>\n",
       "      <td>NaN</td>\n",
       "      <td>271.0</td>\n",
       "      <td>19.5</td>\n",
       "      <td>42.6</td>\n",
       "      <td>1013.8</td>\n",
       "      <td>NaN</td>\n",
       "      <td>2022-11-04</td>\n",
       "    </tr>\n",
       "    <tr>\n",
       "      <th>1</th>\n",
       "      <td>1</td>\n",
       "      <td>2021-08-27</td>\n",
       "      <td>2021</td>\n",
       "      <td>8</td>\n",
       "      <td>27</td>\n",
       "      <td>IT</td>\n",
       "      <td>44.40289</td>\n",
       "      <td>8.98775</td>\n",
       "      <td>Karin Bakran-Lebl;Ana Klobucar;UNIROMA1;Roger ...</td>\n",
       "      <td>CONTINENT_DERIVED_FROM_COORDINATES</td>\n",
       "      <td>...</td>\n",
       "      <td>23.0</td>\n",
       "      <td>28.1</td>\n",
       "      <td>0.3</td>\n",
       "      <td>NaN</td>\n",
       "      <td>68.0</td>\n",
       "      <td>13.8</td>\n",
       "      <td>27.8</td>\n",
       "      <td>1007.5</td>\n",
       "      <td>NaN</td>\n",
       "      <td>2021-08-27</td>\n",
       "    </tr>\n",
       "    <tr>\n",
       "      <th>2</th>\n",
       "      <td>3</td>\n",
       "      <td>2022-08-11</td>\n",
       "      <td>2022</td>\n",
       "      <td>8</td>\n",
       "      <td>11</td>\n",
       "      <td>IT</td>\n",
       "      <td>41.70922</td>\n",
       "      <td>12.78512</td>\n",
       "      <td>UNIROMA1;Eleonora Longo;Francesco Severini;Rog...</td>\n",
       "      <td>CONTINENT_DERIVED_FROM_COORDINATES</td>\n",
       "      <td>...</td>\n",
       "      <td>22.0</td>\n",
       "      <td>32.0</td>\n",
       "      <td>1.1</td>\n",
       "      <td>NaN</td>\n",
       "      <td>173.0</td>\n",
       "      <td>9.0</td>\n",
       "      <td>NaN</td>\n",
       "      <td>1013.9</td>\n",
       "      <td>NaN</td>\n",
       "      <td>2022-08-11</td>\n",
       "    </tr>\n",
       "  </tbody>\n",
       "</table>\n",
       "<p>3 rows × 26 columns</p>\n",
       "</div>"
      ],
      "text/plain": [
       "   index  event_date  year  month  day country_code  latitude  longitude  \\\n",
       "0      0  2022-11-04  2022     11    4           ES  41.51019    2.24589   \n",
       "1      1  2021-08-27  2021      8   27           IT  44.40289    8.98775   \n",
       "2      3  2022-08-11  2022      8   11           IT  41.70922   12.78512   \n",
       "\n",
       "                                             witness  \\\n",
       "0                                       Roger Eritja   \n",
       "1  Karin Bakran-Lebl;Ana Klobucar;UNIROMA1;Roger ...   \n",
       "2  UNIROMA1;Eleonora Longo;Francesco Severini;Rog...   \n",
       "\n",
       "                                issue  ...  tmin  tmax  prcp  snow   wdir  \\\n",
       "0  CONTINENT_DERIVED_FROM_COORDINATES  ...  11.0  20.0   0.0   NaN  271.0   \n",
       "1  CONTINENT_DERIVED_FROM_COORDINATES  ...  23.0  28.1   0.3   NaN   68.0   \n",
       "2  CONTINENT_DERIVED_FROM_COORDINATES  ...  22.0  32.0   1.1   NaN  173.0   \n",
       "\n",
       "   wspd  wpgt    pres  tsun  new_event_date  \n",
       "0  19.5  42.6  1013.8   NaN      2022-11-04  \n",
       "1  13.8  27.8  1007.5   NaN      2021-08-27  \n",
       "2   9.0   NaN  1013.9   NaN      2022-08-11  \n",
       "\n",
       "[3 rows x 26 columns]"
      ]
     },
     "execution_count": 95,
     "metadata": {},
     "output_type": "execute_result"
    }
   ],
   "source": [
    "# Change the column 'event_date' to datetime format.\n",
    "df_1['new_event_date'] = pd.to_datetime(df_1['event_date'], format='%Y-%m-%d')\n",
    "df_1.head(3)"
   ]
  },
  {
   "cell_type": "code",
   "execution_count": 96,
   "metadata": {},
   "outputs": [
    {
     "data": {
      "text/html": [
       "<div>\n",
       "<style scoped>\n",
       "    .dataframe tbody tr th:only-of-type {\n",
       "        vertical-align: middle;\n",
       "    }\n",
       "\n",
       "    .dataframe tbody tr th {\n",
       "        vertical-align: top;\n",
       "    }\n",
       "\n",
       "    .dataframe thead th {\n",
       "        text-align: right;\n",
       "    }\n",
       "</style>\n",
       "<table border=\"1\" class=\"dataframe\">\n",
       "  <thead>\n",
       "    <tr style=\"text-align: right;\">\n",
       "      <th></th>\n",
       "      <th>index</th>\n",
       "      <th>event_date</th>\n",
       "      <th>year</th>\n",
       "      <th>month</th>\n",
       "      <th>day</th>\n",
       "      <th>country_code</th>\n",
       "      <th>latitude</th>\n",
       "      <th>longitude</th>\n",
       "      <th>witness</th>\n",
       "      <th>issue</th>\n",
       "      <th>...</th>\n",
       "      <th>tmax</th>\n",
       "      <th>prcp</th>\n",
       "      <th>snow</th>\n",
       "      <th>wdir</th>\n",
       "      <th>wspd</th>\n",
       "      <th>wpgt</th>\n",
       "      <th>pres</th>\n",
       "      <th>tsun</th>\n",
       "      <th>new_event_date</th>\n",
       "      <th>new_event_date2</th>\n",
       "    </tr>\n",
       "  </thead>\n",
       "  <tbody>\n",
       "    <tr>\n",
       "      <th>0</th>\n",
       "      <td>0</td>\n",
       "      <td>2022-11-04</td>\n",
       "      <td>2022</td>\n",
       "      <td>11</td>\n",
       "      <td>4</td>\n",
       "      <td>ES</td>\n",
       "      <td>41.51019</td>\n",
       "      <td>2.24589</td>\n",
       "      <td>Roger Eritja</td>\n",
       "      <td>CONTINENT_DERIVED_FROM_COORDINATES</td>\n",
       "      <td>...</td>\n",
       "      <td>20.0</td>\n",
       "      <td>0.0</td>\n",
       "      <td>NaN</td>\n",
       "      <td>271.0</td>\n",
       "      <td>19.5</td>\n",
       "      <td>42.6</td>\n",
       "      <td>1013.8</td>\n",
       "      <td>NaN</td>\n",
       "      <td>2022-11-04</td>\n",
       "      <td>2022-11-04</td>\n",
       "    </tr>\n",
       "    <tr>\n",
       "      <th>1</th>\n",
       "      <td>1</td>\n",
       "      <td>2021-08-27</td>\n",
       "      <td>2021</td>\n",
       "      <td>8</td>\n",
       "      <td>27</td>\n",
       "      <td>IT</td>\n",
       "      <td>44.40289</td>\n",
       "      <td>8.98775</td>\n",
       "      <td>Karin Bakran-Lebl;Ana Klobucar;UNIROMA1;Roger ...</td>\n",
       "      <td>CONTINENT_DERIVED_FROM_COORDINATES</td>\n",
       "      <td>...</td>\n",
       "      <td>28.1</td>\n",
       "      <td>0.3</td>\n",
       "      <td>NaN</td>\n",
       "      <td>68.0</td>\n",
       "      <td>13.8</td>\n",
       "      <td>27.8</td>\n",
       "      <td>1007.5</td>\n",
       "      <td>NaN</td>\n",
       "      <td>2021-08-27</td>\n",
       "      <td>2021-08-27</td>\n",
       "    </tr>\n",
       "    <tr>\n",
       "      <th>2</th>\n",
       "      <td>3</td>\n",
       "      <td>2022-08-11</td>\n",
       "      <td>2022</td>\n",
       "      <td>8</td>\n",
       "      <td>11</td>\n",
       "      <td>IT</td>\n",
       "      <td>41.70922</td>\n",
       "      <td>12.78512</td>\n",
       "      <td>UNIROMA1;Eleonora Longo;Francesco Severini;Rog...</td>\n",
       "      <td>CONTINENT_DERIVED_FROM_COORDINATES</td>\n",
       "      <td>...</td>\n",
       "      <td>32.0</td>\n",
       "      <td>1.1</td>\n",
       "      <td>NaN</td>\n",
       "      <td>173.0</td>\n",
       "      <td>9.0</td>\n",
       "      <td>NaN</td>\n",
       "      <td>1013.9</td>\n",
       "      <td>NaN</td>\n",
       "      <td>2022-08-11</td>\n",
       "      <td>2022-08-11</td>\n",
       "    </tr>\n",
       "  </tbody>\n",
       "</table>\n",
       "<p>3 rows × 27 columns</p>\n",
       "</div>"
      ],
      "text/plain": [
       "   index  event_date  year  month  day country_code  latitude  longitude  \\\n",
       "0      0  2022-11-04  2022     11    4           ES  41.51019    2.24589   \n",
       "1      1  2021-08-27  2021      8   27           IT  44.40289    8.98775   \n",
       "2      3  2022-08-11  2022      8   11           IT  41.70922   12.78512   \n",
       "\n",
       "                                             witness  \\\n",
       "0                                       Roger Eritja   \n",
       "1  Karin Bakran-Lebl;Ana Klobucar;UNIROMA1;Roger ...   \n",
       "2  UNIROMA1;Eleonora Longo;Francesco Severini;Rog...   \n",
       "\n",
       "                                issue  ...  tmax prcp  snow   wdir  wspd  \\\n",
       "0  CONTINENT_DERIVED_FROM_COORDINATES  ...  20.0  0.0   NaN  271.0  19.5   \n",
       "1  CONTINENT_DERIVED_FROM_COORDINATES  ...  28.1  0.3   NaN   68.0  13.8   \n",
       "2  CONTINENT_DERIVED_FROM_COORDINATES  ...  32.0  1.1   NaN  173.0   9.0   \n",
       "\n",
       "   wpgt    pres  tsun  new_event_date  new_event_date2  \n",
       "0  42.6  1013.8   NaN      2022-11-04       2022-11-04  \n",
       "1  27.8  1007.5   NaN      2021-08-27       2021-08-27  \n",
       "2   NaN  1013.9   NaN      2022-08-11       2022-08-11  \n",
       "\n",
       "[3 rows x 27 columns]"
      ]
     },
     "execution_count": 96,
     "metadata": {},
     "output_type": "execute_result"
    }
   ],
   "source": [
    "# Change the column 'event_date' to datetime format.\n",
    "df_1['new_event_date2'] = pd.to_datetime(df_1['event_date2'], format='%Y-%m-%d')\n",
    "df_1.head(3)"
   ]
  },
  {
   "cell_type": "code",
   "execution_count": 97,
   "metadata": {},
   "outputs": [
    {
     "data": {
      "text/plain": [
       "index                       int64\n",
       "event_date                 object\n",
       "year                        int64\n",
       "month                       int64\n",
       "day                         int64\n",
       "country_code               object\n",
       "latitude                  float64\n",
       "longitude                 float64\n",
       "witness                    object\n",
       "issue                      object\n",
       "index.1                     int64\n",
       "event_date2                object\n",
       "latitude2                 float64\n",
       "longitude2                float64\n",
       "time                       object\n",
       "tavg                      float64\n",
       "tmin                      float64\n",
       "tmax                      float64\n",
       "prcp                      float64\n",
       "snow                      float64\n",
       "wdir                      float64\n",
       "wspd                      float64\n",
       "wpgt                      float64\n",
       "pres                      float64\n",
       "tsun                      float64\n",
       "new_event_date     datetime64[ns]\n",
       "new_event_date2    datetime64[ns]\n",
       "dtype: object"
      ]
     },
     "execution_count": 97,
     "metadata": {},
     "output_type": "execute_result"
    }
   ],
   "source": [
    "# Check the type of information that each column has.\n",
    "df_1.dtypes"
   ]
  },
  {
   "cell_type": "code",
   "execution_count": 98,
   "metadata": {},
   "outputs": [
    {
     "data": {
      "text/html": [
       "<div>\n",
       "<style scoped>\n",
       "    .dataframe tbody tr th:only-of-type {\n",
       "        vertical-align: middle;\n",
       "    }\n",
       "\n",
       "    .dataframe tbody tr th {\n",
       "        vertical-align: top;\n",
       "    }\n",
       "\n",
       "    .dataframe thead th {\n",
       "        text-align: right;\n",
       "    }\n",
       "</style>\n",
       "<table border=\"1\" class=\"dataframe\">\n",
       "  <thead>\n",
       "    <tr style=\"text-align: right;\">\n",
       "      <th></th>\n",
       "      <th>index</th>\n",
       "      <th>event_date</th>\n",
       "      <th>year</th>\n",
       "      <th>month</th>\n",
       "      <th>day</th>\n",
       "      <th>country_code</th>\n",
       "      <th>latitude</th>\n",
       "      <th>longitude</th>\n",
       "      <th>witness</th>\n",
       "      <th>issue</th>\n",
       "      <th>...</th>\n",
       "      <th>prcp</th>\n",
       "      <th>snow</th>\n",
       "      <th>wdir</th>\n",
       "      <th>wspd</th>\n",
       "      <th>wpgt</th>\n",
       "      <th>pres</th>\n",
       "      <th>tsun</th>\n",
       "      <th>new_event_date</th>\n",
       "      <th>new_event_date2</th>\n",
       "      <th>same_date</th>\n",
       "    </tr>\n",
       "  </thead>\n",
       "  <tbody>\n",
       "    <tr>\n",
       "      <th>0</th>\n",
       "      <td>0</td>\n",
       "      <td>2022-11-04</td>\n",
       "      <td>2022</td>\n",
       "      <td>11</td>\n",
       "      <td>4</td>\n",
       "      <td>ES</td>\n",
       "      <td>41.51019</td>\n",
       "      <td>2.24589</td>\n",
       "      <td>Roger Eritja</td>\n",
       "      <td>CONTINENT_DERIVED_FROM_COORDINATES</td>\n",
       "      <td>...</td>\n",
       "      <td>0.0</td>\n",
       "      <td>NaN</td>\n",
       "      <td>271.0</td>\n",
       "      <td>19.5</td>\n",
       "      <td>42.6</td>\n",
       "      <td>1013.8</td>\n",
       "      <td>NaN</td>\n",
       "      <td>2022-11-04</td>\n",
       "      <td>2022-11-04</td>\n",
       "      <td>True</td>\n",
       "    </tr>\n",
       "    <tr>\n",
       "      <th>1</th>\n",
       "      <td>1</td>\n",
       "      <td>2021-08-27</td>\n",
       "      <td>2021</td>\n",
       "      <td>8</td>\n",
       "      <td>27</td>\n",
       "      <td>IT</td>\n",
       "      <td>44.40289</td>\n",
       "      <td>8.98775</td>\n",
       "      <td>Karin Bakran-Lebl;Ana Klobucar;UNIROMA1;Roger ...</td>\n",
       "      <td>CONTINENT_DERIVED_FROM_COORDINATES</td>\n",
       "      <td>...</td>\n",
       "      <td>0.3</td>\n",
       "      <td>NaN</td>\n",
       "      <td>68.0</td>\n",
       "      <td>13.8</td>\n",
       "      <td>27.8</td>\n",
       "      <td>1007.5</td>\n",
       "      <td>NaN</td>\n",
       "      <td>2021-08-27</td>\n",
       "      <td>2021-08-27</td>\n",
       "      <td>True</td>\n",
       "    </tr>\n",
       "    <tr>\n",
       "      <th>2</th>\n",
       "      <td>3</td>\n",
       "      <td>2022-08-11</td>\n",
       "      <td>2022</td>\n",
       "      <td>8</td>\n",
       "      <td>11</td>\n",
       "      <td>IT</td>\n",
       "      <td>41.70922</td>\n",
       "      <td>12.78512</td>\n",
       "      <td>UNIROMA1;Eleonora Longo;Francesco Severini;Rog...</td>\n",
       "      <td>CONTINENT_DERIVED_FROM_COORDINATES</td>\n",
       "      <td>...</td>\n",
       "      <td>1.1</td>\n",
       "      <td>NaN</td>\n",
       "      <td>173.0</td>\n",
       "      <td>9.0</td>\n",
       "      <td>NaN</td>\n",
       "      <td>1013.9</td>\n",
       "      <td>NaN</td>\n",
       "      <td>2022-08-11</td>\n",
       "      <td>2022-08-11</td>\n",
       "      <td>True</td>\n",
       "    </tr>\n",
       "  </tbody>\n",
       "</table>\n",
       "<p>3 rows × 28 columns</p>\n",
       "</div>"
      ],
      "text/plain": [
       "   index  event_date  year  month  day country_code  latitude  longitude  \\\n",
       "0      0  2022-11-04  2022     11    4           ES  41.51019    2.24589   \n",
       "1      1  2021-08-27  2021      8   27           IT  44.40289    8.98775   \n",
       "2      3  2022-08-11  2022      8   11           IT  41.70922   12.78512   \n",
       "\n",
       "                                             witness  \\\n",
       "0                                       Roger Eritja   \n",
       "1  Karin Bakran-Lebl;Ana Klobucar;UNIROMA1;Roger ...   \n",
       "2  UNIROMA1;Eleonora Longo;Francesco Severini;Rog...   \n",
       "\n",
       "                                issue  ...  prcp snow   wdir  wspd  wpgt  \\\n",
       "0  CONTINENT_DERIVED_FROM_COORDINATES  ...   0.0  NaN  271.0  19.5  42.6   \n",
       "1  CONTINENT_DERIVED_FROM_COORDINATES  ...   0.3  NaN   68.0  13.8  27.8   \n",
       "2  CONTINENT_DERIVED_FROM_COORDINATES  ...   1.1  NaN  173.0   9.0   NaN   \n",
       "\n",
       "     pres  tsun  new_event_date  new_event_date2  same_date  \n",
       "0  1013.8   NaN      2022-11-04       2022-11-04       True  \n",
       "1  1007.5   NaN      2021-08-27       2021-08-27       True  \n",
       "2  1013.9   NaN      2022-08-11       2022-08-11       True  \n",
       "\n",
       "[3 rows x 28 columns]"
      ]
     },
     "execution_count": 98,
     "metadata": {},
     "output_type": "execute_result"
    }
   ],
   "source": [
    "# Check if column 'new_check_date' has the same information as 'new_event_date'.\n",
    "df_1['same_date'] = np.where(df_1['new_event_date']==df_1['new_event_date2'], True, False)\n",
    "df_1.head(3)"
   ]
  },
  {
   "cell_type": "code",
   "execution_count": 99,
   "metadata": {},
   "outputs": [
    {
     "data": {
      "text/plain": [
       "True    14512\n",
       "Name: same_date, dtype: int64"
      ]
     },
     "execution_count": 99,
     "metadata": {},
     "output_type": "execute_result"
    }
   ],
   "source": [
    "# Check if all the rows have True as value in column 'same_date'.\n",
    "df_1['same_date'].value_counts()"
   ]
  },
  {
   "cell_type": "markdown",
   "metadata": {},
   "source": [
    "All values are True, so all the rows have the same date on the same row."
   ]
  },
  {
   "cell_type": "code",
   "execution_count": 100,
   "metadata": {},
   "outputs": [
    {
     "data": {
      "text/plain": [
       "True    14512\n",
       "Name: same_latitude, dtype: int64"
      ]
     },
     "execution_count": 100,
     "metadata": {},
     "output_type": "execute_result"
    }
   ],
   "source": [
    "# Check if column 'latitude' has the same information as 'latitude2'.\n",
    "df_1['same_latitude'] = np.where(df_1['latitude']==df_1['latitude2'], True, False)\n",
    "# Check if all the rows have True as value in column 'same_date'.\n",
    "df_1['same_latitude'].value_counts()"
   ]
  },
  {
   "cell_type": "markdown",
   "metadata": {},
   "source": [
    "All values are True, so all the rows have the same latitude on the same row."
   ]
  },
  {
   "cell_type": "code",
   "execution_count": 101,
   "metadata": {},
   "outputs": [
    {
     "data": {
      "text/plain": [
       "True    14512\n",
       "Name: same_longitude, dtype: int64"
      ]
     },
     "execution_count": 101,
     "metadata": {},
     "output_type": "execute_result"
    }
   ],
   "source": [
    "# Check if column 'latitude' has the same information as 'latitude2'.\n",
    "df_1['same_longitude'] = np.where(df_1['longitude']==df_1['longitude2'], True, False)\n",
    "# Check if all the rows have True as value in column 'same_date'.\n",
    "df_1['same_longitude'].value_counts()"
   ]
  },
  {
   "cell_type": "markdown",
   "metadata": {},
   "source": [
    "All values are True, so all the rows have the same longitude on the same row."
   ]
  },
  {
   "cell_type": "markdown",
   "metadata": {},
   "source": [
    "### 1.2. Drop columns"
   ]
  },
  {
   "cell_type": "code",
   "execution_count": 102,
   "metadata": {},
   "outputs": [
    {
     "data": {
      "text/plain": [
       "Index(['index', 'event_date', 'year', 'month', 'day', 'country_code',\n",
       "       'latitude', 'longitude', 'witness', 'issue', 'index.1', 'event_date2',\n",
       "       'latitude2', 'longitude2', 'time', 'tavg', 'tmin', 'tmax', 'prcp',\n",
       "       'snow', 'wdir', 'wspd', 'wpgt', 'pres', 'tsun', 'new_event_date',\n",
       "       'new_event_date2', 'same_date', 'same_latitude', 'same_longitude'],\n",
       "      dtype='object')"
      ]
     },
     "execution_count": 102,
     "metadata": {},
     "output_type": "execute_result"
    }
   ],
   "source": [
    "df_2=df_1.copy()\n",
    "df_2.columns"
   ]
  },
  {
   "cell_type": "code",
   "execution_count": 103,
   "metadata": {},
   "outputs": [
    {
     "data": {
      "text/plain": [
       "CONTINENT_DERIVED_FROM_COORDINATES    14512\n",
       "Name: issue, dtype: int64"
      ]
     },
     "execution_count": 103,
     "metadata": {},
     "output_type": "execute_result"
    }
   ],
   "source": [
    "df_1['issue'].value_counts()"
   ]
  },
  {
   "cell_type": "code",
   "execution_count": 104,
   "metadata": {},
   "outputs": [
    {
     "name": "stdout",
     "output_type": "stream",
     "text": [
      "<class 'pandas.core.frame.DataFrame'>\n",
      "Int64Index: 14512 entries, 0 to 14511\n",
      "Data columns (total 30 columns):\n",
      " #   Column           Non-Null Count  Dtype         \n",
      "---  ------           --------------  -----         \n",
      " 0   index            14512 non-null  int64         \n",
      " 1   event_date       14512 non-null  object        \n",
      " 2   year             14512 non-null  int64         \n",
      " 3   month            14512 non-null  int64         \n",
      " 4   day              14512 non-null  int64         \n",
      " 5   country_code     14512 non-null  object        \n",
      " 6   latitude         14512 non-null  float64       \n",
      " 7   longitude        14512 non-null  float64       \n",
      " 8   witness          14512 non-null  object        \n",
      " 9   issue            14512 non-null  object        \n",
      " 10  index.1          14512 non-null  int64         \n",
      " 11  event_date2      14512 non-null  object        \n",
      " 12  latitude2        14512 non-null  float64       \n",
      " 13  longitude2       14512 non-null  float64       \n",
      " 14  time             12485 non-null  object        \n",
      " 15  tavg             12480 non-null  float64       \n",
      " 16  tmin             12454 non-null  float64       \n",
      " 17  tmax             12453 non-null  float64       \n",
      " 18  prcp             11072 non-null  float64       \n",
      " 19  snow             76 non-null     float64       \n",
      " 20  wdir             10404 non-null  float64       \n",
      " 21  wspd             11992 non-null  float64       \n",
      " 22  wpgt             4882 non-null   float64       \n",
      " 23  pres             11384 non-null  float64       \n",
      " 24  tsun             1 non-null      float64       \n",
      " 25  new_event_date   14512 non-null  datetime64[ns]\n",
      " 26  new_event_date2  14512 non-null  datetime64[ns]\n",
      " 27  same_date        14512 non-null  bool          \n",
      " 28  same_latitude    14512 non-null  bool          \n",
      " 29  same_longitude   14512 non-null  bool          \n",
      "dtypes: bool(3), datetime64[ns](2), float64(14), int64(5), object(6)\n",
      "memory usage: 3.1+ MB\n"
     ]
    }
   ],
   "source": [
    "df_1.info()"
   ]
  },
  {
   "cell_type": "markdown",
   "metadata": {},
   "source": [
    "We can see some interesting information about some columns:\n",
    "- 'snow': only has 76 rows with data, so it can not be used to predict.\n",
    "- 'wpgt': has 4882 rows with data, it will not be used to predict.\n",
    "- 'tsun': only has 1 row with data, so it can not be used to predict."
   ]
  },
  {
   "cell_type": "code",
   "execution_count": 105,
   "metadata": {},
   "outputs": [
    {
     "data": {
      "text/plain": [
       "Index(['year', 'month', 'day', 'country_code', 'latitude', 'longitude',\n",
       "       'witness', 'index.1', 'tavg', 'tmin', 'tmax', 'prcp', 'wdir', 'wspd',\n",
       "       'pres', 'new_event_date'],\n",
       "      dtype='object')"
      ]
     },
     "execution_count": 105,
     "metadata": {},
     "output_type": "execute_result"
    }
   ],
   "source": [
    "# Create a list with the columns that must be deleted.\n",
    "columns_to_delete=['index', 'event_date','event_date2','latitude2', 'longitude2','same_date','time','wpgt',\n",
    "                     'same_date', 'same_latitude', 'same_longitude','new_event_date2','issue', 'snow','tsun']\n",
    "df_2=df_2.drop(columns_to_delete,axis=1,inplace=False)\n",
    "df_2.columns"
   ]
  },
  {
   "cell_type": "markdown",
   "metadata": {},
   "source": [
    "### 1.3. Change columns names"
   ]
  },
  {
   "cell_type": "code",
   "execution_count": 106,
   "metadata": {},
   "outputs": [
    {
     "data": {
      "text/plain": [
       "Index(['year', 'month', 'day', 'country_code', 'latitude', 'longitude',\n",
       "       'witness', 'index.1', 'tavg', 'tmin', 'tmax', 'prcp', 'wdir', 'wspd',\n",
       "       'pres', 'new_event_date'],\n",
       "      dtype='object')"
      ]
     },
     "execution_count": 106,
     "metadata": {},
     "output_type": "execute_result"
    }
   ],
   "source": [
    "df_3=df_2.copy()\n",
    "df_3.columns"
   ]
  },
  {
   "cell_type": "code",
   "execution_count": 107,
   "metadata": {},
   "outputs": [],
   "source": [
    "# Change columns names.\n",
    "new_columns_names={'year':'year', 'month':'month','day':'day', 'country_code':'country_code',\n",
    "                    'latitude':'latitude','longitude':'longitude', 'witness':'witness',\n",
    "                     'tavg':'temp_avg', 'tmin':'temp_min','tmax':'temp_max', 'prcp':'precipitation',\n",
    "                     'wdir':'wind_dir', 'wspd':'wind_speed','pres':'pressure','new_event_date':'event_date'}"
   ]
  },
  {
   "cell_type": "code",
   "execution_count": 108,
   "metadata": {},
   "outputs": [
    {
     "data": {
      "text/plain": [
       "Index(['year', 'month', 'day', 'country_code', 'latitude', 'longitude',\n",
       "       'witness', 'index.1', 'temp_avg', 'temp_min', 'temp_max',\n",
       "       'precipitation', 'wind_dir', 'wind_speed', 'pressure', 'event_date'],\n",
       "      dtype='object')"
      ]
     },
     "execution_count": 108,
     "metadata": {},
     "output_type": "execute_result"
    }
   ],
   "source": [
    "df_3.rename(columns=new_columns_names,inplace=True)\n",
    "\n",
    "# Check columns names now.\n",
    "df_3.columns"
   ]
  },
  {
   "cell_type": "code",
   "execution_count": 109,
   "metadata": {},
   "outputs": [
    {
     "name": "stdout",
     "output_type": "stream",
     "text": [
      "<class 'pandas.core.frame.DataFrame'>\n",
      "Int64Index: 14512 entries, 0 to 14511\n",
      "Data columns (total 16 columns):\n",
      " #   Column         Non-Null Count  Dtype         \n",
      "---  ------         --------------  -----         \n",
      " 0   year           14512 non-null  int64         \n",
      " 1   month          14512 non-null  int64         \n",
      " 2   day            14512 non-null  int64         \n",
      " 3   country_code   14512 non-null  object        \n",
      " 4   latitude       14512 non-null  float64       \n",
      " 5   longitude      14512 non-null  float64       \n",
      " 6   witness        14512 non-null  object        \n",
      " 7   index.1        14512 non-null  int64         \n",
      " 8   temp_avg       12480 non-null  float64       \n",
      " 9   temp_min       12454 non-null  float64       \n",
      " 10  temp_max       12453 non-null  float64       \n",
      " 11  precipitation  11072 non-null  float64       \n",
      " 12  wind_dir       10404 non-null  float64       \n",
      " 13  wind_speed     11992 non-null  float64       \n",
      " 14  pressure       11384 non-null  float64       \n",
      " 15  event_date     14512 non-null  datetime64[ns]\n",
      "dtypes: datetime64[ns](1), float64(9), int64(4), object(2)\n",
      "memory usage: 1.9+ MB\n"
     ]
    }
   ],
   "source": [
    "df_3.info()"
   ]
  },
  {
   "cell_type": "markdown",
   "metadata": {},
   "source": [
    "### 1.4 Delete 'wind_dir' null values"
   ]
  },
  {
   "cell_type": "markdown",
   "metadata": {},
   "source": [
    "Checking weather columns it can be seen that wind direction ('wind_dir') has 10404 non-null values, so it has more than 4000 null values. Those rows will be deleted because the dataframe still has enough rows."
   ]
  },
  {
   "cell_type": "code",
   "execution_count": 110,
   "metadata": {},
   "outputs": [
    {
     "data": {
      "text/html": [
       "<div>\n",
       "<style scoped>\n",
       "    .dataframe tbody tr th:only-of-type {\n",
       "        vertical-align: middle;\n",
       "    }\n",
       "\n",
       "    .dataframe tbody tr th {\n",
       "        vertical-align: top;\n",
       "    }\n",
       "\n",
       "    .dataframe thead th {\n",
       "        text-align: right;\n",
       "    }\n",
       "</style>\n",
       "<table border=\"1\" class=\"dataframe\">\n",
       "  <thead>\n",
       "    <tr style=\"text-align: right;\">\n",
       "      <th></th>\n",
       "      <th>year</th>\n",
       "      <th>month</th>\n",
       "      <th>day</th>\n",
       "      <th>country_code</th>\n",
       "      <th>latitude</th>\n",
       "      <th>longitude</th>\n",
       "      <th>witness</th>\n",
       "      <th>index.1</th>\n",
       "      <th>temp_avg</th>\n",
       "      <th>temp_min</th>\n",
       "      <th>temp_max</th>\n",
       "      <th>precipitation</th>\n",
       "      <th>wind_dir</th>\n",
       "      <th>wind_speed</th>\n",
       "      <th>pressure</th>\n",
       "      <th>event_date</th>\n",
       "    </tr>\n",
       "  </thead>\n",
       "  <tbody>\n",
       "    <tr>\n",
       "      <th>6</th>\n",
       "      <td>2022</td>\n",
       "      <td>6</td>\n",
       "      <td>22</td>\n",
       "      <td>IT</td>\n",
       "      <td>40.30343</td>\n",
       "      <td>17.72688</td>\n",
       "      <td>Roger Eritja;UNIROMA1</td>\n",
       "      <td>6</td>\n",
       "      <td>NaN</td>\n",
       "      <td>NaN</td>\n",
       "      <td>NaN</td>\n",
       "      <td>NaN</td>\n",
       "      <td>NaN</td>\n",
       "      <td>NaN</td>\n",
       "      <td>NaN</td>\n",
       "      <td>2022-06-22</td>\n",
       "    </tr>\n",
       "    <tr>\n",
       "      <th>14</th>\n",
       "      <td>2022</td>\n",
       "      <td>6</td>\n",
       "      <td>23</td>\n",
       "      <td>IT</td>\n",
       "      <td>44.83439</td>\n",
       "      <td>11.13635</td>\n",
       "      <td>Roger Eritja;UNIROMA1</td>\n",
       "      <td>14</td>\n",
       "      <td>NaN</td>\n",
       "      <td>NaN</td>\n",
       "      <td>NaN</td>\n",
       "      <td>NaN</td>\n",
       "      <td>NaN</td>\n",
       "      <td>NaN</td>\n",
       "      <td>NaN</td>\n",
       "      <td>2022-06-23</td>\n",
       "    </tr>\n",
       "    <tr>\n",
       "      <th>17</th>\n",
       "      <td>2021</td>\n",
       "      <td>8</td>\n",
       "      <td>5</td>\n",
       "      <td>IT</td>\n",
       "      <td>44.38320</td>\n",
       "      <td>7.53769</td>\n",
       "      <td>Ana Klobucar;UNIROMA1;Hugo Costa Osório;Roger ...</td>\n",
       "      <td>17</td>\n",
       "      <td>NaN</td>\n",
       "      <td>NaN</td>\n",
       "      <td>NaN</td>\n",
       "      <td>NaN</td>\n",
       "      <td>NaN</td>\n",
       "      <td>NaN</td>\n",
       "      <td>NaN</td>\n",
       "      <td>2021-08-05</td>\n",
       "    </tr>\n",
       "  </tbody>\n",
       "</table>\n",
       "</div>"
      ],
      "text/plain": [
       "    year  month  day country_code  latitude  longitude  \\\n",
       "6   2022      6   22           IT  40.30343   17.72688   \n",
       "14  2022      6   23           IT  44.83439   11.13635   \n",
       "17  2021      8    5           IT  44.38320    7.53769   \n",
       "\n",
       "                                              witness  index.1  temp_avg  \\\n",
       "6                               Roger Eritja;UNIROMA1        6       NaN   \n",
       "14                              Roger Eritja;UNIROMA1       14       NaN   \n",
       "17  Ana Klobucar;UNIROMA1;Hugo Costa Osório;Roger ...       17       NaN   \n",
       "\n",
       "    temp_min  temp_max  precipitation  wind_dir  wind_speed  pressure  \\\n",
       "6        NaN       NaN            NaN       NaN         NaN       NaN   \n",
       "14       NaN       NaN            NaN       NaN         NaN       NaN   \n",
       "17       NaN       NaN            NaN       NaN         NaN       NaN   \n",
       "\n",
       "   event_date  \n",
       "6  2022-06-22  \n",
       "14 2022-06-23  \n",
       "17 2021-08-05  "
      ]
     },
     "execution_count": 110,
     "metadata": {},
     "output_type": "execute_result"
    }
   ],
   "source": [
    "null_wind_rows=df_3[df_3['wind_dir'].isnull()]\n",
    "null_wind_rows.head(3)"
   ]
  },
  {
   "cell_type": "code",
   "execution_count": 111,
   "metadata": {},
   "outputs": [
    {
     "data": {
      "text/plain": [
       "4108"
      ]
     },
     "execution_count": 111,
     "metadata": {},
     "output_type": "execute_result"
    }
   ],
   "source": [
    "null_index=null_wind_rows.index\n",
    "len(null_index)"
   ]
  },
  {
   "cell_type": "code",
   "execution_count": 112,
   "metadata": {},
   "outputs": [
    {
     "data": {
      "text/plain": [
       "0"
      ]
     },
     "execution_count": 112,
     "metadata": {},
     "output_type": "execute_result"
    }
   ],
   "source": [
    "df_4=df_3.drop(null_index,axis=0,inplace=False)\n",
    "df_4['wind_dir'].isnull().sum()"
   ]
  },
  {
   "cell_type": "code",
   "execution_count": 113,
   "metadata": {},
   "outputs": [
    {
     "name": "stdout",
     "output_type": "stream",
     "text": [
      "This DataFrame has 10404 rows and 16 columns.\n"
     ]
    }
   ],
   "source": [
    "print(f'This DataFrame has {df_4.shape[0]} rows and {df_4.shape[1]} columns.')"
   ]
  },
  {
   "cell_type": "markdown",
   "metadata": {},
   "source": [
    "## 2. Get location information"
   ]
  },
  {
   "cell_type": "markdown",
   "metadata": {},
   "source": [
    "To get the number of mosquito per postal code geopy library will be used."
   ]
  },
  {
   "cell_type": "code",
   "execution_count": 151,
   "metadata": {},
   "outputs": [],
   "source": [
    "from geopy.geocoders import Nominatim\n",
    "from geopy.exc import GeocoderTimedOut\n",
    "geolocator = Nominatim(user_agent=\"new\")\n",
    "from tqdm import tqdm\n",
    "tqdm.pandas()\n",
    "import time\n",
    "from time import sleep\n",
    "import requests"
   ]
  },
  {
   "cell_type": "code",
   "execution_count": 115,
   "metadata": {},
   "outputs": [
    {
     "data": {
      "text/plain": [
       "38"
      ]
     },
     "execution_count": 115,
     "metadata": {},
     "output_type": "execute_result"
    }
   ],
   "source": [
    "len(df_4['country_code'].unique())"
   ]
  },
  {
   "cell_type": "code",
   "execution_count": 116,
   "metadata": {},
   "outputs": [
    {
     "data": {
      "text/html": [
       "<div>\n",
       "<style scoped>\n",
       "    .dataframe tbody tr th:only-of-type {\n",
       "        vertical-align: middle;\n",
       "    }\n",
       "\n",
       "    .dataframe tbody tr th {\n",
       "        vertical-align: top;\n",
       "    }\n",
       "\n",
       "    .dataframe thead th {\n",
       "        text-align: right;\n",
       "    }\n",
       "</style>\n",
       "<table border=\"1\" class=\"dataframe\">\n",
       "  <thead>\n",
       "    <tr style=\"text-align: right;\">\n",
       "      <th></th>\n",
       "      <th>year</th>\n",
       "      <th>month</th>\n",
       "      <th>day</th>\n",
       "      <th>country_code</th>\n",
       "      <th>latitude</th>\n",
       "      <th>longitude</th>\n",
       "      <th>witness</th>\n",
       "      <th>index.1</th>\n",
       "      <th>temp_avg</th>\n",
       "      <th>temp_min</th>\n",
       "      <th>temp_max</th>\n",
       "      <th>precipitation</th>\n",
       "      <th>wind_dir</th>\n",
       "      <th>wind_speed</th>\n",
       "      <th>pressure</th>\n",
       "      <th>event_date</th>\n",
       "    </tr>\n",
       "  </thead>\n",
       "  <tbody>\n",
       "    <tr>\n",
       "      <th>0</th>\n",
       "      <td>2022</td>\n",
       "      <td>11</td>\n",
       "      <td>4</td>\n",
       "      <td>ES</td>\n",
       "      <td>41.51019</td>\n",
       "      <td>2.24589</td>\n",
       "      <td>Roger Eritja</td>\n",
       "      <td>0</td>\n",
       "      <td>15.4</td>\n",
       "      <td>11.0</td>\n",
       "      <td>20.0</td>\n",
       "      <td>0.0</td>\n",
       "      <td>271.0</td>\n",
       "      <td>19.5</td>\n",
       "      <td>1013.8</td>\n",
       "      <td>2022-11-04</td>\n",
       "    </tr>\n",
       "    <tr>\n",
       "      <th>1</th>\n",
       "      <td>2021</td>\n",
       "      <td>8</td>\n",
       "      <td>27</td>\n",
       "      <td>IT</td>\n",
       "      <td>44.40289</td>\n",
       "      <td>8.98775</td>\n",
       "      <td>Karin Bakran-Lebl;Ana Klobucar;UNIROMA1;Roger ...</td>\n",
       "      <td>1</td>\n",
       "      <td>25.0</td>\n",
       "      <td>23.0</td>\n",
       "      <td>28.1</td>\n",
       "      <td>0.3</td>\n",
       "      <td>68.0</td>\n",
       "      <td>13.8</td>\n",
       "      <td>1007.5</td>\n",
       "      <td>2021-08-27</td>\n",
       "    </tr>\n",
       "    <tr>\n",
       "      <th>2</th>\n",
       "      <td>2022</td>\n",
       "      <td>8</td>\n",
       "      <td>11</td>\n",
       "      <td>IT</td>\n",
       "      <td>41.70922</td>\n",
       "      <td>12.78512</td>\n",
       "      <td>UNIROMA1;Eleonora Longo;Francesco Severini;Rog...</td>\n",
       "      <td>2</td>\n",
       "      <td>27.7</td>\n",
       "      <td>22.0</td>\n",
       "      <td>32.0</td>\n",
       "      <td>1.1</td>\n",
       "      <td>173.0</td>\n",
       "      <td>9.0</td>\n",
       "      <td>1013.9</td>\n",
       "      <td>2022-08-11</td>\n",
       "    </tr>\n",
       "    <tr>\n",
       "      <th>3</th>\n",
       "      <td>2022</td>\n",
       "      <td>6</td>\n",
       "      <td>27</td>\n",
       "      <td>HU</td>\n",
       "      <td>47.46323</td>\n",
       "      <td>19.17698</td>\n",
       "      <td>Anonymous expert;Kornélia Kurucz;Gábor Kemenes...</td>\n",
       "      <td>3</td>\n",
       "      <td>26.6</td>\n",
       "      <td>17.7</td>\n",
       "      <td>33.1</td>\n",
       "      <td>0.0</td>\n",
       "      <td>89.0</td>\n",
       "      <td>6.2</td>\n",
       "      <td>1016.6</td>\n",
       "      <td>2022-06-27</td>\n",
       "    </tr>\n",
       "    <tr>\n",
       "      <th>4</th>\n",
       "      <td>2021</td>\n",
       "      <td>10</td>\n",
       "      <td>20</td>\n",
       "      <td>ES</td>\n",
       "      <td>39.43645</td>\n",
       "      <td>2.75412</td>\n",
       "      <td>Maria Angeles Puig;Mikel Bengoa Paulis;Ignacio...</td>\n",
       "      <td>4</td>\n",
       "      <td>18.3</td>\n",
       "      <td>17.7</td>\n",
       "      <td>24.8</td>\n",
       "      <td>0.0</td>\n",
       "      <td>83.0</td>\n",
       "      <td>7.1</td>\n",
       "      <td>1023.5</td>\n",
       "      <td>2021-10-20</td>\n",
       "    </tr>\n",
       "    <tr>\n",
       "      <th>5</th>\n",
       "      <td>2022</td>\n",
       "      <td>8</td>\n",
       "      <td>26</td>\n",
       "      <td>IT</td>\n",
       "      <td>43.76617</td>\n",
       "      <td>11.27971</td>\n",
       "      <td>UNIROMA1;Roger Eritja</td>\n",
       "      <td>5</td>\n",
       "      <td>26.1</td>\n",
       "      <td>19.9</td>\n",
       "      <td>33.3</td>\n",
       "      <td>0.3</td>\n",
       "      <td>34.0</td>\n",
       "      <td>5.4</td>\n",
       "      <td>1010.9</td>\n",
       "      <td>2022-08-26</td>\n",
       "    </tr>\n",
       "    <tr>\n",
       "      <th>7</th>\n",
       "      <td>2022</td>\n",
       "      <td>8</td>\n",
       "      <td>16</td>\n",
       "      <td>ES</td>\n",
       "      <td>37.39345</td>\n",
       "      <td>-6.08236</td>\n",
       "      <td>Isis Sanpera-Calbet;Mikel Alexander González;D...</td>\n",
       "      <td>7</td>\n",
       "      <td>24.9</td>\n",
       "      <td>18.7</td>\n",
       "      <td>30.9</td>\n",
       "      <td>0.0</td>\n",
       "      <td>256.0</td>\n",
       "      <td>14.2</td>\n",
       "      <td>1011.3</td>\n",
       "      <td>2022-08-16</td>\n",
       "    </tr>\n",
       "    <tr>\n",
       "      <th>8</th>\n",
       "      <td>2022</td>\n",
       "      <td>8</td>\n",
       "      <td>13</td>\n",
       "      <td>IT</td>\n",
       "      <td>45.57203</td>\n",
       "      <td>12.10044</td>\n",
       "      <td>UNIROMA1;Eleonora Longo;Francesco Severini;Rog...</td>\n",
       "      <td>8</td>\n",
       "      <td>23.1</td>\n",
       "      <td>16.0</td>\n",
       "      <td>28.3</td>\n",
       "      <td>0.0</td>\n",
       "      <td>31.0</td>\n",
       "      <td>7.2</td>\n",
       "      <td>1013.0</td>\n",
       "      <td>2022-08-13</td>\n",
       "    </tr>\n",
       "    <tr>\n",
       "      <th>9</th>\n",
       "      <td>2022</td>\n",
       "      <td>6</td>\n",
       "      <td>22</td>\n",
       "      <td>IT</td>\n",
       "      <td>41.83784</td>\n",
       "      <td>12.69665</td>\n",
       "      <td>Roger Eritja;UNIROMA1</td>\n",
       "      <td>9</td>\n",
       "      <td>27.5</td>\n",
       "      <td>20.1</td>\n",
       "      <td>33.8</td>\n",
       "      <td>0.0</td>\n",
       "      <td>176.0</td>\n",
       "      <td>10.1</td>\n",
       "      <td>1014.0</td>\n",
       "      <td>2022-06-22</td>\n",
       "    </tr>\n",
       "    <tr>\n",
       "      <th>10</th>\n",
       "      <td>2022</td>\n",
       "      <td>6</td>\n",
       "      <td>26</td>\n",
       "      <td>HU</td>\n",
       "      <td>47.47027</td>\n",
       "      <td>19.04295</td>\n",
       "      <td>Kornélia Kurucz;Anonymous expert;Gábor Kemenes...</td>\n",
       "      <td>10</td>\n",
       "      <td>25.2</td>\n",
       "      <td>18.7</td>\n",
       "      <td>31.5</td>\n",
       "      <td>0.0</td>\n",
       "      <td>277.0</td>\n",
       "      <td>7.2</td>\n",
       "      <td>1014.8</td>\n",
       "      <td>2022-06-26</td>\n",
       "    </tr>\n",
       "  </tbody>\n",
       "</table>\n",
       "</div>"
      ],
      "text/plain": [
       "    year  month  day country_code  latitude  longitude  \\\n",
       "0   2022     11    4           ES  41.51019    2.24589   \n",
       "1   2021      8   27           IT  44.40289    8.98775   \n",
       "2   2022      8   11           IT  41.70922   12.78512   \n",
       "3   2022      6   27           HU  47.46323   19.17698   \n",
       "4   2021     10   20           ES  39.43645    2.75412   \n",
       "5   2022      8   26           IT  43.76617   11.27971   \n",
       "7   2022      8   16           ES  37.39345   -6.08236   \n",
       "8   2022      8   13           IT  45.57203   12.10044   \n",
       "9   2022      6   22           IT  41.83784   12.69665   \n",
       "10  2022      6   26           HU  47.47027   19.04295   \n",
       "\n",
       "                                              witness  index.1  temp_avg  \\\n",
       "0                                        Roger Eritja        0      15.4   \n",
       "1   Karin Bakran-Lebl;Ana Klobucar;UNIROMA1;Roger ...        1      25.0   \n",
       "2   UNIROMA1;Eleonora Longo;Francesco Severini;Rog...        2      27.7   \n",
       "3   Anonymous expert;Kornélia Kurucz;Gábor Kemenes...        3      26.6   \n",
       "4   Maria Angeles Puig;Mikel Bengoa Paulis;Ignacio...        4      18.3   \n",
       "5                               UNIROMA1;Roger Eritja        5      26.1   \n",
       "7   Isis Sanpera-Calbet;Mikel Alexander González;D...        7      24.9   \n",
       "8   UNIROMA1;Eleonora Longo;Francesco Severini;Rog...        8      23.1   \n",
       "9                               Roger Eritja;UNIROMA1        9      27.5   \n",
       "10  Kornélia Kurucz;Anonymous expert;Gábor Kemenes...       10      25.2   \n",
       "\n",
       "    temp_min  temp_max  precipitation  wind_dir  wind_speed  pressure  \\\n",
       "0       11.0      20.0            0.0     271.0        19.5    1013.8   \n",
       "1       23.0      28.1            0.3      68.0        13.8    1007.5   \n",
       "2       22.0      32.0            1.1     173.0         9.0    1013.9   \n",
       "3       17.7      33.1            0.0      89.0         6.2    1016.6   \n",
       "4       17.7      24.8            0.0      83.0         7.1    1023.5   \n",
       "5       19.9      33.3            0.3      34.0         5.4    1010.9   \n",
       "7       18.7      30.9            0.0     256.0        14.2    1011.3   \n",
       "8       16.0      28.3            0.0      31.0         7.2    1013.0   \n",
       "9       20.1      33.8            0.0     176.0        10.1    1014.0   \n",
       "10      18.7      31.5            0.0     277.0         7.2    1014.8   \n",
       "\n",
       "   event_date  \n",
       "0  2022-11-04  \n",
       "1  2021-08-27  \n",
       "2  2022-08-11  \n",
       "3  2022-06-27  \n",
       "4  2021-10-20  \n",
       "5  2022-08-26  \n",
       "7  2022-08-16  \n",
       "8  2022-08-13  \n",
       "9  2022-06-22  \n",
       "10 2022-06-26  "
      ]
     },
     "execution_count": 116,
     "metadata": {},
     "output_type": "execute_result"
    }
   ],
   "source": [
    "df_test1=df_4.head(10)\n",
    "df_test1"
   ]
  },
  {
   "cell_type": "code",
   "execution_count": 117,
   "metadata": {},
   "outputs": [],
   "source": [
    "def get_country_short(lat,lon):\n",
    "    pos = str(lat) + ', ' + str(lon)\n",
    "    locations = geolocator.reverse(pos)\n",
    "    return locations.raw#['address']['postcode']"
   ]
  },
  {
   "cell_type": "code",
   "execution_count": 118,
   "metadata": {},
   "outputs": [
    {
     "data": {
      "text/plain": [
       "{'place_id': 87535041,\n",
       " 'licence': 'Data © OpenStreetMap contributors, ODbL 1.0. http://osm.org/copyright',\n",
       " 'osm_type': 'way',\n",
       " 'osm_id': 311983099,\n",
       " 'lat': '47.4631765',\n",
       " 'lon': '19.177015822170688',\n",
       " 'class': 'building',\n",
       " 'type': 'yes',\n",
       " 'place_rank': 30,\n",
       " 'importance': 9.99999999995449e-06,\n",
       " 'addresstype': 'building',\n",
       " 'name': '',\n",
       " 'display_name': '55, Zsolt utca, Erzsébettelep, XVIII. kerület, Budapest, Közép-Magyarország, 1183, Magyarország',\n",
       " 'address': {'house_number': '55',\n",
       "  'road': 'Zsolt utca',\n",
       "  'suburb': 'Erzsébettelep',\n",
       "  'district': 'XVIII. kerület',\n",
       "  'city': 'Budapest',\n",
       "  'ISO3166-2-lvl6': 'HU-BU',\n",
       "  'region': 'Közép-Magyarország',\n",
       "  'postcode': '1183',\n",
       "  'country': 'Magyarország',\n",
       "  'country_code': 'hu'},\n",
       " 'boundingbox': ['47.4631165', '47.4632365', '19.1769142', '19.1771174']}"
      ]
     },
     "execution_count": 118,
     "metadata": {},
     "output_type": "execute_result"
    }
   ],
   "source": [
    "get_country_short(47.46323,19.17698)\n"
   ]
  },
  {
   "cell_type": "code",
   "execution_count": 119,
   "metadata": {},
   "outputs": [
    {
     "data": {
      "text/plain": [
       "{'place_id': 80846324,\n",
       " 'licence': 'Data © OpenStreetMap contributors, ODbL 1.0. http://osm.org/copyright',\n",
       " 'osm_type': 'way',\n",
       " 'osm_id': 498502819,\n",
       " 'lat': '40.303382996015685',\n",
       " 'lon': '17.726909989184243',\n",
       " 'class': 'highway',\n",
       " 'type': 'secondary',\n",
       " 'place_rank': 26,\n",
       " 'importance': 0.10000999999999993,\n",
       " 'addresstype': 'road',\n",
       " 'name': 'Via del Mare',\n",
       " 'display_name': 'Via del Mare, Quota 10, Torre Colimena, Manduria, Taranto, Puglia, Italia',\n",
       " 'address': {'road': 'Via del Mare',\n",
       "  'neighbourhood': 'Quota 10',\n",
       "  'village': 'Torre Colimena',\n",
       "  'town': 'Manduria',\n",
       "  'county': 'Taranto',\n",
       "  'ISO3166-2-lvl6': 'IT-TA',\n",
       "  'state': 'Puglia',\n",
       "  'ISO3166-2-lvl4': 'IT-75',\n",
       "  'country': 'Italia',\n",
       "  'country_code': 'it'},\n",
       " 'boundingbox': ['40.3019054', '40.3047878', '17.7245981', '17.7439692']}"
      ]
     },
     "execution_count": 119,
     "metadata": {},
     "output_type": "execute_result"
    }
   ],
   "source": [
    "get_country_short(40.30343,17.72688)"
   ]
  },
  {
   "cell_type": "code",
   "execution_count": 164,
   "metadata": {},
   "outputs": [],
   "source": [
    "def get_country(row):\n",
    "    pos = str(row['latitude']) + ', ' + str(row['longitude'])\n",
    "    locations = geolocator.reverse(pos)\n",
    "    try:\n",
    "        sleep(0.01)\n",
    "        return locations.raw['address']['postcode']\n",
    "    except:\n",
    "        sleep(0.01)\n",
    "        return np.nan"
   ]
  },
  {
   "cell_type": "code",
   "execution_count": 165,
   "metadata": {},
   "outputs": [
    {
     "name": "stderr",
     "output_type": "stream",
     "text": [
      "/tmp/ipykernel_9229/3876475917.py:1: SettingWithCopyWarning: \n",
      "A value is trying to be set on a copy of a slice from a DataFrame.\n",
      "Try using .loc[row_indexer,col_indexer] = value instead\n",
      "\n",
      "See the caveats in the documentation: https://pandas.pydata.org/pandas-docs/stable/user_guide/indexing.html#returning-a-view-versus-a-copy\n",
      "  df_test1['post_code'] = df_test1.apply(lambda row: get_country(row), axis = 1)\n"
     ]
    }
   ],
   "source": [
    "df_test1['post_code'] = df_test1.apply(lambda row: get_country(row), axis = 1)"
   ]
  },
  {
   "cell_type": "code",
   "execution_count": 122,
   "metadata": {},
   "outputs": [
    {
     "data": {
      "text/html": [
       "<div>\n",
       "<style scoped>\n",
       "    .dataframe tbody tr th:only-of-type {\n",
       "        vertical-align: middle;\n",
       "    }\n",
       "\n",
       "    .dataframe tbody tr th {\n",
       "        vertical-align: top;\n",
       "    }\n",
       "\n",
       "    .dataframe thead th {\n",
       "        text-align: right;\n",
       "    }\n",
       "</style>\n",
       "<table border=\"1\" class=\"dataframe\">\n",
       "  <thead>\n",
       "    <tr style=\"text-align: right;\">\n",
       "      <th></th>\n",
       "      <th>year</th>\n",
       "      <th>month</th>\n",
       "      <th>day</th>\n",
       "      <th>country_code</th>\n",
       "      <th>latitude</th>\n",
       "      <th>longitude</th>\n",
       "      <th>witness</th>\n",
       "      <th>index.1</th>\n",
       "      <th>temp_avg</th>\n",
       "      <th>temp_min</th>\n",
       "      <th>temp_max</th>\n",
       "      <th>precipitation</th>\n",
       "      <th>wind_dir</th>\n",
       "      <th>wind_speed</th>\n",
       "      <th>pressure</th>\n",
       "      <th>event_date</th>\n",
       "      <th>post_code</th>\n",
       "    </tr>\n",
       "  </thead>\n",
       "  <tbody>\n",
       "    <tr>\n",
       "      <th>0</th>\n",
       "      <td>2022</td>\n",
       "      <td>11</td>\n",
       "      <td>4</td>\n",
       "      <td>ES</td>\n",
       "      <td>41.51019</td>\n",
       "      <td>2.24589</td>\n",
       "      <td>Roger Eritja</td>\n",
       "      <td>0</td>\n",
       "      <td>15.4</td>\n",
       "      <td>11.0</td>\n",
       "      <td>20.0</td>\n",
       "      <td>0.0</td>\n",
       "      <td>271.0</td>\n",
       "      <td>19.5</td>\n",
       "      <td>1013.8</td>\n",
       "      <td>2022-11-04</td>\n",
       "      <td>08105</td>\n",
       "    </tr>\n",
       "    <tr>\n",
       "      <th>1</th>\n",
       "      <td>2021</td>\n",
       "      <td>8</td>\n",
       "      <td>27</td>\n",
       "      <td>IT</td>\n",
       "      <td>44.40289</td>\n",
       "      <td>8.98775</td>\n",
       "      <td>Karin Bakran-Lebl;Ana Klobucar;UNIROMA1;Roger ...</td>\n",
       "      <td>1</td>\n",
       "      <td>25.0</td>\n",
       "      <td>23.0</td>\n",
       "      <td>28.1</td>\n",
       "      <td>0.3</td>\n",
       "      <td>68.0</td>\n",
       "      <td>13.8</td>\n",
       "      <td>1007.5</td>\n",
       "      <td>2021-08-27</td>\n",
       "      <td>16147</td>\n",
       "    </tr>\n",
       "    <tr>\n",
       "      <th>2</th>\n",
       "      <td>2022</td>\n",
       "      <td>8</td>\n",
       "      <td>11</td>\n",
       "      <td>IT</td>\n",
       "      <td>41.70922</td>\n",
       "      <td>12.78512</td>\n",
       "      <td>UNIROMA1;Eleonora Longo;Francesco Severini;Rog...</td>\n",
       "      <td>2</td>\n",
       "      <td>27.7</td>\n",
       "      <td>22.0</td>\n",
       "      <td>32.0</td>\n",
       "      <td>1.1</td>\n",
       "      <td>173.0</td>\n",
       "      <td>9.0</td>\n",
       "      <td>1013.9</td>\n",
       "      <td>2022-08-11</td>\n",
       "      <td>00049</td>\n",
       "    </tr>\n",
       "    <tr>\n",
       "      <th>3</th>\n",
       "      <td>2022</td>\n",
       "      <td>6</td>\n",
       "      <td>27</td>\n",
       "      <td>HU</td>\n",
       "      <td>47.46323</td>\n",
       "      <td>19.17698</td>\n",
       "      <td>Anonymous expert;Kornélia Kurucz;Gábor Kemenes...</td>\n",
       "      <td>3</td>\n",
       "      <td>26.6</td>\n",
       "      <td>17.7</td>\n",
       "      <td>33.1</td>\n",
       "      <td>0.0</td>\n",
       "      <td>89.0</td>\n",
       "      <td>6.2</td>\n",
       "      <td>1016.6</td>\n",
       "      <td>2022-06-27</td>\n",
       "      <td>1183</td>\n",
       "    </tr>\n",
       "    <tr>\n",
       "      <th>4</th>\n",
       "      <td>2021</td>\n",
       "      <td>10</td>\n",
       "      <td>20</td>\n",
       "      <td>ES</td>\n",
       "      <td>39.43645</td>\n",
       "      <td>2.75412</td>\n",
       "      <td>Maria Angeles Puig;Mikel Bengoa Paulis;Ignacio...</td>\n",
       "      <td>4</td>\n",
       "      <td>18.3</td>\n",
       "      <td>17.7</td>\n",
       "      <td>24.8</td>\n",
       "      <td>0.0</td>\n",
       "      <td>83.0</td>\n",
       "      <td>7.1</td>\n",
       "      <td>1023.5</td>\n",
       "      <td>2021-10-20</td>\n",
       "      <td>07609</td>\n",
       "    </tr>\n",
       "    <tr>\n",
       "      <th>5</th>\n",
       "      <td>2022</td>\n",
       "      <td>8</td>\n",
       "      <td>26</td>\n",
       "      <td>IT</td>\n",
       "      <td>43.76617</td>\n",
       "      <td>11.27971</td>\n",
       "      <td>UNIROMA1;Roger Eritja</td>\n",
       "      <td>5</td>\n",
       "      <td>26.1</td>\n",
       "      <td>19.9</td>\n",
       "      <td>33.3</td>\n",
       "      <td>0.3</td>\n",
       "      <td>34.0</td>\n",
       "      <td>5.4</td>\n",
       "      <td>1010.9</td>\n",
       "      <td>2022-08-26</td>\n",
       "      <td>50136</td>\n",
       "    </tr>\n",
       "    <tr>\n",
       "      <th>7</th>\n",
       "      <td>2022</td>\n",
       "      <td>8</td>\n",
       "      <td>16</td>\n",
       "      <td>ES</td>\n",
       "      <td>37.39345</td>\n",
       "      <td>-6.08236</td>\n",
       "      <td>Isis Sanpera-Calbet;Mikel Alexander González;D...</td>\n",
       "      <td>7</td>\n",
       "      <td>24.9</td>\n",
       "      <td>18.7</td>\n",
       "      <td>30.9</td>\n",
       "      <td>0.0</td>\n",
       "      <td>256.0</td>\n",
       "      <td>14.2</td>\n",
       "      <td>1011.3</td>\n",
       "      <td>2022-08-16</td>\n",
       "      <td>41960</td>\n",
       "    </tr>\n",
       "    <tr>\n",
       "      <th>8</th>\n",
       "      <td>2022</td>\n",
       "      <td>8</td>\n",
       "      <td>13</td>\n",
       "      <td>IT</td>\n",
       "      <td>45.57203</td>\n",
       "      <td>12.10044</td>\n",
       "      <td>UNIROMA1;Eleonora Longo;Francesco Severini;Rog...</td>\n",
       "      <td>8</td>\n",
       "      <td>23.1</td>\n",
       "      <td>16.0</td>\n",
       "      <td>28.3</td>\n",
       "      <td>0.0</td>\n",
       "      <td>31.0</td>\n",
       "      <td>7.2</td>\n",
       "      <td>1013.0</td>\n",
       "      <td>2022-08-13</td>\n",
       "      <td>30033</td>\n",
       "    </tr>\n",
       "    <tr>\n",
       "      <th>9</th>\n",
       "      <td>2022</td>\n",
       "      <td>6</td>\n",
       "      <td>22</td>\n",
       "      <td>IT</td>\n",
       "      <td>41.83784</td>\n",
       "      <td>12.69665</td>\n",
       "      <td>Roger Eritja;UNIROMA1</td>\n",
       "      <td>9</td>\n",
       "      <td>27.5</td>\n",
       "      <td>20.1</td>\n",
       "      <td>33.8</td>\n",
       "      <td>0.0</td>\n",
       "      <td>176.0</td>\n",
       "      <td>10.1</td>\n",
       "      <td>1014.0</td>\n",
       "      <td>2022-06-22</td>\n",
       "      <td>00044</td>\n",
       "    </tr>\n",
       "    <tr>\n",
       "      <th>10</th>\n",
       "      <td>2022</td>\n",
       "      <td>6</td>\n",
       "      <td>26</td>\n",
       "      <td>HU</td>\n",
       "      <td>47.47027</td>\n",
       "      <td>19.04295</td>\n",
       "      <td>Kornélia Kurucz;Anonymous expert;Gábor Kemenes...</td>\n",
       "      <td>10</td>\n",
       "      <td>25.2</td>\n",
       "      <td>18.7</td>\n",
       "      <td>31.5</td>\n",
       "      <td>0.0</td>\n",
       "      <td>277.0</td>\n",
       "      <td>7.2</td>\n",
       "      <td>1014.8</td>\n",
       "      <td>2022-06-26</td>\n",
       "      <td>1119</td>\n",
       "    </tr>\n",
       "  </tbody>\n",
       "</table>\n",
       "</div>"
      ],
      "text/plain": [
       "    year  month  day country_code  latitude  longitude  \\\n",
       "0   2022     11    4           ES  41.51019    2.24589   \n",
       "1   2021      8   27           IT  44.40289    8.98775   \n",
       "2   2022      8   11           IT  41.70922   12.78512   \n",
       "3   2022      6   27           HU  47.46323   19.17698   \n",
       "4   2021     10   20           ES  39.43645    2.75412   \n",
       "5   2022      8   26           IT  43.76617   11.27971   \n",
       "7   2022      8   16           ES  37.39345   -6.08236   \n",
       "8   2022      8   13           IT  45.57203   12.10044   \n",
       "9   2022      6   22           IT  41.83784   12.69665   \n",
       "10  2022      6   26           HU  47.47027   19.04295   \n",
       "\n",
       "                                              witness  index.1  temp_avg  \\\n",
       "0                                        Roger Eritja        0      15.4   \n",
       "1   Karin Bakran-Lebl;Ana Klobucar;UNIROMA1;Roger ...        1      25.0   \n",
       "2   UNIROMA1;Eleonora Longo;Francesco Severini;Rog...        2      27.7   \n",
       "3   Anonymous expert;Kornélia Kurucz;Gábor Kemenes...        3      26.6   \n",
       "4   Maria Angeles Puig;Mikel Bengoa Paulis;Ignacio...        4      18.3   \n",
       "5                               UNIROMA1;Roger Eritja        5      26.1   \n",
       "7   Isis Sanpera-Calbet;Mikel Alexander González;D...        7      24.9   \n",
       "8   UNIROMA1;Eleonora Longo;Francesco Severini;Rog...        8      23.1   \n",
       "9                               Roger Eritja;UNIROMA1        9      27.5   \n",
       "10  Kornélia Kurucz;Anonymous expert;Gábor Kemenes...       10      25.2   \n",
       "\n",
       "    temp_min  temp_max  precipitation  wind_dir  wind_speed  pressure  \\\n",
       "0       11.0      20.0            0.0     271.0        19.5    1013.8   \n",
       "1       23.0      28.1            0.3      68.0        13.8    1007.5   \n",
       "2       22.0      32.0            1.1     173.0         9.0    1013.9   \n",
       "3       17.7      33.1            0.0      89.0         6.2    1016.6   \n",
       "4       17.7      24.8            0.0      83.0         7.1    1023.5   \n",
       "5       19.9      33.3            0.3      34.0         5.4    1010.9   \n",
       "7       18.7      30.9            0.0     256.0        14.2    1011.3   \n",
       "8       16.0      28.3            0.0      31.0         7.2    1013.0   \n",
       "9       20.1      33.8            0.0     176.0        10.1    1014.0   \n",
       "10      18.7      31.5            0.0     277.0         7.2    1014.8   \n",
       "\n",
       "   event_date post_code  \n",
       "0  2022-11-04     08105  \n",
       "1  2021-08-27     16147  \n",
       "2  2022-08-11     00049  \n",
       "3  2022-06-27      1183  \n",
       "4  2021-10-20     07609  \n",
       "5  2022-08-26     50136  \n",
       "7  2022-08-16     41960  \n",
       "8  2022-08-13     30033  \n",
       "9  2022-06-22     00044  \n",
       "10 2022-06-26      1119  "
      ]
     },
     "execution_count": 122,
     "metadata": {},
     "output_type": "execute_result"
    }
   ],
   "source": [
    "df_test1"
   ]
  },
  {
   "cell_type": "code",
   "execution_count": 124,
   "metadata": {},
   "outputs": [
    {
     "data": {
      "text/plain": [
       "(10404, 16)"
      ]
     },
     "execution_count": 124,
     "metadata": {},
     "output_type": "execute_result"
    }
   ],
   "source": [
    "df_4.shape"
   ]
  },
  {
   "cell_type": "code",
   "execution_count": 126,
   "metadata": {},
   "outputs": [],
   "source": [
    "df4_1 = df_4.iloc[0:1000]\n",
    "df4_2 = df_4.iloc[1000:2000]\n",
    "df4_3 = df_4.iloc[2000:3000]\n",
    "df4_4 = df_4.iloc[3000:4000]\n",
    "df4_5 = df_4.iloc[4000:5000]\n",
    "df4_6 = df_4.iloc[5000:6000]\n",
    "df4_7 = df_4.iloc[6000:7000]\n",
    "df4_8 = df_4.iloc[7000:8000]\n",
    "df4_9 = df_4.iloc[8000:9000]\n",
    "df4_10 = df_4.iloc[9000:10500]"
   ]
  },
  {
   "cell_type": "code",
   "execution_count": 167,
   "metadata": {},
   "outputs": [
    {
     "name": "stderr",
     "output_type": "stream",
     "text": [
      "/tmp/ipykernel_9229/2259268977.py:1: SettingWithCopyWarning: \n",
      "A value is trying to be set on a copy of a slice from a DataFrame.\n",
      "Try using .loc[row_indexer,col_indexer] = value instead\n",
      "\n",
      "See the caveats in the documentation: https://pandas.pydata.org/pandas-docs/stable/user_guide/indexing.html#returning-a-view-versus-a-copy\n",
      "  df4_10['country'] = df4_10.apply(lambda row: get_country(row), axis = 1)\n"
     ]
    }
   ],
   "source": [
    "df4_10['country'] = df4_10.apply(lambda row: get_country(row), axis = 1)\n",
    "time.sleep(1)"
   ]
  },
  {
   "cell_type": "code",
   "execution_count": null,
   "metadata": {},
   "outputs": [],
   "source": []
  },
  {
   "cell_type": "code",
   "execution_count": null,
   "metadata": {},
   "outputs": [],
   "source": []
  },
  {
   "cell_type": "code",
   "execution_count": null,
   "metadata": {},
   "outputs": [],
   "source": []
  },
  {
   "cell_type": "code",
   "execution_count": null,
   "metadata": {},
   "outputs": [],
   "source": []
  },
  {
   "cell_type": "code",
   "execution_count": null,
   "metadata": {},
   "outputs": [],
   "source": []
  },
  {
   "cell_type": "markdown",
   "metadata": {},
   "source": [
    "## 3. Analyze weather data"
   ]
  },
  {
   "cell_type": "code",
   "execution_count": null,
   "metadata": {},
   "outputs": [],
   "source": [
    "df_3.columns"
   ]
  },
  {
   "cell_type": "markdown",
   "metadata": {},
   "source": [
    "Our present dataframe has the following columns:\n",
    "- **year**: year of mosquito report.\n",
    "\n",
    "- **month**: month of mosquito report.\n",
    "\n",
    "- **day**: day of mosquito report.\n",
    "\n",
    "- **country_code**: country where the mosquito was located.\n",
    "\n",
    "- **latitude**: latitude of mosquito report.\n",
    "\n",
    "- **longitude**: longitude of mosquito report.\n",
    "\n",
    "- **witness**: people that saw the mosquito.\n",
    "\n",
    "- **temp_avg**: average air temperature in °C.\n",
    "\n",
    "- **temp_min**: minimum air temperature in °C.\n",
    "\n",
    "- **temp_max**: maximum air temperature in °C.\n",
    "\n",
    "- **precipitation**: precipitation total in mm.\n",
    "\n",
    "- **wind_dir**: average wind direction in degrees (°).\n",
    "\n",
    "- **wind_speed**: average wind speed in km/h.\n",
    "\n",
    "- **pressure**: average sea-level air pressure in hPa.\n",
    "\n",
    "- **event_date**: date of mosquito report."
   ]
  },
  {
   "cell_type": "code",
   "execution_count": null,
   "metadata": {},
   "outputs": [],
   "source": [
    "# Main statistics from numeric columns.\n",
    "df_3.describe().T"
   ]
  },
  {
   "cell_type": "markdown",
   "metadata": {},
   "source": [
    "This table shows:\n",
    "- **year**:\n",
    "    - the first year of report is 2014.\n",
    "    - the last year of report is 2022.\n",
    "    - the mean year is 2019 but 50% of data are at 2020.\n",
    "- **month**:\n",
    "    - the first month of report is 1 (January).\n",
    "    - the last month of report is 12 (December).\n",
    "    - the mean month and 50% of data are at month 8 (August).\n",
    "- **day**:\n",
    "    - the first day of report is 1st.\n",
    "    - the last day of report is 31st.\n",
    "    - the mean day is 16th.\n",
    "- **latitude** and **latitude**: there is no use in analizing them, they are coordinates.\n",
    "- **temp_avg**:\n",
    "    - the lowest average air temperature is -0.9°C.\n",
    "    - the highest average air temperature is 34.8°C.\n",
    "    - the mean average air temperature and 50% of data are close to 23°C.\n",
    "- **temp_min**:\n",
    "    - the lowest minimum air temperature is -3.5°C.\n",
    "    - the highest minimum air temperature is 29.0°C.\n",
    "    - the mean minimum air temperature and 50% of data are close to 18°C.\n",
    "- **temp_max**:\n",
    "    - the lowest maximum air temperature is 1.2°C.\n",
    "    - the highest maximum air temperature is 50.0°C.\n",
    "    - the mean maximum air temperature and 50% of data are close to 28°C.\n",
    "- **precipitation**:\n",
    "    - the lowest precipitation is 0mm.\n",
    "    - the highest precipitation is 179.3mm.\n",
    "    - the mean precipitation and 50% of data are close to 0mm.\n",
    "- **wind_dir**:\n",
    "    - the lowest wind direction degrees is 0° (North).\n",
    "    - the highest wind direction degrees is 360° (North).\n",
    "    - the mean wind direction degrees and 50% of data are close to 170°(Southeast).\n",
    "- **wind_dir**:\n",
    "    - the lowest wind direction degrees is 0° (North).\n",
    "    - the highest wind direction degrees is 360° (North).\n",
    "    - the mean wind direction degrees and 50% of data are close to 170°(Southeast).\n",
    "- **pressure**:\n",
    "    - the lowest pressure is 993hPa.\n",
    "    - the highest pressure is 1033hPa.\n",
    "    - the mean pressure and 50% of data are close to 1016hPa."
   ]
  },
  {
   "cell_type": "code",
   "execution_count": null,
   "metadata": {},
   "outputs": [],
   "source": [
    "# Main statistics from categorical columns.\n",
    "df_3.describe(include='object').T"
   ]
  },
  {
   "cell_type": "markdown",
   "metadata": {},
   "source": [
    "This table shows:\n",
    "- **country_code**:\n",
    "    - country_code has 46 unique values.\n",
    "    - the most frequent country is ES (Spain).\n",
    "- **witness**:\n",
    "    - witness has 2034 unique values.\n",
    "    - the most frequent witnesses are 'UNIROMA1;Roger Eritja'."
   ]
  },
  {
   "cell_type": "code",
   "execution_count": null,
   "metadata": {},
   "outputs": [],
   "source": [
    "# Check null values.\n",
    "df_3.isnull().sum()"
   ]
  },
  {
   "cell_type": "code",
   "execution_count": null,
   "metadata": {},
   "outputs": [],
   "source": [
    "# Check for outliers on the weather data.\n",
    "weather_columns=['temp_avg', 'temp_min', 'temp_max', 'precipitation','wind_dir', 'wind_speed', 'pressure']"
   ]
  },
  {
   "cell_type": "code",
   "execution_count": null,
   "metadata": {},
   "outputs": [],
   "source": [
    "weather_cols=['temp_avg', 'temp_min', 'temp_max', 'precipitation','wind_dir', 'wind_speed', 'pressure']\n",
    "df_w=df_3[weather_cols]\n",
    "df_w"
   ]
  },
  {
   "cell_type": "markdown",
   "metadata": {},
   "source": [
    "### 3.1. Outliers"
   ]
  },
  {
   "cell_type": "code",
   "execution_count": null,
   "metadata": {},
   "outputs": [],
   "source": [
    "# Set figure characteristics.\n",
    "fig, axes =plt.subplots(4,2,figsize=(15,10))\n",
    "\n",
    "# Flatter axes to plot them easier/faster using a for loop.\n",
    "axes = axes.flat\n",
    "\n",
    "for i, col in enumerate(df_w.columns):\n",
    "    sns.boxplot(x = df_w[col], data = df_w, ax=axes[i], color = \"violet\")\n",
    "\n",
    "# Delete empty graph.\n",
    "fig.delaxes(axes[7])\n",
    "\n",
    "# Adjust graphs so they don't overlap.\n",
    "fig.tight_layout()\n",
    "\n",
    "# Show figures.\n",
    "plt.show();"
   ]
  },
  {
   "cell_type": "markdown",
   "metadata": {},
   "source": [
    "This graphs show that there are outliers in every columns excepto for wind_dir. they also show where outliers are located in each variable."
   ]
  },
  {
   "cell_type": "code",
   "execution_count": null,
   "metadata": {},
   "outputs": [],
   "source": [
    "def get_outliers(columns_list, dataframe):\n",
    "    dicc_indices = {} # create a dictionary to store indexes.\n",
    "\n",
    "    # iterate on the weather columns list\n",
    "    for col in columns_list:\n",
    "        #get quartiles Q1 and Q3\n",
    "        Q1 = np.nanpercentile(dataframe[col], 25)\n",
    "        Q3 = np.nanpercentile(dataframe[col], 75)\n",
    "\n",
    "        # get interquartile range (IQR)\n",
    "        IQR = Q3 - Q1\n",
    "\n",
    "        # get limits\n",
    "        outlier_step = 1.5 * IQR\n",
    "\n",
    "        # filtrate our dataframe to identify outliers\n",
    "        outliers_data = dataframe[(dataframe[col] < Q1 - outlier_step) | (dataframe[col] > Q3 + outlier_step)]\n",
    "\n",
    "        if outliers_data.shape[0] > 0: # check if our dataframe has outliers\n",
    "            dicc_indices[col] = (list(outliers_data.index))\n",
    "    return dicc_indices"
   ]
  },
  {
   "cell_type": "code",
   "execution_count": null,
   "metadata": {},
   "outputs": [],
   "source": [
    "# get columns with outliers.\n",
    "ind_out=get_outliers(weather_cols, df_3)\n",
    "ind_out.keys()"
   ]
  },
  {
   "cell_type": "markdown",
   "metadata": {},
   "source": [
    "### 3.2. Duplicates"
   ]
  },
  {
   "cell_type": "markdown",
   "metadata": {},
   "source": [
    "Duplicates were already checked at the beggining of the project. Now it makes no sense to check for them because new rows have not been added and false duplicates can be found due to lack of some columns that added some distinguishing informtation such as 'gbifID."
   ]
  },
  {
   "cell_type": "code",
   "execution_count": null,
   "metadata": {},
   "outputs": [],
   "source": [
    "# Check this posible mistake checking for duplicates now.\n",
    "df_3.duplicated().sum()"
   ]
  },
  {
   "cell_type": "markdown",
   "metadata": {},
   "source": [
    "240 duplicated rows were found, but if gbifID had been kept it would show that all the row has the same data except for gbifID because they were different mosquitos observed at the same time."
   ]
  },
  {
   "cell_type": "code",
   "execution_count": null,
   "metadata": {},
   "outputs": [],
   "source": [
    "# Get a dataframe with only duplicated rows.\n",
    "duplicates_data = df_3[(df_3.duplicated())]\n",
    "duplicates_data.shape"
   ]
  },
  {
   "cell_type": "code",
   "execution_count": null,
   "metadata": {},
   "outputs": [],
   "source": [
    "# Look for for the most repeated date.\n",
    "duplicates_data['event_date'].value_counts()"
   ]
  },
  {
   "cell_type": "code",
   "execution_count": null,
   "metadata": {},
   "outputs": [],
   "source": [
    "# Check rows with that date to see the rest of the data.\n",
    "duplicates_data[duplicates_data['event_date']=='2021-09-11']"
   ]
  },
  {
   "cell_type": "code",
   "execution_count": null,
   "metadata": {},
   "outputs": [],
   "source": [
    "# Check the first dataframe used in this project in code1 to see the other columns that were deleted.\n",
    "df_check_dupli = pd.read_csv('../data/gbif_mosquito_data.csv', sep='\\t')\n",
    "df_check_dupli.columns"
   ]
  },
  {
   "cell_type": "code",
   "execution_count": null,
   "metadata": {},
   "outputs": [],
   "source": [
    "# Look at the same rows with the same date as before to see the rest of the information.\n",
    "df_check_dupli[df_check_dupli['eventDate']=='2021-09-11T00:00:00'].sort_values('decimalLatitude')"
   ]
  },
  {
   "cell_type": "markdown",
   "metadata": {},
   "source": [
    "Looking at the first dataframe that was used in this project it can be seen that those rows that seemed to be duplicated now have different 'gbifID' and different 'occurrenceID', so they are different mosquitoes observed."
   ]
  },
  {
   "cell_type": "code",
   "execution_count": null,
   "metadata": {},
   "outputs": [],
   "source": []
  },
  {
   "cell_type": "code",
   "execution_count": null,
   "metadata": {},
   "outputs": [],
   "source": [
    "# Set figure characteristics.\n",
    "fig, axes = plt.subplots(1, 7, figsize=(20,7))\n",
    "\n",
    "# Create a for loop to creat one violinplot for each numerical variable.\n",
    "for i in range(len(weather_columns)): \n",
    "    sns.violinplot(x='year', y=weather_columns[i], data = df_3 , ax = axes[i], palette = \"rocket\")   \n",
    "\n",
    "# Adjust graphs so they don't overlap.\n",
    "fig.tight_layout()\n",
    "\n",
    "# Show figure.\n",
    "plt.show()"
   ]
  },
  {
   "cell_type": "code",
   "execution_count": null,
   "metadata": {},
   "outputs": [],
   "source": []
  },
  {
   "cell_type": "code",
   "execution_count": null,
   "metadata": {},
   "outputs": [],
   "source": [
    "# Check for outliers in month using another method.\n",
    "#mean_month=df_1['month'].mean()\n",
    "#std_month=df_1['month'].std()\n",
    "#upper=mean_month + std_month\n",
    "#lower=mean_month - std_month\n",
    "#ucb=mean_month + std_month * 3\n",
    "#lcb=mean_month - std_month * 3"
   ]
  },
  {
   "cell_type": "code",
   "execution_count": null,
   "metadata": {},
   "outputs": [],
   "source": [
    "## Start the graph.\n",
    "#month_graph=sns.histplot(x=df_1['month'],kde=True)\n",
    "#graph.axvline(x=mean_month, c='red',label='mean')\n",
    "#\n",
    "## Plot its standard deviation.\n",
    "#graph.axvline(x=upper,c='green',label='std')\n",
    "#graph.axvline(x=lower, c='green')\n",
    "#\n",
    "## Plot its confidence interval to 99.7%\n",
    "#graph.axvline(x=lcb, c='orange',label='99 lower')\n",
    "#graph.axvline(x=ucb, c='orange',label='99 upper')\n",
    "#\n",
    "#plt.legend()"
   ]
  }
 ],
 "metadata": {
  "kernelspec": {
   "display_name": "base",
   "language": "python",
   "name": "python3"
  },
  "language_info": {
   "codemirror_mode": {
    "name": "ipython",
    "version": 3
   },
   "file_extension": ".py",
   "mimetype": "text/x-python",
   "name": "python",
   "nbconvert_exporter": "python",
   "pygments_lexer": "ipython3",
   "version": "3.9.7"
  },
  "orig_nbformat": 4
 },
 "nbformat": 4,
 "nbformat_minor": 2
}
