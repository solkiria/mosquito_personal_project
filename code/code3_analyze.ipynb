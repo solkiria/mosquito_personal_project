{
 "cells": [
  {
   "cell_type": "markdown",
   "metadata": {},
   "source": [
    "# Analyzing"
   ]
  },
  {
   "cell_type": "markdown",
   "metadata": {},
   "source": [
    "In this jupyter notebook the dataframe obtained from 'code2_cleaning' will be analized. The objectives are:\n",
    "\n",
    "- Mosquito per day obtention.\n",
    "\n",
    "- API use to get climate data.\n",
    "\n",
    "- Explain some basic results."
   ]
  },
  {
   "cell_type": "code",
   "execution_count": null,
   "metadata": {},
   "outputs": [],
   "source": [
    "# Let's import the libraries that will be needed for this EDA.\n",
    "import pandas as pd\n",
    "import numpy as np\n",
    "#import seaborn as sns\n",
    "#import matplotlib.pyplot as plt\n",
    "import sidetable\n",
    "from datetime import date, datetime"
   ]
  },
  {
   "cell_type": "code",
   "execution_count": null,
   "metadata": {},
   "outputs": [],
   "source": []
  },
  {
   "cell_type": "code",
   "execution_count": null,
   "metadata": {},
   "outputs": [],
   "source": []
  },
  {
   "cell_type": "code",
   "execution_count": null,
   "metadata": {},
   "outputs": [],
   "source": []
  },
  {
   "cell_type": "code",
   "execution_count": null,
   "metadata": {},
   "outputs": [],
   "source": [
    "Nuestro df contiene las siguientes columnas:\n",
    "\n",
    "registro = (instant), es el índice\n",
    "fecha = (dteday)\n",
    "estacion = (season) Hay que cambiarla, algunas estaciones no coinciden con la fecha.\n",
    "año = (year) También hay que cambiarla, está en 0 y 1 (2018,2019)\n",
    "mes = (month)\n",
    "festivo = (holiday) 0: laborales, 1:festivos, creemos que tomará festivos.\n",
    "dia_semana = (weekday)\n",
    "no_laboral = (workingday) Cuenta como 0 el laboral y el 1 el no laboral\n",
    "clima = ('weathersit')\n",
    "'temperatura' = (temp)\n",
    "'sens_termica'= ('atemp')\n",
    "humedad = (hum)\n",
    "viento = (windspeed)\n",
    "ocasionales = (casual)\n",
    "registrados = (registred)\n",
    "total = (cnt)"
   ]
  },
  {
   "cell_type": "code",
   "execution_count": null,
   "metadata": {},
   "outputs": [],
   "source": []
  },
  {
   "cell_type": "code",
   "execution_count": null,
   "metadata": {},
   "outputs": [],
   "source": [
    "# Check for outliers in month using another method.\n",
    "mean_month=df_1['month'].mean()\n",
    "std_month=df_1['month'].std()\n",
    "upper=mean_month + std_month\n",
    "lower=mean_month - std_month\n",
    "ucb=mean_month + std_month * 3\n",
    "lcb=mean_month - std_month * 3"
   ]
  },
  {
   "cell_type": "code",
   "execution_count": null,
   "metadata": {},
   "outputs": [],
   "source": []
  },
  {
   "cell_type": "code",
   "execution_count": null,
   "metadata": {},
   "outputs": [],
   "source": [
    "# Start the graph.\n",
    "month_graph=sns.histplot(x=df_1['month'],kde=True)\n",
    "graph.axvline(x=mean_month, c='red',label='mean')\n",
    "\n",
    "# Plot its standard deviation.\n",
    "graph.axvline(x=upper,c='green',label='std')\n",
    "graph.axvline(x=lower, c='green')\n",
    "\n",
    "# Plot its confidence interval to 99.7%\n",
    "graph.axvline(x=lcb, c='orange',label='99 lower')\n",
    "graph.axvline(x=ucb, c='orange',label='99 upper')\n",
    "\n",
    "plt.legend()"
   ]
  }
 ],
 "metadata": {
  "language_info": {
   "name": "python"
  },
  "orig_nbformat": 4
 },
 "nbformat": 4,
 "nbformat_minor": 2
}
