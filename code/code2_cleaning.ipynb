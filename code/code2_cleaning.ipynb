{
 "cells": [
  {
   "cell_type": "markdown",
   "metadata": {},
   "source": [
    "# Cleaning"
   ]
  },
  {
   "cell_type": "markdown",
   "metadata": {},
   "source": [
    "In this jupyter notebook a cleaning process is done on the dataframe explored and partly cleaned in 'code1_EDA'. The objectives are:\n",
    "- Column name unification.ç\n",
    "- Change how some columns show their data.\n",
    "- Change the data type of some columns.\n",
    "- ."
   ]
  },
  {
   "cell_type": "code",
   "execution_count": null,
   "metadata": {},
   "outputs": [],
   "source": [
    "# Let's import the libraries that will be needed for this EDA.\n",
    "import pandas as pd\n",
    "import numpy as np\n",
    "import seaborn as sns\n",
    "import matplotlib.pyplot as plt\n",
    "import sidetable"
   ]
  },
  {
   "cell_type": "code",
   "execution_count": null,
   "metadata": {},
   "outputs": [],
   "source": [
    "# To show all the columns of our dataframe.\n",
    "pd.options.display.max_columns=None"
   ]
  },
  {
   "cell_type": "code",
   "execution_count": null,
   "metadata": {},
   "outputs": [],
   "source": [
    "# Create the first dataframe containing the data from the csv obtained from Gbif.\n",
    "df_0 = pd.read_csv('../data/gbif_mosquito_data.csv', sep='\\t')\n",
    "\n",
    "# Check the first three rows to see how this dataframe looks like.\n",
    "df_0.head(3)"
   ]
  },
  {
   "cell_type": "code",
   "execution_count": null,
   "metadata": {},
   "outputs": [],
   "source": []
  },
  {
   "cell_type": "code",
   "execution_count": null,
   "metadata": {},
   "outputs": [],
   "source": []
  },
  {
   "cell_type": "code",
   "execution_count": null,
   "metadata": {},
   "outputs": [],
   "source": [
    "# Divide the column species into 'genus' and 'species' and keep only the species name replacing the cells in this column.\n",
    "df_1['species']=df_1['species'].str.split(' ',expand=True, n=1)[1]\n",
    "df_1.head(3)"
   ]
  },
  {
   "cell_type": "code",
   "execution_count": null,
   "metadata": {},
   "outputs": [],
   "source": [
    "# Check again null values looking at its percentage.\n",
    "df_1.stb.missing()"
   ]
  },
  {
   "cell_type": "code",
   "execution_count": null,
   "metadata": {},
   "outputs": [],
   "source": []
  },
  {
   "cell_type": "code",
   "execution_count": null,
   "metadata": {},
   "outputs": [],
   "source": [
    "# Check for outliers in month using another method.\n",
    "mean_month=df_1['month'].mean()\n",
    "std_month=df_1['month'].std()\n",
    "upper=mean_month + std_month\n",
    "lower=mean_month - std_month\n",
    "ucb=mean_month + std_month * 3\n",
    "lcb=mean_month - std_month * 3"
   ]
  },
  {
   "cell_type": "code",
   "execution_count": null,
   "metadata": {},
   "outputs": [],
   "source": [
    "# Start the graph.\n",
    "month_graph=sns.histplot(x=df_1['month'],kde=True)\n",
    "graph.axvline(x=mean_month, c='red',label='mean')\n",
    "\n",
    "# Plot its standard deviation.\n",
    "graph.axvline(x=upper,c='green',label='std')\n",
    "graph.axvline(x=lower, c='green')\n",
    "\n",
    "# Plot its confidence interval to 99.7%\n",
    "graph.axvline(x=lcb, c='orange',label='99 lower')\n",
    "graph.axvline(x=ucb, c='orange',label='99 upper')\n",
    "\n",
    "plt.legend()"
   ]
  },
  {
   "cell_type": "code",
   "execution_count": null,
   "metadata": {},
   "outputs": [],
   "source": []
  },
  {
   "cell_type": "code",
   "execution_count": null,
   "metadata": {},
   "outputs": [],
   "source": []
  }
 ],
 "metadata": {
  "kernelspec": {
   "display_name": "base",
   "language": "python",
   "name": "python3"
  },
  "language_info": {
   "name": "python",
   "version": "3.9.7"
  },
  "orig_nbformat": 4
 },
 "nbformat": 4,
 "nbformat_minor": 2
}
