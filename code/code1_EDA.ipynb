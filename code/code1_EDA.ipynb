{
 "cells": [
  {
   "cell_type": "markdown",
   "metadata": {},
   "source": [
    "# Exploratory Data Analysis (EDA)"
   ]
  },
  {
   "cell_type": "markdown",
   "metadata": {},
   "source": [
    "In this jupyter notebook an EDA is done on the data obtained from Gbif. The objectives are:\n",
    "- Explore the data that has been obtained from that web.\n",
    "- Understand the information that each column contains.\n",
    "- See the null values, duplicates, outliers, etc."
   ]
  },
  {
   "cell_type": "code",
   "execution_count": 204,
   "metadata": {},
   "outputs": [],
   "source": [
    "# Let's import the libraries that will be needed for this EDA.\n",
    "import pandas as pd\n",
    "import numpy as np\n",
    "import seaborn as sns\n",
    "import matplotlib.pyplot as plt\n",
    "import sidetable"
   ]
  },
  {
   "cell_type": "code",
   "execution_count": 205,
   "metadata": {},
   "outputs": [],
   "source": [
    "# To show all the columns of our dataframe.\n",
    "pd.options.display.max_columns=None"
   ]
  },
  {
   "cell_type": "code",
   "execution_count": 206,
   "metadata": {},
   "outputs": [
    {
     "data": {
      "text/html": [
       "<div>\n",
       "<style scoped>\n",
       "    .dataframe tbody tr th:only-of-type {\n",
       "        vertical-align: middle;\n",
       "    }\n",
       "\n",
       "    .dataframe tbody tr th {\n",
       "        vertical-align: top;\n",
       "    }\n",
       "\n",
       "    .dataframe thead th {\n",
       "        text-align: right;\n",
       "    }\n",
       "</style>\n",
       "<table border=\"1\" class=\"dataframe\">\n",
       "  <thead>\n",
       "    <tr style=\"text-align: right;\">\n",
       "      <th></th>\n",
       "      <th>gbifID</th>\n",
       "      <th>datasetKey</th>\n",
       "      <th>occurrenceID</th>\n",
       "      <th>kingdom</th>\n",
       "      <th>phylum</th>\n",
       "      <th>class</th>\n",
       "      <th>order</th>\n",
       "      <th>family</th>\n",
       "      <th>genus</th>\n",
       "      <th>species</th>\n",
       "      <th>infraspecificEpithet</th>\n",
       "      <th>taxonRank</th>\n",
       "      <th>scientificName</th>\n",
       "      <th>verbatimScientificName</th>\n",
       "      <th>verbatimScientificNameAuthorship</th>\n",
       "      <th>countryCode</th>\n",
       "      <th>locality</th>\n",
       "      <th>stateProvince</th>\n",
       "      <th>occurrenceStatus</th>\n",
       "      <th>individualCount</th>\n",
       "      <th>publishingOrgKey</th>\n",
       "      <th>decimalLatitude</th>\n",
       "      <th>decimalLongitude</th>\n",
       "      <th>coordinateUncertaintyInMeters</th>\n",
       "      <th>coordinatePrecision</th>\n",
       "      <th>elevation</th>\n",
       "      <th>elevationAccuracy</th>\n",
       "      <th>depth</th>\n",
       "      <th>depthAccuracy</th>\n",
       "      <th>eventDate</th>\n",
       "      <th>day</th>\n",
       "      <th>month</th>\n",
       "      <th>year</th>\n",
       "      <th>taxonKey</th>\n",
       "      <th>speciesKey</th>\n",
       "      <th>basisOfRecord</th>\n",
       "      <th>institutionCode</th>\n",
       "      <th>collectionCode</th>\n",
       "      <th>catalogNumber</th>\n",
       "      <th>recordNumber</th>\n",
       "      <th>identifiedBy</th>\n",
       "      <th>dateIdentified</th>\n",
       "      <th>license</th>\n",
       "      <th>rightsHolder</th>\n",
       "      <th>recordedBy</th>\n",
       "      <th>typeStatus</th>\n",
       "      <th>establishmentMeans</th>\n",
       "      <th>lastInterpreted</th>\n",
       "      <th>mediaType</th>\n",
       "      <th>issue</th>\n",
       "    </tr>\n",
       "  </thead>\n",
       "  <tbody>\n",
       "    <tr>\n",
       "      <th>0</th>\n",
       "      <td>4052772078</td>\n",
       "      <td>1fef1ead-3d02-495e-8ff1-6aeb01123408</td>\n",
       "      <td>e7dbc45e-69c8-4d0d-b19d-109880b51192</td>\n",
       "      <td>Animalia</td>\n",
       "      <td>Arthropoda</td>\n",
       "      <td>Insecta</td>\n",
       "      <td>Diptera</td>\n",
       "      <td>Culicidae</td>\n",
       "      <td>Aedes</td>\n",
       "      <td>Aedes albopictus</td>\n",
       "      <td>NaN</td>\n",
       "      <td>SPECIES</td>\n",
       "      <td>Aedes albopictus (Skuse, 1894)</td>\n",
       "      <td>Aedes albopictus (Skuse, 1895)</td>\n",
       "      <td>(Skuse, 1895)</td>\n",
       "      <td>ES</td>\n",
       "      <td>NaN</td>\n",
       "      <td>NaN</td>\n",
       "      <td>PRESENT</td>\n",
       "      <td>NaN</td>\n",
       "      <td>7f7b1e09-01e5-4eb3-8dc0-6a3a6bea9a5c</td>\n",
       "      <td>41.51019</td>\n",
       "      <td>2.24589</td>\n",
       "      <td>NaN</td>\n",
       "      <td>NaN</td>\n",
       "      <td>NaN</td>\n",
       "      <td>NaN</td>\n",
       "      <td>NaN</td>\n",
       "      <td>NaN</td>\n",
       "      <td>2022-11-04T00:00:00</td>\n",
       "      <td>4</td>\n",
       "      <td>11</td>\n",
       "      <td>2022</td>\n",
       "      <td>1651430</td>\n",
       "      <td>1651430.0</td>\n",
       "      <td>HUMAN_OBSERVATION</td>\n",
       "      <td>CREAF</td>\n",
       "      <td>Mosquito Alert Tiger Mosquito</td>\n",
       "      <td>NaN</td>\n",
       "      <td>NaN</td>\n",
       "      <td>Roger Eritja</td>\n",
       "      <td>NaN</td>\n",
       "      <td>CC0_1_0</td>\n",
       "      <td>Mosquito Alert</td>\n",
       "      <td>Anonymous Mosquito Alert citizen scientist</td>\n",
       "      <td>NaN</td>\n",
       "      <td>NaN</td>\n",
       "      <td>2023-03-23T07:53:00.251Z</td>\n",
       "      <td>StillImage</td>\n",
       "      <td>CONTINENT_DERIVED_FROM_COORDINATES</td>\n",
       "    </tr>\n",
       "    <tr>\n",
       "      <th>1</th>\n",
       "      <td>4052772077</td>\n",
       "      <td>1fef1ead-3d02-495e-8ff1-6aeb01123408</td>\n",
       "      <td>393fc1c6-c24f-479c-b184-5c11c8a2e12d</td>\n",
       "      <td>Animalia</td>\n",
       "      <td>Arthropoda</td>\n",
       "      <td>Insecta</td>\n",
       "      <td>Diptera</td>\n",
       "      <td>Culicidae</td>\n",
       "      <td>Aedes</td>\n",
       "      <td>Aedes albopictus</td>\n",
       "      <td>NaN</td>\n",
       "      <td>SPECIES</td>\n",
       "      <td>Aedes albopictus (Skuse, 1894)</td>\n",
       "      <td>Aedes albopictus (Skuse, 1895)</td>\n",
       "      <td>(Skuse, 1895)</td>\n",
       "      <td>IT</td>\n",
       "      <td>NaN</td>\n",
       "      <td>NaN</td>\n",
       "      <td>PRESENT</td>\n",
       "      <td>NaN</td>\n",
       "      <td>7f7b1e09-01e5-4eb3-8dc0-6a3a6bea9a5c</td>\n",
       "      <td>44.40289</td>\n",
       "      <td>8.98775</td>\n",
       "      <td>NaN</td>\n",
       "      <td>NaN</td>\n",
       "      <td>NaN</td>\n",
       "      <td>NaN</td>\n",
       "      <td>NaN</td>\n",
       "      <td>NaN</td>\n",
       "      <td>2021-08-27T00:00:00</td>\n",
       "      <td>27</td>\n",
       "      <td>8</td>\n",
       "      <td>2021</td>\n",
       "      <td>1651430</td>\n",
       "      <td>1651430.0</td>\n",
       "      <td>HUMAN_OBSERVATION</td>\n",
       "      <td>CREAF</td>\n",
       "      <td>Mosquito Alert Tiger Mosquito</td>\n",
       "      <td>NaN</td>\n",
       "      <td>NaN</td>\n",
       "      <td>Karin Bakran-Lebl;Ana Klobucar;UNIROMA1;Roger ...</td>\n",
       "      <td>NaN</td>\n",
       "      <td>CC0_1_0</td>\n",
       "      <td>Mosquito Alert</td>\n",
       "      <td>Anonymous Mosquito Alert citizen scientist</td>\n",
       "      <td>NaN</td>\n",
       "      <td>NaN</td>\n",
       "      <td>2023-03-23T07:53:02.575Z</td>\n",
       "      <td>StillImage</td>\n",
       "      <td>CONTINENT_DERIVED_FROM_COORDINATES</td>\n",
       "    </tr>\n",
       "    <tr>\n",
       "      <th>2</th>\n",
       "      <td>4052772076</td>\n",
       "      <td>1fef1ead-3d02-495e-8ff1-6aeb01123408</td>\n",
       "      <td>bae42ca3-8861-4a61-926d-380359f6a059</td>\n",
       "      <td>Animalia</td>\n",
       "      <td>Arthropoda</td>\n",
       "      <td>Insecta</td>\n",
       "      <td>Diptera</td>\n",
       "      <td>Culicidae</td>\n",
       "      <td>Culex</td>\n",
       "      <td>NaN</td>\n",
       "      <td>NaN</td>\n",
       "      <td>GENUS</td>\n",
       "      <td>Culex Linnaeus, 1758</td>\n",
       "      <td>Culex (Linnaeus, 1758)</td>\n",
       "      <td>(Linnaeus, 1758)</td>\n",
       "      <td>NL</td>\n",
       "      <td>NaN</td>\n",
       "      <td>NaN</td>\n",
       "      <td>PRESENT</td>\n",
       "      <td>NaN</td>\n",
       "      <td>7f7b1e09-01e5-4eb3-8dc0-6a3a6bea9a5c</td>\n",
       "      <td>52.14539</td>\n",
       "      <td>5.39437</td>\n",
       "      <td>NaN</td>\n",
       "      <td>NaN</td>\n",
       "      <td>NaN</td>\n",
       "      <td>NaN</td>\n",
       "      <td>NaN</td>\n",
       "      <td>NaN</td>\n",
       "      <td>2021-09-25T00:00:00</td>\n",
       "      <td>25</td>\n",
       "      <td>9</td>\n",
       "      <td>2021</td>\n",
       "      <td>1497010</td>\n",
       "      <td>NaN</td>\n",
       "      <td>HUMAN_OBSERVATION</td>\n",
       "      <td>CREAF</td>\n",
       "      <td>Mosquito Alert Tiger Mosquito</td>\n",
       "      <td>NaN</td>\n",
       "      <td>NaN</td>\n",
       "      <td>Hans-Peter Fuehrer;Mihaela Kavran;Karin Bakran...</td>\n",
       "      <td>NaN</td>\n",
       "      <td>CC0_1_0</td>\n",
       "      <td>Mosquito Alert</td>\n",
       "      <td>Anonymous Mosquito Alert citizen scientist</td>\n",
       "      <td>NaN</td>\n",
       "      <td>NaN</td>\n",
       "      <td>2023-03-23T07:53:02.576Z</td>\n",
       "      <td>StillImage</td>\n",
       "      <td>CONTINENT_DERIVED_FROM_COORDINATES</td>\n",
       "    </tr>\n",
       "  </tbody>\n",
       "</table>\n",
       "</div>"
      ],
      "text/plain": [
       "       gbifID                            datasetKey  \\\n",
       "0  4052772078  1fef1ead-3d02-495e-8ff1-6aeb01123408   \n",
       "1  4052772077  1fef1ead-3d02-495e-8ff1-6aeb01123408   \n",
       "2  4052772076  1fef1ead-3d02-495e-8ff1-6aeb01123408   \n",
       "\n",
       "                           occurrenceID   kingdom      phylum    class  \\\n",
       "0  e7dbc45e-69c8-4d0d-b19d-109880b51192  Animalia  Arthropoda  Insecta   \n",
       "1  393fc1c6-c24f-479c-b184-5c11c8a2e12d  Animalia  Arthropoda  Insecta   \n",
       "2  bae42ca3-8861-4a61-926d-380359f6a059  Animalia  Arthropoda  Insecta   \n",
       "\n",
       "     order     family  genus           species  infraspecificEpithet  \\\n",
       "0  Diptera  Culicidae  Aedes  Aedes albopictus                   NaN   \n",
       "1  Diptera  Culicidae  Aedes  Aedes albopictus                   NaN   \n",
       "2  Diptera  Culicidae  Culex               NaN                   NaN   \n",
       "\n",
       "  taxonRank                  scientificName          verbatimScientificName  \\\n",
       "0   SPECIES  Aedes albopictus (Skuse, 1894)  Aedes albopictus (Skuse, 1895)   \n",
       "1   SPECIES  Aedes albopictus (Skuse, 1894)  Aedes albopictus (Skuse, 1895)   \n",
       "2     GENUS            Culex Linnaeus, 1758          Culex (Linnaeus, 1758)   \n",
       "\n",
       "  verbatimScientificNameAuthorship countryCode  locality  stateProvince  \\\n",
       "0                    (Skuse, 1895)          ES       NaN            NaN   \n",
       "1                    (Skuse, 1895)          IT       NaN            NaN   \n",
       "2                 (Linnaeus, 1758)          NL       NaN            NaN   \n",
       "\n",
       "  occurrenceStatus  individualCount                      publishingOrgKey  \\\n",
       "0          PRESENT              NaN  7f7b1e09-01e5-4eb3-8dc0-6a3a6bea9a5c   \n",
       "1          PRESENT              NaN  7f7b1e09-01e5-4eb3-8dc0-6a3a6bea9a5c   \n",
       "2          PRESENT              NaN  7f7b1e09-01e5-4eb3-8dc0-6a3a6bea9a5c   \n",
       "\n",
       "   decimalLatitude  decimalLongitude  coordinateUncertaintyInMeters  \\\n",
       "0         41.51019           2.24589                            NaN   \n",
       "1         44.40289           8.98775                            NaN   \n",
       "2         52.14539           5.39437                            NaN   \n",
       "\n",
       "   coordinatePrecision  elevation  elevationAccuracy  depth  depthAccuracy  \\\n",
       "0                  NaN        NaN                NaN    NaN            NaN   \n",
       "1                  NaN        NaN                NaN    NaN            NaN   \n",
       "2                  NaN        NaN                NaN    NaN            NaN   \n",
       "\n",
       "             eventDate  day  month  year  taxonKey  speciesKey  \\\n",
       "0  2022-11-04T00:00:00    4     11  2022   1651430   1651430.0   \n",
       "1  2021-08-27T00:00:00   27      8  2021   1651430   1651430.0   \n",
       "2  2021-09-25T00:00:00   25      9  2021   1497010         NaN   \n",
       "\n",
       "       basisOfRecord institutionCode                 collectionCode  \\\n",
       "0  HUMAN_OBSERVATION           CREAF  Mosquito Alert Tiger Mosquito   \n",
       "1  HUMAN_OBSERVATION           CREAF  Mosquito Alert Tiger Mosquito   \n",
       "2  HUMAN_OBSERVATION           CREAF  Mosquito Alert Tiger Mosquito   \n",
       "\n",
       "   catalogNumber  recordNumber  \\\n",
       "0            NaN           NaN   \n",
       "1            NaN           NaN   \n",
       "2            NaN           NaN   \n",
       "\n",
       "                                        identifiedBy  dateIdentified  license  \\\n",
       "0                                       Roger Eritja             NaN  CC0_1_0   \n",
       "1  Karin Bakran-Lebl;Ana Klobucar;UNIROMA1;Roger ...             NaN  CC0_1_0   \n",
       "2  Hans-Peter Fuehrer;Mihaela Kavran;Karin Bakran...             NaN  CC0_1_0   \n",
       "\n",
       "     rightsHolder                                  recordedBy  typeStatus  \\\n",
       "0  Mosquito Alert  Anonymous Mosquito Alert citizen scientist         NaN   \n",
       "1  Mosquito Alert  Anonymous Mosquito Alert citizen scientist         NaN   \n",
       "2  Mosquito Alert  Anonymous Mosquito Alert citizen scientist         NaN   \n",
       "\n",
       "   establishmentMeans           lastInterpreted   mediaType  \\\n",
       "0                 NaN  2023-03-23T07:53:00.251Z  StillImage   \n",
       "1                 NaN  2023-03-23T07:53:02.575Z  StillImage   \n",
       "2                 NaN  2023-03-23T07:53:02.576Z  StillImage   \n",
       "\n",
       "                                issue  \n",
       "0  CONTINENT_DERIVED_FROM_COORDINATES  \n",
       "1  CONTINENT_DERIVED_FROM_COORDINATES  \n",
       "2  CONTINENT_DERIVED_FROM_COORDINATES  "
      ]
     },
     "execution_count": 206,
     "metadata": {},
     "output_type": "execute_result"
    }
   ],
   "source": [
    "# Create the first dataframe containing the data from the csv obtained from Gbif.\n",
    "df_0 = pd.read_csv('../data/gbif_mosquito_data.csv', sep='\\t')\n",
    "\n",
    "# Check the first three rows to see how this dataframe looks like.\n",
    "df_0.head(3)"
   ]
  },
  {
   "cell_type": "code",
   "execution_count": 207,
   "metadata": {},
   "outputs": [
    {
     "name": "stdout",
     "output_type": "stream",
     "text": [
      "This DataFrame has 24788 rows and 50 columns.\n"
     ]
    }
   ],
   "source": [
    "# Check how many rows and columns has this dataframe.\n",
    "df_0.shape\n",
    "print(f'This DataFrame has {df_0.shape[0]} rows and {df_0.shape[1]} columns.')"
   ]
  },
  {
   "cell_type": "code",
   "execution_count": 208,
   "metadata": {},
   "outputs": [
    {
     "name": "stdout",
     "output_type": "stream",
     "text": [
      "<class 'pandas.core.frame.DataFrame'>\n",
      "RangeIndex: 24788 entries, 0 to 24787\n",
      "Data columns (total 50 columns):\n",
      " #   Column                            Non-Null Count  Dtype  \n",
      "---  ------                            --------------  -----  \n",
      " 0   gbifID                            24788 non-null  int64  \n",
      " 1   datasetKey                        24788 non-null  object \n",
      " 2   occurrenceID                      24788 non-null  object \n",
      " 3   kingdom                           24788 non-null  object \n",
      " 4   phylum                            24788 non-null  object \n",
      " 5   class                             24788 non-null  object \n",
      " 6   order                             24788 non-null  object \n",
      " 7   family                            24788 non-null  object \n",
      " 8   genus                             24788 non-null  object \n",
      " 9   species                           15084 non-null  object \n",
      " 10  infraspecificEpithet              0 non-null      float64\n",
      " 11  taxonRank                         24788 non-null  object \n",
      " 12  scientificName                    24788 non-null  object \n",
      " 13  verbatimScientificName            24788 non-null  object \n",
      " 14  verbatimScientificNameAuthorship  24788 non-null  object \n",
      " 15  countryCode                       24782 non-null  object \n",
      " 16  locality                          0 non-null      float64\n",
      " 17  stateProvince                     0 non-null      float64\n",
      " 18  occurrenceStatus                  24788 non-null  object \n",
      " 19  individualCount                   0 non-null      float64\n",
      " 20  publishingOrgKey                  24788 non-null  object \n",
      " 21  decimalLatitude                   24782 non-null  float64\n",
      " 22  decimalLongitude                  24782 non-null  float64\n",
      " 23  coordinateUncertaintyInMeters     0 non-null      float64\n",
      " 24  coordinatePrecision               0 non-null      float64\n",
      " 25  elevation                         0 non-null      float64\n",
      " 26  elevationAccuracy                 0 non-null      float64\n",
      " 27  depth                             0 non-null      float64\n",
      " 28  depthAccuracy                     0 non-null      float64\n",
      " 29  eventDate                         24788 non-null  object \n",
      " 30  day                               24788 non-null  int64  \n",
      " 31  month                             24788 non-null  int64  \n",
      " 32  year                              24788 non-null  int64  \n",
      " 33  taxonKey                          24788 non-null  int64  \n",
      " 34  speciesKey                        15084 non-null  float64\n",
      " 35  basisOfRecord                     24788 non-null  object \n",
      " 36  institutionCode                   24788 non-null  object \n",
      " 37  collectionCode                    24788 non-null  object \n",
      " 38  catalogNumber                     0 non-null      float64\n",
      " 39  recordNumber                      0 non-null      float64\n",
      " 40  identifiedBy                      24788 non-null  object \n",
      " 41  dateIdentified                    0 non-null      float64\n",
      " 42  license                           24788 non-null  object \n",
      " 43  rightsHolder                      24788 non-null  object \n",
      " 44  recordedBy                        24788 non-null  object \n",
      " 45  typeStatus                        0 non-null      float64\n",
      " 46  establishmentMeans                0 non-null      float64\n",
      " 47  lastInterpreted                   24788 non-null  object \n",
      " 48  mediaType                         24788 non-null  object \n",
      " 49  issue                             24780 non-null  object \n",
      "dtypes: float64(18), int64(5), object(27)\n",
      "memory usage: 9.5+ MB\n"
     ]
    }
   ],
   "source": [
    "# Check data types, nulls...\n",
    "df_0.info()"
   ]
  },
  {
   "cell_type": "code",
   "execution_count": 209,
   "metadata": {},
   "outputs": [
    {
     "data": {
      "text/plain": [
       "gbifID                                  0\n",
       "datasetKey                              0\n",
       "occurrenceID                            0\n",
       "kingdom                                 0\n",
       "phylum                                  0\n",
       "class                                   0\n",
       "order                                   0\n",
       "family                                  0\n",
       "genus                                   0\n",
       "species                              9704\n",
       "infraspecificEpithet                24788\n",
       "taxonRank                               0\n",
       "scientificName                          0\n",
       "verbatimScientificName                  0\n",
       "verbatimScientificNameAuthorship        0\n",
       "countryCode                             6\n",
       "locality                            24788\n",
       "stateProvince                       24788\n",
       "occurrenceStatus                        0\n",
       "individualCount                     24788\n",
       "publishingOrgKey                        0\n",
       "decimalLatitude                         6\n",
       "decimalLongitude                        6\n",
       "coordinateUncertaintyInMeters       24788\n",
       "coordinatePrecision                 24788\n",
       "elevation                           24788\n",
       "elevationAccuracy                   24788\n",
       "depth                               24788\n",
       "depthAccuracy                       24788\n",
       "eventDate                               0\n",
       "day                                     0\n",
       "month                                   0\n",
       "year                                    0\n",
       "taxonKey                                0\n",
       "speciesKey                           9704\n",
       "basisOfRecord                           0\n",
       "institutionCode                         0\n",
       "collectionCode                          0\n",
       "catalogNumber                       24788\n",
       "recordNumber                        24788\n",
       "identifiedBy                            0\n",
       "dateIdentified                      24788\n",
       "license                                 0\n",
       "rightsHolder                            0\n",
       "recordedBy                              0\n",
       "typeStatus                          24788\n",
       "establishmentMeans                  24788\n",
       "lastInterpreted                         0\n",
       "mediaType                               0\n",
       "issue                                   8\n",
       "dtype: int64"
      ]
     },
     "execution_count": 209,
     "metadata": {},
     "output_type": "execute_result"
    }
   ],
   "source": [
    "# Check how many null values has each column.\n",
    "df_0.isnull().sum()"
   ]
  },
  {
   "cell_type": "code",
   "execution_count": 210,
   "metadata": {},
   "outputs": [
    {
     "data": {
      "text/plain": [
       "0"
      ]
     },
     "execution_count": 210,
     "metadata": {},
     "output_type": "execute_result"
    }
   ],
   "source": [
    "# Check how many duplicated rows are there in the dataframe.\n",
    "df_0.duplicated().sum()"
   ]
  },
  {
   "cell_type": "code",
   "execution_count": 211,
   "metadata": {},
   "outputs": [
    {
     "data": {
      "text/html": [
       "<div>\n",
       "<style scoped>\n",
       "    .dataframe tbody tr th:only-of-type {\n",
       "        vertical-align: middle;\n",
       "    }\n",
       "\n",
       "    .dataframe tbody tr th {\n",
       "        vertical-align: top;\n",
       "    }\n",
       "\n",
       "    .dataframe thead th {\n",
       "        text-align: right;\n",
       "    }\n",
       "</style>\n",
       "<table border=\"1\" class=\"dataframe\">\n",
       "  <thead>\n",
       "    <tr style=\"text-align: right;\">\n",
       "      <th></th>\n",
       "      <th>gbifID</th>\n",
       "      <th>datasetKey</th>\n",
       "      <th>occurrenceID</th>\n",
       "      <th>kingdom</th>\n",
       "      <th>phylum</th>\n",
       "      <th>class</th>\n",
       "      <th>order</th>\n",
       "      <th>family</th>\n",
       "      <th>genus</th>\n",
       "      <th>species</th>\n",
       "      <th>infraspecificEpithet</th>\n",
       "      <th>taxonRank</th>\n",
       "      <th>scientificName</th>\n",
       "      <th>verbatimScientificName</th>\n",
       "      <th>verbatimScientificNameAuthorship</th>\n",
       "      <th>countryCode</th>\n",
       "      <th>locality</th>\n",
       "      <th>stateProvince</th>\n",
       "      <th>occurrenceStatus</th>\n",
       "      <th>individualCount</th>\n",
       "      <th>publishingOrgKey</th>\n",
       "      <th>decimalLatitude</th>\n",
       "      <th>decimalLongitude</th>\n",
       "      <th>coordinateUncertaintyInMeters</th>\n",
       "      <th>coordinatePrecision</th>\n",
       "      <th>elevation</th>\n",
       "      <th>elevationAccuracy</th>\n",
       "      <th>depth</th>\n",
       "      <th>depthAccuracy</th>\n",
       "      <th>eventDate</th>\n",
       "      <th>day</th>\n",
       "      <th>month</th>\n",
       "      <th>year</th>\n",
       "      <th>taxonKey</th>\n",
       "      <th>speciesKey</th>\n",
       "      <th>basisOfRecord</th>\n",
       "      <th>institutionCode</th>\n",
       "      <th>collectionCode</th>\n",
       "      <th>catalogNumber</th>\n",
       "      <th>recordNumber</th>\n",
       "      <th>identifiedBy</th>\n",
       "      <th>dateIdentified</th>\n",
       "      <th>license</th>\n",
       "      <th>rightsHolder</th>\n",
       "      <th>recordedBy</th>\n",
       "      <th>typeStatus</th>\n",
       "      <th>establishmentMeans</th>\n",
       "      <th>lastInterpreted</th>\n",
       "      <th>mediaType</th>\n",
       "      <th>issue</th>\n",
       "    </tr>\n",
       "  </thead>\n",
       "  <tbody>\n",
       "    <tr>\n",
       "      <th>0</th>\n",
       "      <td>4052772078</td>\n",
       "      <td>1fef1ead-3d02-495e-8ff1-6aeb01123408</td>\n",
       "      <td>e7dbc45e-69c8-4d0d-b19d-109880b51192</td>\n",
       "      <td>Animalia</td>\n",
       "      <td>Arthropoda</td>\n",
       "      <td>Insecta</td>\n",
       "      <td>Diptera</td>\n",
       "      <td>Culicidae</td>\n",
       "      <td>Aedes</td>\n",
       "      <td>Aedes albopictus</td>\n",
       "      <td>NaN</td>\n",
       "      <td>SPECIES</td>\n",
       "      <td>Aedes albopictus (Skuse, 1894)</td>\n",
       "      <td>Aedes albopictus (Skuse, 1895)</td>\n",
       "      <td>(Skuse, 1895)</td>\n",
       "      <td>ES</td>\n",
       "      <td>NaN</td>\n",
       "      <td>NaN</td>\n",
       "      <td>PRESENT</td>\n",
       "      <td>NaN</td>\n",
       "      <td>7f7b1e09-01e5-4eb3-8dc0-6a3a6bea9a5c</td>\n",
       "      <td>41.51019</td>\n",
       "      <td>2.24589</td>\n",
       "      <td>NaN</td>\n",
       "      <td>NaN</td>\n",
       "      <td>NaN</td>\n",
       "      <td>NaN</td>\n",
       "      <td>NaN</td>\n",
       "      <td>NaN</td>\n",
       "      <td>2022-11-04T00:00:00</td>\n",
       "      <td>4</td>\n",
       "      <td>11</td>\n",
       "      <td>2022</td>\n",
       "      <td>1651430</td>\n",
       "      <td>1651430.0</td>\n",
       "      <td>HUMAN_OBSERVATION</td>\n",
       "      <td>CREAF</td>\n",
       "      <td>Mosquito Alert Tiger Mosquito</td>\n",
       "      <td>NaN</td>\n",
       "      <td>NaN</td>\n",
       "      <td>Roger Eritja</td>\n",
       "      <td>NaN</td>\n",
       "      <td>CC0_1_0</td>\n",
       "      <td>Mosquito Alert</td>\n",
       "      <td>Anonymous Mosquito Alert citizen scientist</td>\n",
       "      <td>NaN</td>\n",
       "      <td>NaN</td>\n",
       "      <td>2023-03-23T07:53:00.251Z</td>\n",
       "      <td>StillImage</td>\n",
       "      <td>CONTINENT_DERIVED_FROM_COORDINATES</td>\n",
       "    </tr>\n",
       "    <tr>\n",
       "      <th>1</th>\n",
       "      <td>4052772077</td>\n",
       "      <td>1fef1ead-3d02-495e-8ff1-6aeb01123408</td>\n",
       "      <td>393fc1c6-c24f-479c-b184-5c11c8a2e12d</td>\n",
       "      <td>Animalia</td>\n",
       "      <td>Arthropoda</td>\n",
       "      <td>Insecta</td>\n",
       "      <td>Diptera</td>\n",
       "      <td>Culicidae</td>\n",
       "      <td>Aedes</td>\n",
       "      <td>Aedes albopictus</td>\n",
       "      <td>NaN</td>\n",
       "      <td>SPECIES</td>\n",
       "      <td>Aedes albopictus (Skuse, 1894)</td>\n",
       "      <td>Aedes albopictus (Skuse, 1895)</td>\n",
       "      <td>(Skuse, 1895)</td>\n",
       "      <td>IT</td>\n",
       "      <td>NaN</td>\n",
       "      <td>NaN</td>\n",
       "      <td>PRESENT</td>\n",
       "      <td>NaN</td>\n",
       "      <td>7f7b1e09-01e5-4eb3-8dc0-6a3a6bea9a5c</td>\n",
       "      <td>44.40289</td>\n",
       "      <td>8.98775</td>\n",
       "      <td>NaN</td>\n",
       "      <td>NaN</td>\n",
       "      <td>NaN</td>\n",
       "      <td>NaN</td>\n",
       "      <td>NaN</td>\n",
       "      <td>NaN</td>\n",
       "      <td>2021-08-27T00:00:00</td>\n",
       "      <td>27</td>\n",
       "      <td>8</td>\n",
       "      <td>2021</td>\n",
       "      <td>1651430</td>\n",
       "      <td>1651430.0</td>\n",
       "      <td>HUMAN_OBSERVATION</td>\n",
       "      <td>CREAF</td>\n",
       "      <td>Mosquito Alert Tiger Mosquito</td>\n",
       "      <td>NaN</td>\n",
       "      <td>NaN</td>\n",
       "      <td>Karin Bakran-Lebl;Ana Klobucar;UNIROMA1;Roger ...</td>\n",
       "      <td>NaN</td>\n",
       "      <td>CC0_1_0</td>\n",
       "      <td>Mosquito Alert</td>\n",
       "      <td>Anonymous Mosquito Alert citizen scientist</td>\n",
       "      <td>NaN</td>\n",
       "      <td>NaN</td>\n",
       "      <td>2023-03-23T07:53:02.575Z</td>\n",
       "      <td>StillImage</td>\n",
       "      <td>CONTINENT_DERIVED_FROM_COORDINATES</td>\n",
       "    </tr>\n",
       "    <tr>\n",
       "      <th>2</th>\n",
       "      <td>4052772076</td>\n",
       "      <td>1fef1ead-3d02-495e-8ff1-6aeb01123408</td>\n",
       "      <td>bae42ca3-8861-4a61-926d-380359f6a059</td>\n",
       "      <td>Animalia</td>\n",
       "      <td>Arthropoda</td>\n",
       "      <td>Insecta</td>\n",
       "      <td>Diptera</td>\n",
       "      <td>Culicidae</td>\n",
       "      <td>Culex</td>\n",
       "      <td>NaN</td>\n",
       "      <td>NaN</td>\n",
       "      <td>GENUS</td>\n",
       "      <td>Culex Linnaeus, 1758</td>\n",
       "      <td>Culex (Linnaeus, 1758)</td>\n",
       "      <td>(Linnaeus, 1758)</td>\n",
       "      <td>NL</td>\n",
       "      <td>NaN</td>\n",
       "      <td>NaN</td>\n",
       "      <td>PRESENT</td>\n",
       "      <td>NaN</td>\n",
       "      <td>7f7b1e09-01e5-4eb3-8dc0-6a3a6bea9a5c</td>\n",
       "      <td>52.14539</td>\n",
       "      <td>5.39437</td>\n",
       "      <td>NaN</td>\n",
       "      <td>NaN</td>\n",
       "      <td>NaN</td>\n",
       "      <td>NaN</td>\n",
       "      <td>NaN</td>\n",
       "      <td>NaN</td>\n",
       "      <td>2021-09-25T00:00:00</td>\n",
       "      <td>25</td>\n",
       "      <td>9</td>\n",
       "      <td>2021</td>\n",
       "      <td>1497010</td>\n",
       "      <td>NaN</td>\n",
       "      <td>HUMAN_OBSERVATION</td>\n",
       "      <td>CREAF</td>\n",
       "      <td>Mosquito Alert Tiger Mosquito</td>\n",
       "      <td>NaN</td>\n",
       "      <td>NaN</td>\n",
       "      <td>Hans-Peter Fuehrer;Mihaela Kavran;Karin Bakran...</td>\n",
       "      <td>NaN</td>\n",
       "      <td>CC0_1_0</td>\n",
       "      <td>Mosquito Alert</td>\n",
       "      <td>Anonymous Mosquito Alert citizen scientist</td>\n",
       "      <td>NaN</td>\n",
       "      <td>NaN</td>\n",
       "      <td>2023-03-23T07:53:02.576Z</td>\n",
       "      <td>StillImage</td>\n",
       "      <td>CONTINENT_DERIVED_FROM_COORDINATES</td>\n",
       "    </tr>\n",
       "  </tbody>\n",
       "</table>\n",
       "</div>"
      ],
      "text/plain": [
       "       gbifID                            datasetKey  \\\n",
       "0  4052772078  1fef1ead-3d02-495e-8ff1-6aeb01123408   \n",
       "1  4052772077  1fef1ead-3d02-495e-8ff1-6aeb01123408   \n",
       "2  4052772076  1fef1ead-3d02-495e-8ff1-6aeb01123408   \n",
       "\n",
       "                           occurrenceID   kingdom      phylum    class  \\\n",
       "0  e7dbc45e-69c8-4d0d-b19d-109880b51192  Animalia  Arthropoda  Insecta   \n",
       "1  393fc1c6-c24f-479c-b184-5c11c8a2e12d  Animalia  Arthropoda  Insecta   \n",
       "2  bae42ca3-8861-4a61-926d-380359f6a059  Animalia  Arthropoda  Insecta   \n",
       "\n",
       "     order     family  genus           species  infraspecificEpithet  \\\n",
       "0  Diptera  Culicidae  Aedes  Aedes albopictus                   NaN   \n",
       "1  Diptera  Culicidae  Aedes  Aedes albopictus                   NaN   \n",
       "2  Diptera  Culicidae  Culex               NaN                   NaN   \n",
       "\n",
       "  taxonRank                  scientificName          verbatimScientificName  \\\n",
       "0   SPECIES  Aedes albopictus (Skuse, 1894)  Aedes albopictus (Skuse, 1895)   \n",
       "1   SPECIES  Aedes albopictus (Skuse, 1894)  Aedes albopictus (Skuse, 1895)   \n",
       "2     GENUS            Culex Linnaeus, 1758          Culex (Linnaeus, 1758)   \n",
       "\n",
       "  verbatimScientificNameAuthorship countryCode  locality  stateProvince  \\\n",
       "0                    (Skuse, 1895)          ES       NaN            NaN   \n",
       "1                    (Skuse, 1895)          IT       NaN            NaN   \n",
       "2                 (Linnaeus, 1758)          NL       NaN            NaN   \n",
       "\n",
       "  occurrenceStatus  individualCount                      publishingOrgKey  \\\n",
       "0          PRESENT              NaN  7f7b1e09-01e5-4eb3-8dc0-6a3a6bea9a5c   \n",
       "1          PRESENT              NaN  7f7b1e09-01e5-4eb3-8dc0-6a3a6bea9a5c   \n",
       "2          PRESENT              NaN  7f7b1e09-01e5-4eb3-8dc0-6a3a6bea9a5c   \n",
       "\n",
       "   decimalLatitude  decimalLongitude  coordinateUncertaintyInMeters  \\\n",
       "0         41.51019           2.24589                            NaN   \n",
       "1         44.40289           8.98775                            NaN   \n",
       "2         52.14539           5.39437                            NaN   \n",
       "\n",
       "   coordinatePrecision  elevation  elevationAccuracy  depth  depthAccuracy  \\\n",
       "0                  NaN        NaN                NaN    NaN            NaN   \n",
       "1                  NaN        NaN                NaN    NaN            NaN   \n",
       "2                  NaN        NaN                NaN    NaN            NaN   \n",
       "\n",
       "             eventDate  day  month  year  taxonKey  speciesKey  \\\n",
       "0  2022-11-04T00:00:00    4     11  2022   1651430   1651430.0   \n",
       "1  2021-08-27T00:00:00   27      8  2021   1651430   1651430.0   \n",
       "2  2021-09-25T00:00:00   25      9  2021   1497010         NaN   \n",
       "\n",
       "       basisOfRecord institutionCode                 collectionCode  \\\n",
       "0  HUMAN_OBSERVATION           CREAF  Mosquito Alert Tiger Mosquito   \n",
       "1  HUMAN_OBSERVATION           CREAF  Mosquito Alert Tiger Mosquito   \n",
       "2  HUMAN_OBSERVATION           CREAF  Mosquito Alert Tiger Mosquito   \n",
       "\n",
       "   catalogNumber  recordNumber  \\\n",
       "0            NaN           NaN   \n",
       "1            NaN           NaN   \n",
       "2            NaN           NaN   \n",
       "\n",
       "                                        identifiedBy  dateIdentified  license  \\\n",
       "0                                       Roger Eritja             NaN  CC0_1_0   \n",
       "1  Karin Bakran-Lebl;Ana Klobucar;UNIROMA1;Roger ...             NaN  CC0_1_0   \n",
       "2  Hans-Peter Fuehrer;Mihaela Kavran;Karin Bakran...             NaN  CC0_1_0   \n",
       "\n",
       "     rightsHolder                                  recordedBy  typeStatus  \\\n",
       "0  Mosquito Alert  Anonymous Mosquito Alert citizen scientist         NaN   \n",
       "1  Mosquito Alert  Anonymous Mosquito Alert citizen scientist         NaN   \n",
       "2  Mosquito Alert  Anonymous Mosquito Alert citizen scientist         NaN   \n",
       "\n",
       "   establishmentMeans           lastInterpreted   mediaType  \\\n",
       "0                 NaN  2023-03-23T07:53:00.251Z  StillImage   \n",
       "1                 NaN  2023-03-23T07:53:02.575Z  StillImage   \n",
       "2                 NaN  2023-03-23T07:53:02.576Z  StillImage   \n",
       "\n",
       "                                issue  \n",
       "0  CONTINENT_DERIVED_FROM_COORDINATES  \n",
       "1  CONTINENT_DERIVED_FROM_COORDINATES  \n",
       "2  CONTINENT_DERIVED_FROM_COORDINATES  "
      ]
     },
     "execution_count": 211,
     "metadata": {},
     "output_type": "execute_result"
    }
   ],
   "source": [
    "# Create a copy of the original dataframe.\n",
    "df_1=df_0.copy()\n",
    "df_1.head(3)"
   ]
  },
  {
   "cell_type": "code",
   "execution_count": 212,
   "metadata": {},
   "outputs": [
    {
     "data": {
      "text/plain": [
       "infraspecificEpithet             True\n",
       "locality                         True\n",
       "stateProvince                    True\n",
       "individualCount                  True\n",
       "coordinateUncertaintyInMeters    True\n",
       "coordinatePrecision              True\n",
       "elevation                        True\n",
       "elevationAccuracy                True\n",
       "depth                            True\n",
       "depthAccuracy                    True\n",
       "catalogNumber                    True\n",
       "recordNumber                     True\n",
       "dateIdentified                   True\n",
       "typeStatus                       True\n",
       "establishmentMeans               True\n",
       "dtype: bool"
      ]
     },
     "execution_count": 212,
     "metadata": {},
     "output_type": "execute_result"
    }
   ],
   "source": [
    "# Check which columns have null in every row.\n",
    "true_1=df_1.isnull().sum()==df_0.shape[0]\n",
    "true_2=true_1[true_1==True]\n",
    "true_2"
   ]
  },
  {
   "cell_type": "code",
   "execution_count": 213,
   "metadata": {},
   "outputs": [
    {
     "data": {
      "text/plain": [
       "(15,)"
      ]
     },
     "execution_count": 213,
     "metadata": {},
     "output_type": "execute_result"
    }
   ],
   "source": [
    "true_2.shape"
   ]
  },
  {
   "cell_type": "code",
   "execution_count": 214,
   "metadata": {},
   "outputs": [
    {
     "data": {
      "text/plain": [
       "(24788, 35)"
      ]
     },
     "execution_count": 214,
     "metadata": {},
     "output_type": "execute_result"
    }
   ],
   "source": [
    "# Delete the columns with only null values.\n",
    "df_1.drop(true_2.index,axis=1,inplace=True)\n",
    "df_1.shape"
   ]
  },
  {
   "cell_type": "code",
   "execution_count": 215,
   "metadata": {},
   "outputs": [
    {
     "data": {
      "text/plain": [
       "gbifID                               0.000000\n",
       "datasetKey                           0.000000\n",
       "occurrenceID                         0.000000\n",
       "kingdom                              0.000000\n",
       "phylum                               0.000000\n",
       "class                                0.000000\n",
       "order                                0.000000\n",
       "family                               0.000000\n",
       "genus                                0.000000\n",
       "species                             39.147975\n",
       "taxonRank                            0.000000\n",
       "scientificName                       0.000000\n",
       "verbatimScientificName               0.000000\n",
       "verbatimScientificNameAuthorship     0.000000\n",
       "countryCode                          0.024205\n",
       "occurrenceStatus                     0.000000\n",
       "publishingOrgKey                     0.000000\n",
       "decimalLatitude                      0.024205\n",
       "decimalLongitude                     0.024205\n",
       "eventDate                            0.000000\n",
       "day                                  0.000000\n",
       "month                                0.000000\n",
       "year                                 0.000000\n",
       "taxonKey                             0.000000\n",
       "speciesKey                          39.147975\n",
       "basisOfRecord                        0.000000\n",
       "institutionCode                      0.000000\n",
       "collectionCode                       0.000000\n",
       "identifiedBy                         0.000000\n",
       "license                              0.000000\n",
       "rightsHolder                         0.000000\n",
       "recordedBy                           0.000000\n",
       "lastInterpreted                      0.000000\n",
       "mediaType                            0.000000\n",
       "issue                                0.032274\n",
       "dtype: float64"
      ]
     },
     "execution_count": 215,
     "metadata": {},
     "output_type": "execute_result"
    }
   ],
   "source": [
    "# Check again null values looking at its percentage.\n",
    "df_1_nulos=df_1.isnull().sum()*100/df_1.shape[0]\n",
    "df_1_nulos.columns=['column','null_percetaje']\n",
    "df_1_nulos"
   ]
  },
  {
   "cell_type": "code",
   "execution_count": 216,
   "metadata": {},
   "outputs": [
    {
     "data": {
      "text/html": [
       "<div>\n",
       "<style scoped>\n",
       "    .dataframe tbody tr th:only-of-type {\n",
       "        vertical-align: middle;\n",
       "    }\n",
       "\n",
       "    .dataframe tbody tr th {\n",
       "        vertical-align: top;\n",
       "    }\n",
       "\n",
       "    .dataframe thead th {\n",
       "        text-align: right;\n",
       "    }\n",
       "</style>\n",
       "<table border=\"1\" class=\"dataframe\">\n",
       "  <thead>\n",
       "    <tr style=\"text-align: right;\">\n",
       "      <th></th>\n",
       "      <th>missing</th>\n",
       "      <th>total</th>\n",
       "      <th>percent</th>\n",
       "    </tr>\n",
       "  </thead>\n",
       "  <tbody>\n",
       "    <tr>\n",
       "      <th>species</th>\n",
       "      <td>9704</td>\n",
       "      <td>24788</td>\n",
       "      <td>39.147975</td>\n",
       "    </tr>\n",
       "    <tr>\n",
       "      <th>speciesKey</th>\n",
       "      <td>9704</td>\n",
       "      <td>24788</td>\n",
       "      <td>39.147975</td>\n",
       "    </tr>\n",
       "    <tr>\n",
       "      <th>issue</th>\n",
       "      <td>8</td>\n",
       "      <td>24788</td>\n",
       "      <td>0.032274</td>\n",
       "    </tr>\n",
       "    <tr>\n",
       "      <th>decimalLongitude</th>\n",
       "      <td>6</td>\n",
       "      <td>24788</td>\n",
       "      <td>0.024205</td>\n",
       "    </tr>\n",
       "    <tr>\n",
       "      <th>countryCode</th>\n",
       "      <td>6</td>\n",
       "      <td>24788</td>\n",
       "      <td>0.024205</td>\n",
       "    </tr>\n",
       "    <tr>\n",
       "      <th>decimalLatitude</th>\n",
       "      <td>6</td>\n",
       "      <td>24788</td>\n",
       "      <td>0.024205</td>\n",
       "    </tr>\n",
       "    <tr>\n",
       "      <th>order</th>\n",
       "      <td>0</td>\n",
       "      <td>24788</td>\n",
       "      <td>0.000000</td>\n",
       "    </tr>\n",
       "    <tr>\n",
       "      <th>month</th>\n",
       "      <td>0</td>\n",
       "      <td>24788</td>\n",
       "      <td>0.000000</td>\n",
       "    </tr>\n",
       "    <tr>\n",
       "      <th>mediaType</th>\n",
       "      <td>0</td>\n",
       "      <td>24788</td>\n",
       "      <td>0.000000</td>\n",
       "    </tr>\n",
       "    <tr>\n",
       "      <th>lastInterpreted</th>\n",
       "      <td>0</td>\n",
       "      <td>24788</td>\n",
       "      <td>0.000000</td>\n",
       "    </tr>\n",
       "    <tr>\n",
       "      <th>recordedBy</th>\n",
       "      <td>0</td>\n",
       "      <td>24788</td>\n",
       "      <td>0.000000</td>\n",
       "    </tr>\n",
       "    <tr>\n",
       "      <th>rightsHolder</th>\n",
       "      <td>0</td>\n",
       "      <td>24788</td>\n",
       "      <td>0.000000</td>\n",
       "    </tr>\n",
       "    <tr>\n",
       "      <th>license</th>\n",
       "      <td>0</td>\n",
       "      <td>24788</td>\n",
       "      <td>0.000000</td>\n",
       "    </tr>\n",
       "    <tr>\n",
       "      <th>identifiedBy</th>\n",
       "      <td>0</td>\n",
       "      <td>24788</td>\n",
       "      <td>0.000000</td>\n",
       "    </tr>\n",
       "    <tr>\n",
       "      <th>collectionCode</th>\n",
       "      <td>0</td>\n",
       "      <td>24788</td>\n",
       "      <td>0.000000</td>\n",
       "    </tr>\n",
       "    <tr>\n",
       "      <th>institutionCode</th>\n",
       "      <td>0</td>\n",
       "      <td>24788</td>\n",
       "      <td>0.000000</td>\n",
       "    </tr>\n",
       "    <tr>\n",
       "      <th>basisOfRecord</th>\n",
       "      <td>0</td>\n",
       "      <td>24788</td>\n",
       "      <td>0.000000</td>\n",
       "    </tr>\n",
       "    <tr>\n",
       "      <th>occurrenceID</th>\n",
       "      <td>0</td>\n",
       "      <td>24788</td>\n",
       "      <td>0.000000</td>\n",
       "    </tr>\n",
       "    <tr>\n",
       "      <th>taxonKey</th>\n",
       "      <td>0</td>\n",
       "      <td>24788</td>\n",
       "      <td>0.000000</td>\n",
       "    </tr>\n",
       "    <tr>\n",
       "      <th>year</th>\n",
       "      <td>0</td>\n",
       "      <td>24788</td>\n",
       "      <td>0.000000</td>\n",
       "    </tr>\n",
       "    <tr>\n",
       "      <th>day</th>\n",
       "      <td>0</td>\n",
       "      <td>24788</td>\n",
       "      <td>0.000000</td>\n",
       "    </tr>\n",
       "    <tr>\n",
       "      <th>family</th>\n",
       "      <td>0</td>\n",
       "      <td>24788</td>\n",
       "      <td>0.000000</td>\n",
       "    </tr>\n",
       "    <tr>\n",
       "      <th>eventDate</th>\n",
       "      <td>0</td>\n",
       "      <td>24788</td>\n",
       "      <td>0.000000</td>\n",
       "    </tr>\n",
       "    <tr>\n",
       "      <th>kingdom</th>\n",
       "      <td>0</td>\n",
       "      <td>24788</td>\n",
       "      <td>0.000000</td>\n",
       "    </tr>\n",
       "    <tr>\n",
       "      <th>datasetKey</th>\n",
       "      <td>0</td>\n",
       "      <td>24788</td>\n",
       "      <td>0.000000</td>\n",
       "    </tr>\n",
       "    <tr>\n",
       "      <th>publishingOrgKey</th>\n",
       "      <td>0</td>\n",
       "      <td>24788</td>\n",
       "      <td>0.000000</td>\n",
       "    </tr>\n",
       "    <tr>\n",
       "      <th>occurrenceStatus</th>\n",
       "      <td>0</td>\n",
       "      <td>24788</td>\n",
       "      <td>0.000000</td>\n",
       "    </tr>\n",
       "    <tr>\n",
       "      <th>phylum</th>\n",
       "      <td>0</td>\n",
       "      <td>24788</td>\n",
       "      <td>0.000000</td>\n",
       "    </tr>\n",
       "    <tr>\n",
       "      <th>verbatimScientificNameAuthorship</th>\n",
       "      <td>0</td>\n",
       "      <td>24788</td>\n",
       "      <td>0.000000</td>\n",
       "    </tr>\n",
       "    <tr>\n",
       "      <th>verbatimScientificName</th>\n",
       "      <td>0</td>\n",
       "      <td>24788</td>\n",
       "      <td>0.000000</td>\n",
       "    </tr>\n",
       "    <tr>\n",
       "      <th>scientificName</th>\n",
       "      <td>0</td>\n",
       "      <td>24788</td>\n",
       "      <td>0.000000</td>\n",
       "    </tr>\n",
       "    <tr>\n",
       "      <th>taxonRank</th>\n",
       "      <td>0</td>\n",
       "      <td>24788</td>\n",
       "      <td>0.000000</td>\n",
       "    </tr>\n",
       "    <tr>\n",
       "      <th>class</th>\n",
       "      <td>0</td>\n",
       "      <td>24788</td>\n",
       "      <td>0.000000</td>\n",
       "    </tr>\n",
       "    <tr>\n",
       "      <th>genus</th>\n",
       "      <td>0</td>\n",
       "      <td>24788</td>\n",
       "      <td>0.000000</td>\n",
       "    </tr>\n",
       "    <tr>\n",
       "      <th>gbifID</th>\n",
       "      <td>0</td>\n",
       "      <td>24788</td>\n",
       "      <td>0.000000</td>\n",
       "    </tr>\n",
       "  </tbody>\n",
       "</table>\n",
       "</div>"
      ],
      "text/plain": [
       "                                  missing  total    percent\n",
       "species                              9704  24788  39.147975\n",
       "speciesKey                           9704  24788  39.147975\n",
       "issue                                   8  24788   0.032274\n",
       "decimalLongitude                        6  24788   0.024205\n",
       "countryCode                             6  24788   0.024205\n",
       "decimalLatitude                         6  24788   0.024205\n",
       "order                                   0  24788   0.000000\n",
       "month                                   0  24788   0.000000\n",
       "mediaType                               0  24788   0.000000\n",
       "lastInterpreted                         0  24788   0.000000\n",
       "recordedBy                              0  24788   0.000000\n",
       "rightsHolder                            0  24788   0.000000\n",
       "license                                 0  24788   0.000000\n",
       "identifiedBy                            0  24788   0.000000\n",
       "collectionCode                          0  24788   0.000000\n",
       "institutionCode                         0  24788   0.000000\n",
       "basisOfRecord                           0  24788   0.000000\n",
       "occurrenceID                            0  24788   0.000000\n",
       "taxonKey                                0  24788   0.000000\n",
       "year                                    0  24788   0.000000\n",
       "day                                     0  24788   0.000000\n",
       "family                                  0  24788   0.000000\n",
       "eventDate                               0  24788   0.000000\n",
       "kingdom                                 0  24788   0.000000\n",
       "datasetKey                              0  24788   0.000000\n",
       "publishingOrgKey                        0  24788   0.000000\n",
       "occurrenceStatus                        0  24788   0.000000\n",
       "phylum                                  0  24788   0.000000\n",
       "verbatimScientificNameAuthorship        0  24788   0.000000\n",
       "verbatimScientificName                  0  24788   0.000000\n",
       "scientificName                          0  24788   0.000000\n",
       "taxonRank                               0  24788   0.000000\n",
       "class                                   0  24788   0.000000\n",
       "genus                                   0  24788   0.000000\n",
       "gbifID                                  0  24788   0.000000"
      ]
     },
     "execution_count": 216,
     "metadata": {},
     "output_type": "execute_result"
    }
   ],
   "source": [
    "# Check again null values looking at its percentage.\n",
    "df_1.stb.missing()"
   ]
  },
  {
   "cell_type": "code",
   "execution_count": 217,
   "metadata": {},
   "outputs": [
    {
     "data": {
      "text/html": [
       "<div>\n",
       "<style scoped>\n",
       "    .dataframe tbody tr th:only-of-type {\n",
       "        vertical-align: middle;\n",
       "    }\n",
       "\n",
       "    .dataframe tbody tr th {\n",
       "        vertical-align: top;\n",
       "    }\n",
       "\n",
       "    .dataframe thead th {\n",
       "        text-align: right;\n",
       "    }\n",
       "</style>\n",
       "<table border=\"1\" class=\"dataframe\">\n",
       "  <thead>\n",
       "    <tr style=\"text-align: right;\">\n",
       "      <th></th>\n",
       "      <th>column</th>\n",
       "      <th>null_percetaje</th>\n",
       "    </tr>\n",
       "  </thead>\n",
       "  <tbody>\n",
       "    <tr>\n",
       "      <th>0</th>\n",
       "      <td>gbifID</td>\n",
       "      <td>0.000000</td>\n",
       "    </tr>\n",
       "    <tr>\n",
       "      <th>1</th>\n",
       "      <td>datasetKey</td>\n",
       "      <td>0.000000</td>\n",
       "    </tr>\n",
       "    <tr>\n",
       "      <th>2</th>\n",
       "      <td>occurrenceID</td>\n",
       "      <td>0.000000</td>\n",
       "    </tr>\n",
       "    <tr>\n",
       "      <th>3</th>\n",
       "      <td>kingdom</td>\n",
       "      <td>0.000000</td>\n",
       "    </tr>\n",
       "    <tr>\n",
       "      <th>4</th>\n",
       "      <td>phylum</td>\n",
       "      <td>0.000000</td>\n",
       "    </tr>\n",
       "    <tr>\n",
       "      <th>5</th>\n",
       "      <td>class</td>\n",
       "      <td>0.000000</td>\n",
       "    </tr>\n",
       "    <tr>\n",
       "      <th>6</th>\n",
       "      <td>order</td>\n",
       "      <td>0.000000</td>\n",
       "    </tr>\n",
       "    <tr>\n",
       "      <th>7</th>\n",
       "      <td>family</td>\n",
       "      <td>0.000000</td>\n",
       "    </tr>\n",
       "    <tr>\n",
       "      <th>8</th>\n",
       "      <td>genus</td>\n",
       "      <td>0.000000</td>\n",
       "    </tr>\n",
       "    <tr>\n",
       "      <th>9</th>\n",
       "      <td>species</td>\n",
       "      <td>39.147975</td>\n",
       "    </tr>\n",
       "    <tr>\n",
       "      <th>10</th>\n",
       "      <td>taxonRank</td>\n",
       "      <td>0.000000</td>\n",
       "    </tr>\n",
       "    <tr>\n",
       "      <th>11</th>\n",
       "      <td>scientificName</td>\n",
       "      <td>0.000000</td>\n",
       "    </tr>\n",
       "    <tr>\n",
       "      <th>12</th>\n",
       "      <td>verbatimScientificName</td>\n",
       "      <td>0.000000</td>\n",
       "    </tr>\n",
       "    <tr>\n",
       "      <th>13</th>\n",
       "      <td>verbatimScientificNameAuthorship</td>\n",
       "      <td>0.000000</td>\n",
       "    </tr>\n",
       "    <tr>\n",
       "      <th>14</th>\n",
       "      <td>countryCode</td>\n",
       "      <td>0.024205</td>\n",
       "    </tr>\n",
       "    <tr>\n",
       "      <th>15</th>\n",
       "      <td>occurrenceStatus</td>\n",
       "      <td>0.000000</td>\n",
       "    </tr>\n",
       "    <tr>\n",
       "      <th>16</th>\n",
       "      <td>publishingOrgKey</td>\n",
       "      <td>0.000000</td>\n",
       "    </tr>\n",
       "    <tr>\n",
       "      <th>17</th>\n",
       "      <td>decimalLatitude</td>\n",
       "      <td>0.024205</td>\n",
       "    </tr>\n",
       "    <tr>\n",
       "      <th>18</th>\n",
       "      <td>decimalLongitude</td>\n",
       "      <td>0.024205</td>\n",
       "    </tr>\n",
       "    <tr>\n",
       "      <th>19</th>\n",
       "      <td>eventDate</td>\n",
       "      <td>0.000000</td>\n",
       "    </tr>\n",
       "    <tr>\n",
       "      <th>20</th>\n",
       "      <td>day</td>\n",
       "      <td>0.000000</td>\n",
       "    </tr>\n",
       "    <tr>\n",
       "      <th>21</th>\n",
       "      <td>month</td>\n",
       "      <td>0.000000</td>\n",
       "    </tr>\n",
       "    <tr>\n",
       "      <th>22</th>\n",
       "      <td>year</td>\n",
       "      <td>0.000000</td>\n",
       "    </tr>\n",
       "    <tr>\n",
       "      <th>23</th>\n",
       "      <td>taxonKey</td>\n",
       "      <td>0.000000</td>\n",
       "    </tr>\n",
       "    <tr>\n",
       "      <th>24</th>\n",
       "      <td>speciesKey</td>\n",
       "      <td>39.147975</td>\n",
       "    </tr>\n",
       "    <tr>\n",
       "      <th>25</th>\n",
       "      <td>basisOfRecord</td>\n",
       "      <td>0.000000</td>\n",
       "    </tr>\n",
       "    <tr>\n",
       "      <th>26</th>\n",
       "      <td>institutionCode</td>\n",
       "      <td>0.000000</td>\n",
       "    </tr>\n",
       "    <tr>\n",
       "      <th>27</th>\n",
       "      <td>collectionCode</td>\n",
       "      <td>0.000000</td>\n",
       "    </tr>\n",
       "    <tr>\n",
       "      <th>28</th>\n",
       "      <td>identifiedBy</td>\n",
       "      <td>0.000000</td>\n",
       "    </tr>\n",
       "    <tr>\n",
       "      <th>29</th>\n",
       "      <td>license</td>\n",
       "      <td>0.000000</td>\n",
       "    </tr>\n",
       "    <tr>\n",
       "      <th>30</th>\n",
       "      <td>rightsHolder</td>\n",
       "      <td>0.000000</td>\n",
       "    </tr>\n",
       "    <tr>\n",
       "      <th>31</th>\n",
       "      <td>recordedBy</td>\n",
       "      <td>0.000000</td>\n",
       "    </tr>\n",
       "    <tr>\n",
       "      <th>32</th>\n",
       "      <td>lastInterpreted</td>\n",
       "      <td>0.000000</td>\n",
       "    </tr>\n",
       "    <tr>\n",
       "      <th>33</th>\n",
       "      <td>mediaType</td>\n",
       "      <td>0.000000</td>\n",
       "    </tr>\n",
       "    <tr>\n",
       "      <th>34</th>\n",
       "      <td>issue</td>\n",
       "      <td>0.032274</td>\n",
       "    </tr>\n",
       "  </tbody>\n",
       "</table>\n",
       "</div>"
      ],
      "text/plain": [
       "                              column  null_percetaje\n",
       "0                             gbifID        0.000000\n",
       "1                         datasetKey        0.000000\n",
       "2                       occurrenceID        0.000000\n",
       "3                            kingdom        0.000000\n",
       "4                             phylum        0.000000\n",
       "5                              class        0.000000\n",
       "6                              order        0.000000\n",
       "7                             family        0.000000\n",
       "8                              genus        0.000000\n",
       "9                            species       39.147975\n",
       "10                         taxonRank        0.000000\n",
       "11                    scientificName        0.000000\n",
       "12            verbatimScientificName        0.000000\n",
       "13  verbatimScientificNameAuthorship        0.000000\n",
       "14                       countryCode        0.024205\n",
       "15                  occurrenceStatus        0.000000\n",
       "16                  publishingOrgKey        0.000000\n",
       "17                   decimalLatitude        0.024205\n",
       "18                  decimalLongitude        0.024205\n",
       "19                         eventDate        0.000000\n",
       "20                               day        0.000000\n",
       "21                             month        0.000000\n",
       "22                              year        0.000000\n",
       "23                          taxonKey        0.000000\n",
       "24                        speciesKey       39.147975\n",
       "25                     basisOfRecord        0.000000\n",
       "26                   institutionCode        0.000000\n",
       "27                    collectionCode        0.000000\n",
       "28                      identifiedBy        0.000000\n",
       "29                           license        0.000000\n",
       "30                      rightsHolder        0.000000\n",
       "31                        recordedBy        0.000000\n",
       "32                   lastInterpreted        0.000000\n",
       "33                         mediaType        0.000000\n",
       "34                             issue        0.032274"
      ]
     },
     "execution_count": 217,
     "metadata": {},
     "output_type": "execute_result"
    }
   ],
   "source": [
    "# This could also be done like this.\n",
    "df_1_nulos=pd.DataFrame(df_1.isnull().sum()*100/df_1.shape[0]).reset_index()\n",
    "df_1_nulos.columns=['column','null_percetaje']\n",
    "df_1_nulos"
   ]
  },
  {
   "cell_type": "code",
   "execution_count": 218,
   "metadata": {},
   "outputs": [
    {
     "data": {
      "text/html": [
       "<div>\n",
       "<style scoped>\n",
       "    .dataframe tbody tr th:only-of-type {\n",
       "        vertical-align: middle;\n",
       "    }\n",
       "\n",
       "    .dataframe tbody tr th {\n",
       "        vertical-align: top;\n",
       "    }\n",
       "\n",
       "    .dataframe thead th {\n",
       "        text-align: right;\n",
       "    }\n",
       "</style>\n",
       "<table border=\"1\" class=\"dataframe\">\n",
       "  <thead>\n",
       "    <tr style=\"text-align: right;\">\n",
       "      <th></th>\n",
       "      <th>gbifID</th>\n",
       "      <th>decimalLatitude</th>\n",
       "      <th>decimalLongitude</th>\n",
       "      <th>day</th>\n",
       "      <th>month</th>\n",
       "      <th>year</th>\n",
       "      <th>taxonKey</th>\n",
       "      <th>speciesKey</th>\n",
       "    </tr>\n",
       "  </thead>\n",
       "  <tbody>\n",
       "    <tr>\n",
       "      <th>0</th>\n",
       "      <td>4052772078</td>\n",
       "      <td>41.51019</td>\n",
       "      <td>2.24589</td>\n",
       "      <td>4</td>\n",
       "      <td>11</td>\n",
       "      <td>2022</td>\n",
       "      <td>1651430</td>\n",
       "      <td>1651430.0</td>\n",
       "    </tr>\n",
       "    <tr>\n",
       "      <th>1</th>\n",
       "      <td>4052772077</td>\n",
       "      <td>44.40289</td>\n",
       "      <td>8.98775</td>\n",
       "      <td>27</td>\n",
       "      <td>8</td>\n",
       "      <td>2021</td>\n",
       "      <td>1651430</td>\n",
       "      <td>1651430.0</td>\n",
       "    </tr>\n",
       "    <tr>\n",
       "      <th>2</th>\n",
       "      <td>4052772076</td>\n",
       "      <td>52.14539</td>\n",
       "      <td>5.39437</td>\n",
       "      <td>25</td>\n",
       "      <td>9</td>\n",
       "      <td>2021</td>\n",
       "      <td>1497010</td>\n",
       "      <td>NaN</td>\n",
       "    </tr>\n",
       "  </tbody>\n",
       "</table>\n",
       "</div>"
      ],
      "text/plain": [
       "       gbifID  decimalLatitude  decimalLongitude  day  month  year  taxonKey  \\\n",
       "0  4052772078         41.51019           2.24589    4     11  2022   1651430   \n",
       "1  4052772077         44.40289           8.98775   27      8  2021   1651430   \n",
       "2  4052772076         52.14539           5.39437   25      9  2021   1497010   \n",
       "\n",
       "   speciesKey  \n",
       "0   1651430.0  \n",
       "1   1651430.0  \n",
       "2         NaN  "
      ]
     },
     "execution_count": 218,
     "metadata": {},
     "output_type": "execute_result"
    }
   ],
   "source": [
    "# Check for outliers.\n",
    "numeric=df_1.select_dtypes(include=np.number)\n",
    "numeric.head(3)"
   ]
  },
  {
   "cell_type": "code",
   "execution_count": 228,
   "metadata": {},
   "outputs": [
    {
     "data": {
      "image/png": "[encoded data removed]",
      "text/plain": [
       "<Figure size 1080x2160 with 8 Axes>"
      ]
     },
     "metadata": {
      "needs_background": "light"
     },
     "output_type": "display_data"
    }
   ],
   "source": [
    "fig, axes =plt.subplots(8,1,figsize=(15,30))\n",
    "for graph in range(len(numeric.columns)):\n",
    "    sns.boxplot(x=numeric.columns[graph],data=df_1,ax=axes[graph])\n",
    "    \n",
    "plt.show()"
   ]
  },
  {
   "cell_type": "code",
   "execution_count": 232,
   "metadata": {},
   "outputs": [],
   "source": [
    "# Check for outliers in month using another method.\n",
    "mean_month=df_1['month'].mean()\n",
    "std_month=df_1['month'].std()\n",
    "upper=mean_month + std_month\n",
    "lower=mean_month - std_month\n",
    "ucb=mean_month + std_month * 3\n",
    "lcb=mean_month - std_month * 3"
   ]
  },
  {
   "cell_type": "code",
   "execution_count": null,
   "metadata": {},
   "outputs": [],
   "source": [
    "month_graph=sns.histplot()"
   ]
  },
  {
   "cell_type": "code",
   "execution_count": null,
   "metadata": {},
   "outputs": [],
   "source": []
  },
  {
   "cell_type": "code",
   "execution_count": null,
   "metadata": {},
   "outputs": [],
   "source": []
  },
  {
   "cell_type": "code",
   "execution_count": null,
   "metadata": {},
   "outputs": [],
   "source": []
  },
  {
   "cell_type": "code",
   "execution_count": null,
   "metadata": {},
   "outputs": [],
   "source": []
  },
  {
   "cell_type": "code",
   "execution_count": null,
   "metadata": {},
   "outputs": [],
   "source": []
  },
  {
   "cell_type": "code",
   "execution_count": 172,
   "metadata": {},
   "outputs": [
    {
     "data": {
      "text/plain": [
       "Aedes albopictus    14518\n",
       "Aedes japonicus       360\n",
       "Aedes koreicus        164\n",
       "Aedes aegypti          42\n",
       "Name: species, dtype: int64"
      ]
     },
     "execution_count": 172,
     "metadata": {},
     "output_type": "execute_result"
    }
   ],
   "source": [
    "# Check the unique values and its quantity.\n",
    "df_1['species'].value_counts()"
   ]
  },
  {
   "cell_type": "code",
   "execution_count": 173,
   "metadata": {},
   "outputs": [
    {
     "data": {
      "text/plain": [
       "1651430.0    14518\n",
       "1652212.0      360\n",
       "1652150.0      164\n",
       "1651891.0       42\n",
       "Name: speciesKey, dtype: int64"
      ]
     },
     "execution_count": 173,
     "metadata": {},
     "output_type": "execute_result"
    }
   ],
   "source": [
    "df_1['speciesKey'].value_counts()"
   ]
  },
  {
   "cell_type": "code",
   "execution_count": 174,
   "metadata": {},
   "outputs": [],
   "source": [
    "# As this two rows have redundant information, one of them will be deleted.\n",
    "columns_to_delete=['speciesKey']"
   ]
  },
  {
   "cell_type": "code",
   "execution_count": 176,
   "metadata": {},
   "outputs": [
    {
     "data": {
      "text/plain": [
       "array(['1fef1ead-3d02-495e-8ff1-6aeb01123408'], dtype=object)"
      ]
     },
     "execution_count": 176,
     "metadata": {},
     "output_type": "execute_result"
    }
   ],
   "source": [
    "# Check which other columns won't be used.\n",
    "df_1['datasetKey'].unique()"
   ]
  },
  {
   "cell_type": "code",
   "execution_count": 177,
   "metadata": {},
   "outputs": [
    {
     "data": {
      "text/plain": [
       "(24788,)"
      ]
     },
     "execution_count": 177,
     "metadata": {},
     "output_type": "execute_result"
    }
   ],
   "source": [
    "df_1['occurrenceID'].unique().shape"
   ]
  },
  {
   "cell_type": "code",
   "execution_count": 178,
   "metadata": {},
   "outputs": [
    {
     "data": {
      "text/plain": [
       "array(['Animalia'], dtype=object)"
      ]
     },
     "execution_count": 178,
     "metadata": {},
     "output_type": "execute_result"
    }
   ],
   "source": [
    "df_1['kingdom'].unique()"
   ]
  },
  {
   "cell_type": "code",
   "execution_count": 179,
   "metadata": {},
   "outputs": [
    {
     "data": {
      "text/plain": [
       "array(['Arthropoda'], dtype=object)"
      ]
     },
     "execution_count": 179,
     "metadata": {},
     "output_type": "execute_result"
    }
   ],
   "source": [
    "df_1['phylum'].unique()"
   ]
  },
  {
   "cell_type": "code",
   "execution_count": 180,
   "metadata": {},
   "outputs": [
    {
     "data": {
      "text/plain": [
       "array(['Insecta'], dtype=object)"
      ]
     },
     "execution_count": 180,
     "metadata": {},
     "output_type": "execute_result"
    }
   ],
   "source": [
    "df_1['class'].unique()"
   ]
  },
  {
   "cell_type": "code",
   "execution_count": 181,
   "metadata": {},
   "outputs": [
    {
     "data": {
      "text/plain": [
       "array(['Diptera'], dtype=object)"
      ]
     },
     "execution_count": 181,
     "metadata": {},
     "output_type": "execute_result"
    }
   ],
   "source": [
    "df_1['order'].unique()"
   ]
  },
  {
   "cell_type": "code",
   "execution_count": 182,
   "metadata": {},
   "outputs": [
    {
     "data": {
      "text/plain": [
       "array(['Culicidae'], dtype=object)"
      ]
     },
     "execution_count": 182,
     "metadata": {},
     "output_type": "execute_result"
    }
   ],
   "source": [
    "df_1['family'].unique()"
   ]
  },
  {
   "cell_type": "code",
   "execution_count": 183,
   "metadata": {},
   "outputs": [
    {
     "data": {
      "text/plain": [
       "array(['Aedes albopictus (Skuse, 1894)', 'Culex Linnaeus, 1758',\n",
       "       'Aedes japonicus', 'Aedes koreicus (Edwards, 1917)',\n",
       "       'Aedes aegypti (Linnaeus, 1762)'], dtype=object)"
      ]
     },
     "execution_count": 183,
     "metadata": {},
     "output_type": "execute_result"
    }
   ],
   "source": [
    "df_1['scientificName'].unique()"
   ]
  },
  {
   "cell_type": "code",
   "execution_count": 184,
   "metadata": {},
   "outputs": [
    {
     "data": {
      "text/plain": [
       "array(['Aedes albopictus (Skuse, 1895)', 'Culex (Linnaeus, 1758)',\n",
       "       'Aedes japonicus (Theobald, 1901)',\n",
       "       'Aedes koreicus (Edwards, 1917)', 'Aedes aegypti (Linnaeus, 1762)'],\n",
       "      dtype=object)"
      ]
     },
     "execution_count": 184,
     "metadata": {},
     "output_type": "execute_result"
    }
   ],
   "source": [
    "df_1['verbatimScientificName'].unique()"
   ]
  },
  {
   "cell_type": "code",
   "execution_count": 185,
   "metadata": {},
   "outputs": [
    {
     "data": {
      "text/plain": [
       "array(['(Skuse, 1895)', '(Linnaeus, 1758)', '(Theobald, 1901)',\n",
       "       '(Edwards, 1917)', '(Linnaeus, 1762)'], dtype=object)"
      ]
     },
     "execution_count": 185,
     "metadata": {},
     "output_type": "execute_result"
    }
   ],
   "source": [
    "df_1['verbatimScientificNameAuthorship'].unique()"
   ]
  },
  {
   "cell_type": "code",
   "execution_count": 186,
   "metadata": {},
   "outputs": [
    {
     "data": {
      "text/plain": [
       "array(['PRESENT'], dtype=object)"
      ]
     },
     "execution_count": 186,
     "metadata": {},
     "output_type": "execute_result"
    }
   ],
   "source": [
    "df_1['occurrenceStatus'].unique()"
   ]
  },
  {
   "cell_type": "code",
   "execution_count": 187,
   "metadata": {},
   "outputs": [
    {
     "data": {
      "text/plain": [
       "array(['7f7b1e09-01e5-4eb3-8dc0-6a3a6bea9a5c'], dtype=object)"
      ]
     },
     "execution_count": 187,
     "metadata": {},
     "output_type": "execute_result"
    }
   ],
   "source": [
    "df_1['publishingOrgKey'].unique()"
   ]
  },
  {
   "cell_type": "code",
   "execution_count": 188,
   "metadata": {},
   "outputs": [
    {
     "data": {
      "text/plain": [
       "array([1651430, 1497010, 1652212, 1652150, 1651891])"
      ]
     },
     "execution_count": 188,
     "metadata": {},
     "output_type": "execute_result"
    }
   ],
   "source": [
    "df_1['taxonKey'].unique()"
   ]
  },
  {
   "cell_type": "code",
   "execution_count": 189,
   "metadata": {},
   "outputs": [
    {
     "data": {
      "text/plain": [
       "array(['HUMAN_OBSERVATION'], dtype=object)"
      ]
     },
     "execution_count": 189,
     "metadata": {},
     "output_type": "execute_result"
    }
   ],
   "source": [
    "df_1['basisOfRecord'].unique()"
   ]
  },
  {
   "cell_type": "code",
   "execution_count": 190,
   "metadata": {},
   "outputs": [
    {
     "data": {
      "text/plain": [
       "array(['CREAF'], dtype=object)"
      ]
     },
     "execution_count": 190,
     "metadata": {},
     "output_type": "execute_result"
    }
   ],
   "source": [
    "df_1['institutionCode'].unique()"
   ]
  },
  {
   "cell_type": "code",
   "execution_count": 191,
   "metadata": {},
   "outputs": [
    {
     "data": {
      "text/plain": [
       "array(['Mosquito Alert Tiger Mosquito'], dtype=object)"
      ]
     },
     "execution_count": 191,
     "metadata": {},
     "output_type": "execute_result"
    }
   ],
   "source": [
    "df_1['collectionCode'].unique()"
   ]
  },
  {
   "cell_type": "code",
   "execution_count": 192,
   "metadata": {},
   "outputs": [
    {
     "data": {
      "text/plain": [
       "array(['CC0_1_0'], dtype=object)"
      ]
     },
     "execution_count": 192,
     "metadata": {},
     "output_type": "execute_result"
    }
   ],
   "source": [
    "df_1['license'].unique()"
   ]
  },
  {
   "cell_type": "code",
   "execution_count": 193,
   "metadata": {},
   "outputs": [
    {
     "data": {
      "text/plain": [
       "array(['Mosquito Alert'], dtype=object)"
      ]
     },
     "execution_count": 193,
     "metadata": {},
     "output_type": "execute_result"
    }
   ],
   "source": [
    "df_1['rightsHolder'].unique()"
   ]
  },
  {
   "cell_type": "code",
   "execution_count": 194,
   "metadata": {},
   "outputs": [
    {
     "data": {
      "text/plain": [
       "array(['Anonymous Mosquito Alert citizen scientist'], dtype=object)"
      ]
     },
     "execution_count": 194,
     "metadata": {},
     "output_type": "execute_result"
    }
   ],
   "source": [
    "df_1['recordedBy'].unique()"
   ]
  },
  {
   "cell_type": "code",
   "execution_count": 195,
   "metadata": {},
   "outputs": [
    {
     "data": {
      "text/plain": [
       "array(['StillImage'], dtype=object)"
      ]
     },
     "execution_count": 195,
     "metadata": {},
     "output_type": "execute_result"
    }
   ],
   "source": [
    "df_1['mediaType'].unique()"
   ]
  },
  {
   "cell_type": "code",
   "execution_count": 196,
   "metadata": {},
   "outputs": [
    {
     "data": {
      "text/plain": [
       "array(['CONTINENT_DERIVED_FROM_COORDINATES', nan,\n",
       "       'COUNTRY_COORDINATE_MISMATCH;CONTINENT_DERIVED_FROM_COORDINATES'],\n",
       "      dtype=object)"
      ]
     },
     "execution_count": 196,
     "metadata": {},
     "output_type": "execute_result"
    }
   ],
   "source": [
    "df_1['issue'].unique()"
   ]
  },
  {
   "cell_type": "code",
   "execution_count": 197,
   "metadata": {},
   "outputs": [],
   "source": [
    "# Checking each column one by one to see the information contained, the result is that these columns\n",
    "#  can be deleted.\n",
    "columns_to_delete=['speciesKey','datasetKey','kingdom','phylum','class','order','family','scientificName',\n",
    "                    'verbatimScientificName','verbatimScientificNameAuthorship','occurrenceStatus',\n",
    "                    'publishingOrgKey','basisOfRecord','institutionCode','collectionCode','license',\n",
    "                    'rightsHolder','recordedBy','mediaType']"
   ]
  },
  {
   "cell_type": "code",
   "execution_count": 198,
   "metadata": {},
   "outputs": [
    {
     "data": {
      "text/plain": [
       "Index(['gbifID', 'datasetKey', 'occurrenceID', 'kingdom', 'phylum', 'class',\n",
       "       'order', 'family', 'genus', 'species', 'taxonRank', 'scientificName',\n",
       "       'verbatimScientificName', 'verbatimScientificNameAuthorship',\n",
       "       'countryCode', 'occurrenceStatus', 'publishingOrgKey',\n",
       "       'decimalLatitude', 'decimalLongitude', 'eventDate', 'day', 'month',\n",
       "       'year', 'taxonKey', 'speciesKey', 'basisOfRecord', 'institutionCode',\n",
       "       'collectionCode', 'identifiedBy', 'license', 'rightsHolder',\n",
       "       'recordedBy', 'lastInterpreted', 'mediaType', 'issue'],\n",
       "      dtype='object')"
      ]
     },
     "execution_count": 198,
     "metadata": {},
     "output_type": "execute_result"
    }
   ],
   "source": [
    "df_1.columns"
   ]
  },
  {
   "cell_type": "code",
   "execution_count": 200,
   "metadata": {},
   "outputs": [
    {
     "data": {
      "text/html": [
       "<div>\n",
       "<style scoped>\n",
       "    .dataframe tbody tr th:only-of-type {\n",
       "        vertical-align: middle;\n",
       "    }\n",
       "\n",
       "    .dataframe tbody tr th {\n",
       "        vertical-align: top;\n",
       "    }\n",
       "\n",
       "    .dataframe thead th {\n",
       "        text-align: right;\n",
       "    }\n",
       "</style>\n",
       "<table border=\"1\" class=\"dataframe\">\n",
       "  <thead>\n",
       "    <tr style=\"text-align: right;\">\n",
       "      <th></th>\n",
       "      <th>gbifID</th>\n",
       "      <th>occurrenceID</th>\n",
       "      <th>genus</th>\n",
       "      <th>species</th>\n",
       "      <th>taxonRank</th>\n",
       "      <th>countryCode</th>\n",
       "      <th>decimalLatitude</th>\n",
       "      <th>decimalLongitude</th>\n",
       "      <th>eventDate</th>\n",
       "      <th>day</th>\n",
       "      <th>month</th>\n",
       "      <th>year</th>\n",
       "      <th>taxonKey</th>\n",
       "      <th>identifiedBy</th>\n",
       "      <th>lastInterpreted</th>\n",
       "      <th>issue</th>\n",
       "    </tr>\n",
       "  </thead>\n",
       "  <tbody>\n",
       "    <tr>\n",
       "      <th>0</th>\n",
       "      <td>4052772078</td>\n",
       "      <td>e7dbc45e-69c8-4d0d-b19d-109880b51192</td>\n",
       "      <td>Aedes</td>\n",
       "      <td>albopictus</td>\n",
       "      <td>SPECIES</td>\n",
       "      <td>ES</td>\n",
       "      <td>41.51019</td>\n",
       "      <td>2.24589</td>\n",
       "      <td>2022-11-04T00:00:00</td>\n",
       "      <td>4</td>\n",
       "      <td>11</td>\n",
       "      <td>2022</td>\n",
       "      <td>1651430</td>\n",
       "      <td>Roger Eritja</td>\n",
       "      <td>2023-03-23T07:53:00.251Z</td>\n",
       "      <td>CONTINENT_DERIVED_FROM_COORDINATES</td>\n",
       "    </tr>\n",
       "    <tr>\n",
       "      <th>1</th>\n",
       "      <td>4052772077</td>\n",
       "      <td>393fc1c6-c24f-479c-b184-5c11c8a2e12d</td>\n",
       "      <td>Aedes</td>\n",
       "      <td>albopictus</td>\n",
       "      <td>SPECIES</td>\n",
       "      <td>IT</td>\n",
       "      <td>44.40289</td>\n",
       "      <td>8.98775</td>\n",
       "      <td>2021-08-27T00:00:00</td>\n",
       "      <td>27</td>\n",
       "      <td>8</td>\n",
       "      <td>2021</td>\n",
       "      <td>1651430</td>\n",
       "      <td>Karin Bakran-Lebl;Ana Klobucar;UNIROMA1;Roger ...</td>\n",
       "      <td>2023-03-23T07:53:02.575Z</td>\n",
       "      <td>CONTINENT_DERIVED_FROM_COORDINATES</td>\n",
       "    </tr>\n",
       "    <tr>\n",
       "      <th>2</th>\n",
       "      <td>4052772076</td>\n",
       "      <td>bae42ca3-8861-4a61-926d-380359f6a059</td>\n",
       "      <td>Culex</td>\n",
       "      <td>NaN</td>\n",
       "      <td>GENUS</td>\n",
       "      <td>NL</td>\n",
       "      <td>52.14539</td>\n",
       "      <td>5.39437</td>\n",
       "      <td>2021-09-25T00:00:00</td>\n",
       "      <td>25</td>\n",
       "      <td>9</td>\n",
       "      <td>2021</td>\n",
       "      <td>1497010</td>\n",
       "      <td>Hans-Peter Fuehrer;Mihaela Kavran;Karin Bakran...</td>\n",
       "      <td>2023-03-23T07:53:02.576Z</td>\n",
       "      <td>CONTINENT_DERIVED_FROM_COORDINATES</td>\n",
       "    </tr>\n",
       "  </tbody>\n",
       "</table>\n",
       "</div>"
      ],
      "text/plain": [
       "       gbifID                          occurrenceID  genus     species  \\\n",
       "0  4052772078  e7dbc45e-69c8-4d0d-b19d-109880b51192  Aedes  albopictus   \n",
       "1  4052772077  393fc1c6-c24f-479c-b184-5c11c8a2e12d  Aedes  albopictus   \n",
       "2  4052772076  bae42ca3-8861-4a61-926d-380359f6a059  Culex         NaN   \n",
       "\n",
       "  taxonRank countryCode  decimalLatitude  decimalLongitude  \\\n",
       "0   SPECIES          ES         41.51019           2.24589   \n",
       "1   SPECIES          IT         44.40289           8.98775   \n",
       "2     GENUS          NL         52.14539           5.39437   \n",
       "\n",
       "             eventDate  day  month  year  taxonKey  \\\n",
       "0  2022-11-04T00:00:00    4     11  2022   1651430   \n",
       "1  2021-08-27T00:00:00   27      8  2021   1651430   \n",
       "2  2021-09-25T00:00:00   25      9  2021   1497010   \n",
       "\n",
       "                                        identifiedBy  \\\n",
       "0                                       Roger Eritja   \n",
       "1  Karin Bakran-Lebl;Ana Klobucar;UNIROMA1;Roger ...   \n",
       "2  Hans-Peter Fuehrer;Mihaela Kavran;Karin Bakran...   \n",
       "\n",
       "            lastInterpreted                               issue  \n",
       "0  2023-03-23T07:53:00.251Z  CONTINENT_DERIVED_FROM_COORDINATES  \n",
       "1  2023-03-23T07:53:02.575Z  CONTINENT_DERIVED_FROM_COORDINATES  \n",
       "2  2023-03-23T07:53:02.576Z  CONTINENT_DERIVED_FROM_COORDINATES  "
      ]
     },
     "execution_count": 200,
     "metadata": {},
     "output_type": "execute_result"
    }
   ],
   "source": [
    "df_2=df_1.drop(columns_to_delete,axis=1,inplace=False)\n",
    "df_2.head(3)"
   ]
  },
  {
   "cell_type": "code",
   "execution_count": 201,
   "metadata": {},
   "outputs": [
    {
     "data": {
      "text/plain": [
       "Index(['gbifID', 'occurrenceID', 'genus', 'species', 'taxonRank',\n",
       "       'countryCode', 'decimalLatitude', 'decimalLongitude', 'eventDate',\n",
       "       'day', 'month', 'year', 'taxonKey', 'identifiedBy', 'lastInterpreted',\n",
       "       'issue'],\n",
       "      dtype='object')"
      ]
     },
     "execution_count": 201,
     "metadata": {},
     "output_type": "execute_result"
    }
   ],
   "source": [
    "df_2.columns"
   ]
  },
  {
   "cell_type": "code",
   "execution_count": null,
   "metadata": {},
   "outputs": [],
   "source": [
    "df_2."
   ]
  }
 ],
 "metadata": {
  "kernelspec": {
   "display_name": "base",
   "language": "python",
   "name": "python3"
  },
  "language_info": {
   "codemirror_mode": {
    "name": "ipython",
    "version": 3
   },
   "file_extension": ".py",
   "mimetype": "text/x-python",
   "name": "python",
   "nbconvert_exporter": "python",
   "pygments_lexer": "ipython3",
   "version": "3.9.7"
  },
  "orig_nbformat": 4
 },
 "nbformat": 4,
 "nbformat_minor": 2
}
