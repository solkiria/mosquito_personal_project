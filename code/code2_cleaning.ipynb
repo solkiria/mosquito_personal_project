{
 "cells": [
  {
   "cell_type": "markdown",
   "metadata": {},
   "source": [
    "# Cleaning"
   ]
  },
  {
   "cell_type": "markdown",
   "metadata": {},
   "source": [
    "In this jupyter notebook a cleaning process is done on the dataframe explored and partly cleaned in 'code1_EDA'. The objectives are:\n",
    "- Column name unification.\n",
    "\n",
    "- Change how some columns show their data.\n",
    "\n",
    "- Change the data type of some columns.\n",
    "\n",
    "- Extreme values treatment.\n",
    "\n",
    "- Null values treatment."
   ]
  },
  {
   "cell_type": "code",
   "execution_count": 105,
   "metadata": {},
   "outputs": [],
   "source": [
    "# Let's import the libraries that will be needed for this EDA.\n",
    "import pandas as pd\n",
    "import numpy as np\n",
    "#import seaborn as sns\n",
    "#import matplotlib.pyplot as plt\n",
    "import sidetable\n",
    "from datetime import date, datetime"
   ]
  },
  {
   "cell_type": "code",
   "execution_count": 106,
   "metadata": {},
   "outputs": [],
   "source": [
    "# To show all the columns of our dataframe.\n",
    "pd.options.display.max_columns=None"
   ]
  },
  {
   "cell_type": "code",
   "execution_count": 107,
   "metadata": {},
   "outputs": [
    {
     "data": {
      "text/html": [
       "<div>\n",
       "<style scoped>\n",
       "    .dataframe tbody tr th:only-of-type {\n",
       "        vertical-align: middle;\n",
       "    }\n",
       "\n",
       "    .dataframe tbody tr th {\n",
       "        vertical-align: top;\n",
       "    }\n",
       "\n",
       "    .dataframe thead th {\n",
       "        text-align: right;\n",
       "    }\n",
       "</style>\n",
       "<table border=\"1\" class=\"dataframe\">\n",
       "  <thead>\n",
       "    <tr style=\"text-align: right;\">\n",
       "      <th></th>\n",
       "      <th>gbifID</th>\n",
       "      <th>genus</th>\n",
       "      <th>species</th>\n",
       "      <th>taxonRank</th>\n",
       "      <th>countryCode</th>\n",
       "      <th>decimalLatitude</th>\n",
       "      <th>decimalLongitude</th>\n",
       "      <th>eventDate</th>\n",
       "      <th>day</th>\n",
       "      <th>month</th>\n",
       "      <th>year</th>\n",
       "      <th>taxonKey</th>\n",
       "      <th>identifiedBy</th>\n",
       "      <th>lastInterpreted</th>\n",
       "      <th>issue</th>\n",
       "    </tr>\n",
       "  </thead>\n",
       "  <tbody>\n",
       "    <tr>\n",
       "      <th>0</th>\n",
       "      <td>4052772078</td>\n",
       "      <td>Aedes</td>\n",
       "      <td>Aedes albopictus</td>\n",
       "      <td>SPECIES</td>\n",
       "      <td>ES</td>\n",
       "      <td>41.51019</td>\n",
       "      <td>2.24589</td>\n",
       "      <td>2022-11-04T00:00:00</td>\n",
       "      <td>4</td>\n",
       "      <td>11</td>\n",
       "      <td>2022</td>\n",
       "      <td>1651430</td>\n",
       "      <td>Roger Eritja</td>\n",
       "      <td>2023-03-23T07:53:00.251Z</td>\n",
       "      <td>CONTINENT_DERIVED_FROM_COORDINATES</td>\n",
       "    </tr>\n",
       "    <tr>\n",
       "      <th>1</th>\n",
       "      <td>4052772077</td>\n",
       "      <td>Aedes</td>\n",
       "      <td>Aedes albopictus</td>\n",
       "      <td>SPECIES</td>\n",
       "      <td>IT</td>\n",
       "      <td>44.40289</td>\n",
       "      <td>8.98775</td>\n",
       "      <td>2021-08-27T00:00:00</td>\n",
       "      <td>27</td>\n",
       "      <td>8</td>\n",
       "      <td>2021</td>\n",
       "      <td>1651430</td>\n",
       "      <td>Karin Bakran-Lebl;Ana Klobucar;UNIROMA1;Roger ...</td>\n",
       "      <td>2023-03-23T07:53:02.575Z</td>\n",
       "      <td>CONTINENT_DERIVED_FROM_COORDINATES</td>\n",
       "    </tr>\n",
       "    <tr>\n",
       "      <th>2</th>\n",
       "      <td>4052772076</td>\n",
       "      <td>Culex</td>\n",
       "      <td>NaN</td>\n",
       "      <td>GENUS</td>\n",
       "      <td>NL</td>\n",
       "      <td>52.14539</td>\n",
       "      <td>5.39437</td>\n",
       "      <td>2021-09-25T00:00:00</td>\n",
       "      <td>25</td>\n",
       "      <td>9</td>\n",
       "      <td>2021</td>\n",
       "      <td>1497010</td>\n",
       "      <td>Hans-Peter Fuehrer;Mihaela Kavran;Karin Bakran...</td>\n",
       "      <td>2023-03-23T07:53:02.576Z</td>\n",
       "      <td>CONTINENT_DERIVED_FROM_COORDINATES</td>\n",
       "    </tr>\n",
       "  </tbody>\n",
       "</table>\n",
       "</div>"
      ],
      "text/plain": [
       "       gbifID  genus           species taxonRank countryCode  decimalLatitude  \\\n",
       "0  4052772078  Aedes  Aedes albopictus   SPECIES          ES         41.51019   \n",
       "1  4052772077  Aedes  Aedes albopictus   SPECIES          IT         44.40289   \n",
       "2  4052772076  Culex               NaN     GENUS          NL         52.14539   \n",
       "\n",
       "   decimalLongitude            eventDate  day  month  year  taxonKey  \\\n",
       "0           2.24589  2022-11-04T00:00:00    4     11  2022   1651430   \n",
       "1           8.98775  2021-08-27T00:00:00   27      8  2021   1651430   \n",
       "2           5.39437  2021-09-25T00:00:00   25      9  2021   1497010   \n",
       "\n",
       "                                        identifiedBy  \\\n",
       "0                                       Roger Eritja   \n",
       "1  Karin Bakran-Lebl;Ana Klobucar;UNIROMA1;Roger ...   \n",
       "2  Hans-Peter Fuehrer;Mihaela Kavran;Karin Bakran...   \n",
       "\n",
       "            lastInterpreted                               issue  \n",
       "0  2023-03-23T07:53:00.251Z  CONTINENT_DERIVED_FROM_COORDINATES  \n",
       "1  2023-03-23T07:53:02.575Z  CONTINENT_DERIVED_FROM_COORDINATES  \n",
       "2  2023-03-23T07:53:02.576Z  CONTINENT_DERIVED_FROM_COORDINATES  "
      ]
     },
     "execution_count": 107,
     "metadata": {},
     "output_type": "execute_result"
    }
   ],
   "source": [
    "# Create the first dataframe containing the data from the csv obtained from Gbif.\n",
    "df_0 = pd.read_csv('../data/mosquito1_explored.csv', index_col=0)\n",
    "\n",
    "# Check the first three rows to see how this dataframe looks like.\n",
    "df_0.head(3)"
   ]
  },
  {
   "cell_type": "markdown",
   "metadata": {},
   "source": [
    "## 1. Change columns name"
   ]
  },
  {
   "cell_type": "markdown",
   "metadata": {},
   "source": [
    "Most of the columns have their name in lower case letters but some have lower case mixed with capital letters."
   ]
  },
  {
   "cell_type": "code",
   "execution_count": 108,
   "metadata": {},
   "outputs": [
    {
     "data": {
      "text/html": [
       "<div>\n",
       "<style scoped>\n",
       "    .dataframe tbody tr th:only-of-type {\n",
       "        vertical-align: middle;\n",
       "    }\n",
       "\n",
       "    .dataframe tbody tr th {\n",
       "        vertical-align: top;\n",
       "    }\n",
       "\n",
       "    .dataframe thead th {\n",
       "        text-align: right;\n",
       "    }\n",
       "</style>\n",
       "<table border=\"1\" class=\"dataframe\">\n",
       "  <thead>\n",
       "    <tr style=\"text-align: right;\">\n",
       "      <th></th>\n",
       "      <th>gbif_id</th>\n",
       "      <th>genus</th>\n",
       "      <th>species</th>\n",
       "      <th>taxon_rank</th>\n",
       "      <th>country_code</th>\n",
       "      <th>latitude</th>\n",
       "      <th>longitude</th>\n",
       "      <th>event_moment</th>\n",
       "      <th>day</th>\n",
       "      <th>month</th>\n",
       "      <th>year</th>\n",
       "      <th>taxon_key</th>\n",
       "      <th>witness</th>\n",
       "      <th>last_interpreted</th>\n",
       "      <th>issue</th>\n",
       "    </tr>\n",
       "  </thead>\n",
       "  <tbody>\n",
       "    <tr>\n",
       "      <th>0</th>\n",
       "      <td>4052772078</td>\n",
       "      <td>Aedes</td>\n",
       "      <td>Aedes albopictus</td>\n",
       "      <td>SPECIES</td>\n",
       "      <td>ES</td>\n",
       "      <td>41.51019</td>\n",
       "      <td>2.24589</td>\n",
       "      <td>2022-11-04T00:00:00</td>\n",
       "      <td>4</td>\n",
       "      <td>11</td>\n",
       "      <td>2022</td>\n",
       "      <td>1651430</td>\n",
       "      <td>Roger Eritja</td>\n",
       "      <td>2023-03-23T07:53:00.251Z</td>\n",
       "      <td>CONTINENT_DERIVED_FROM_COORDINATES</td>\n",
       "    </tr>\n",
       "    <tr>\n",
       "      <th>1</th>\n",
       "      <td>4052772077</td>\n",
       "      <td>Aedes</td>\n",
       "      <td>Aedes albopictus</td>\n",
       "      <td>SPECIES</td>\n",
       "      <td>IT</td>\n",
       "      <td>44.40289</td>\n",
       "      <td>8.98775</td>\n",
       "      <td>2021-08-27T00:00:00</td>\n",
       "      <td>27</td>\n",
       "      <td>8</td>\n",
       "      <td>2021</td>\n",
       "      <td>1651430</td>\n",
       "      <td>Karin Bakran-Lebl;Ana Klobucar;UNIROMA1;Roger ...</td>\n",
       "      <td>2023-03-23T07:53:02.575Z</td>\n",
       "      <td>CONTINENT_DERIVED_FROM_COORDINATES</td>\n",
       "    </tr>\n",
       "    <tr>\n",
       "      <th>2</th>\n",
       "      <td>4052772076</td>\n",
       "      <td>Culex</td>\n",
       "      <td>NaN</td>\n",
       "      <td>GENUS</td>\n",
       "      <td>NL</td>\n",
       "      <td>52.14539</td>\n",
       "      <td>5.39437</td>\n",
       "      <td>2021-09-25T00:00:00</td>\n",
       "      <td>25</td>\n",
       "      <td>9</td>\n",
       "      <td>2021</td>\n",
       "      <td>1497010</td>\n",
       "      <td>Hans-Peter Fuehrer;Mihaela Kavran;Karin Bakran...</td>\n",
       "      <td>2023-03-23T07:53:02.576Z</td>\n",
       "      <td>CONTINENT_DERIVED_FROM_COORDINATES</td>\n",
       "    </tr>\n",
       "  </tbody>\n",
       "</table>\n",
       "</div>"
      ],
      "text/plain": [
       "      gbif_id  genus           species taxon_rank country_code  latitude  \\\n",
       "0  4052772078  Aedes  Aedes albopictus    SPECIES           ES  41.51019   \n",
       "1  4052772077  Aedes  Aedes albopictus    SPECIES           IT  44.40289   \n",
       "2  4052772076  Culex               NaN      GENUS           NL  52.14539   \n",
       "\n",
       "   longitude         event_moment  day  month  year  taxon_key  \\\n",
       "0    2.24589  2022-11-04T00:00:00    4     11  2022    1651430   \n",
       "1    8.98775  2021-08-27T00:00:00   27      8  2021    1651430   \n",
       "2    5.39437  2021-09-25T00:00:00   25      9  2021    1497010   \n",
       "\n",
       "                                             witness  \\\n",
       "0                                       Roger Eritja   \n",
       "1  Karin Bakran-Lebl;Ana Klobucar;UNIROMA1;Roger ...   \n",
       "2  Hans-Peter Fuehrer;Mihaela Kavran;Karin Bakran...   \n",
       "\n",
       "           last_interpreted                               issue  \n",
       "0  2023-03-23T07:53:00.251Z  CONTINENT_DERIVED_FROM_COORDINATES  \n",
       "1  2023-03-23T07:53:02.575Z  CONTINENT_DERIVED_FROM_COORDINATES  \n",
       "2  2023-03-23T07:53:02.576Z  CONTINENT_DERIVED_FROM_COORDINATES  "
      ]
     },
     "execution_count": 108,
     "metadata": {},
     "output_type": "execute_result"
    }
   ],
   "source": [
    "# Create a dictionary to change just some columns names.\n",
    "new_cols={'gbifID':'gbif_id','taxonRank':'taxon_rank','countryCode':'country_code','decimalLatitude':'latitude','decimalLongitude':'longitude','eventDate':'event_moment','taxonKey':'taxon_key','identifiedBy':'witness','lastInterpreted':'last_interpreted'}\n",
    "\n",
    "# Change columns names.\n",
    "df_0.rename(columns=new_cols,inplace=True)\n",
    "\n",
    "# Check the first three rows to see how this dataframe looks like now.\n",
    "df_0.head(3)"
   ]
  },
  {
   "cell_type": "markdown",
   "metadata": {},
   "source": [
    "## 2. Not interesting variables"
   ]
  },
  {
   "cell_type": "markdown",
   "metadata": {},
   "source": [
    "The objective of this project is to predict tiger mosquito (*Aedes albopictus*) so only this rows will be kept and in that way some columns can deleted."
   ]
  },
  {
   "cell_type": "code",
   "execution_count": 109,
   "metadata": {},
   "outputs": [
    {
     "data": {
      "text/html": [
       "<div>\n",
       "<style scoped>\n",
       "    .dataframe tbody tr th:only-of-type {\n",
       "        vertical-align: middle;\n",
       "    }\n",
       "\n",
       "    .dataframe tbody tr th {\n",
       "        vertical-align: top;\n",
       "    }\n",
       "\n",
       "    .dataframe thead th {\n",
       "        text-align: right;\n",
       "    }\n",
       "</style>\n",
       "<table border=\"1\" class=\"dataframe\">\n",
       "  <thead>\n",
       "    <tr style=\"text-align: right;\">\n",
       "      <th></th>\n",
       "      <th>gbif_id</th>\n",
       "      <th>genus</th>\n",
       "      <th>species</th>\n",
       "      <th>taxon_rank</th>\n",
       "      <th>country_code</th>\n",
       "      <th>latitude</th>\n",
       "      <th>longitude</th>\n",
       "      <th>event_moment</th>\n",
       "      <th>day</th>\n",
       "      <th>month</th>\n",
       "      <th>year</th>\n",
       "      <th>taxon_key</th>\n",
       "      <th>witness</th>\n",
       "      <th>last_interpreted</th>\n",
       "      <th>issue</th>\n",
       "    </tr>\n",
       "  </thead>\n",
       "  <tbody>\n",
       "    <tr>\n",
       "      <th>0</th>\n",
       "      <td>4052772078</td>\n",
       "      <td>Aedes</td>\n",
       "      <td>Aedes albopictus</td>\n",
       "      <td>SPECIES</td>\n",
       "      <td>ES</td>\n",
       "      <td>41.51019</td>\n",
       "      <td>2.24589</td>\n",
       "      <td>2022-11-04T00:00:00</td>\n",
       "      <td>4</td>\n",
       "      <td>11</td>\n",
       "      <td>2022</td>\n",
       "      <td>1651430</td>\n",
       "      <td>Roger Eritja</td>\n",
       "      <td>2023-03-23T07:53:00.251Z</td>\n",
       "      <td>CONTINENT_DERIVED_FROM_COORDINATES</td>\n",
       "    </tr>\n",
       "    <tr>\n",
       "      <th>1</th>\n",
       "      <td>4052772077</td>\n",
       "      <td>Aedes</td>\n",
       "      <td>Aedes albopictus</td>\n",
       "      <td>SPECIES</td>\n",
       "      <td>IT</td>\n",
       "      <td>44.40289</td>\n",
       "      <td>8.98775</td>\n",
       "      <td>2021-08-27T00:00:00</td>\n",
       "      <td>27</td>\n",
       "      <td>8</td>\n",
       "      <td>2021</td>\n",
       "      <td>1651430</td>\n",
       "      <td>Karin Bakran-Lebl;Ana Klobucar;UNIROMA1;Roger ...</td>\n",
       "      <td>2023-03-23T07:53:02.575Z</td>\n",
       "      <td>CONTINENT_DERIVED_FROM_COORDINATES</td>\n",
       "    </tr>\n",
       "    <tr>\n",
       "      <th>3</th>\n",
       "      <td>4052772075</td>\n",
       "      <td>Aedes</td>\n",
       "      <td>Aedes albopictus</td>\n",
       "      <td>SPECIES</td>\n",
       "      <td>IT</td>\n",
       "      <td>41.70922</td>\n",
       "      <td>12.78512</td>\n",
       "      <td>2022-08-11T00:00:00</td>\n",
       "      <td>11</td>\n",
       "      <td>8</td>\n",
       "      <td>2022</td>\n",
       "      <td>1651430</td>\n",
       "      <td>UNIROMA1;Eleonora Longo;Francesco Severini;Rog...</td>\n",
       "      <td>2023-03-23T07:53:04.739Z</td>\n",
       "      <td>CONTINENT_DERIVED_FROM_COORDINATES</td>\n",
       "    </tr>\n",
       "  </tbody>\n",
       "</table>\n",
       "</div>"
      ],
      "text/plain": [
       "      gbif_id  genus           species taxon_rank country_code  latitude  \\\n",
       "0  4052772078  Aedes  Aedes albopictus    SPECIES           ES  41.51019   \n",
       "1  4052772077  Aedes  Aedes albopictus    SPECIES           IT  44.40289   \n",
       "3  4052772075  Aedes  Aedes albopictus    SPECIES           IT  41.70922   \n",
       "\n",
       "   longitude         event_moment  day  month  year  taxon_key  \\\n",
       "0    2.24589  2022-11-04T00:00:00    4     11  2022    1651430   \n",
       "1    8.98775  2021-08-27T00:00:00   27      8  2021    1651430   \n",
       "3   12.78512  2022-08-11T00:00:00   11      8  2022    1651430   \n",
       "\n",
       "                                             witness  \\\n",
       "0                                       Roger Eritja   \n",
       "1  Karin Bakran-Lebl;Ana Klobucar;UNIROMA1;Roger ...   \n",
       "3  UNIROMA1;Eleonora Longo;Francesco Severini;Rog...   \n",
       "\n",
       "           last_interpreted                               issue  \n",
       "0  2023-03-23T07:53:00.251Z  CONTINENT_DERIVED_FROM_COORDINATES  \n",
       "1  2023-03-23T07:53:02.575Z  CONTINENT_DERIVED_FROM_COORDINATES  \n",
       "3  2023-03-23T07:53:04.739Z  CONTINENT_DERIVED_FROM_COORDINATES  "
      ]
     },
     "execution_count": 109,
     "metadata": {},
     "output_type": "execute_result"
    }
   ],
   "source": [
    "# Create a new dataframe with only those rows with A. albopictus species.\n",
    "df_1=df_0[df_0['species']=='Aedes albopictus']\n",
    "df_1.head(3)"
   ]
  },
  {
   "cell_type": "code",
   "execution_count": 110,
   "metadata": {},
   "outputs": [
    {
     "data": {
      "text/plain": [
       "(14518, 15)"
      ]
     },
     "execution_count": 110,
     "metadata": {},
     "output_type": "execute_result"
    }
   ],
   "source": [
    "# Check dataframe shape.\n",
    "df_1.shape"
   ]
  },
  {
   "cell_type": "code",
   "execution_count": 111,
   "metadata": {},
   "outputs": [
    {
     "data": {
      "text/plain": [
       "Aedes albopictus    14518\n",
       "Name: species, dtype: int64"
      ]
     },
     "execution_count": 111,
     "metadata": {},
     "output_type": "execute_result"
    }
   ],
   "source": [
    "# Check unique values in 'species' column.\n",
    "df_1['species'].value_counts()"
   ]
  },
  {
   "cell_type": "code",
   "execution_count": 112,
   "metadata": {},
   "outputs": [
    {
     "data": {
      "text/plain": [
       "1651430    14518\n",
       "Name: taxon_key, dtype: int64"
      ]
     },
     "execution_count": 112,
     "metadata": {},
     "output_type": "execute_result"
    }
   ],
   "source": [
    "# Check unique values in 'taxon_key' column.\n",
    "df_1['taxon_key'].value_counts()"
   ]
  },
  {
   "cell_type": "markdown",
   "metadata": {},
   "source": [
    "These two columns have just one unique value and it appears 14518 times, the datafrae has the same number of rows."
   ]
  },
  {
   "cell_type": "code",
   "execution_count": 113,
   "metadata": {},
   "outputs": [
    {
     "data": {
      "text/plain": [
       "14518"
      ]
     },
     "execution_count": 113,
     "metadata": {},
     "output_type": "execute_result"
    }
   ],
   "source": [
    "# Check unique values in 'gbif_id' column.\n",
    "df_1['gbif_id'].value_counts().sum()"
   ]
  },
  {
   "cell_type": "markdown",
   "metadata": {},
   "source": [
    "This column has 14518 unique values, the dataframe has the same number of rows."
   ]
  },
  {
   "cell_type": "code",
   "execution_count": 114,
   "metadata": {},
   "outputs": [
    {
     "data": {
      "text/plain": [
       "14518"
      ]
     },
     "execution_count": 114,
     "metadata": {},
     "output_type": "execute_result"
    }
   ],
   "source": [
    "# Check unique values in 'last_interpreted' column.\n",
    "df_1['last_interpreted'].value_counts().sum()"
   ]
  },
  {
   "cell_type": "markdown",
   "metadata": {},
   "source": [
    "This column has 14518 unique values, the dataframe has the same number of rows. Moreover, this column contains the information about when the registration of this case of mosquito was analyzed, so this information is not important for this project's objective."
   ]
  },
  {
   "cell_type": "code",
   "execution_count": 115,
   "metadata": {},
   "outputs": [
    {
     "data": {
      "text/html": [
       "<div>\n",
       "<style scoped>\n",
       "    .dataframe tbody tr th:only-of-type {\n",
       "        vertical-align: middle;\n",
       "    }\n",
       "\n",
       "    .dataframe tbody tr th {\n",
       "        vertical-align: top;\n",
       "    }\n",
       "\n",
       "    .dataframe thead th {\n",
       "        text-align: right;\n",
       "    }\n",
       "</style>\n",
       "<table border=\"1\" class=\"dataframe\">\n",
       "  <thead>\n",
       "    <tr style=\"text-align: right;\">\n",
       "      <th></th>\n",
       "      <th>country_code</th>\n",
       "      <th>latitude</th>\n",
       "      <th>longitude</th>\n",
       "      <th>event_moment</th>\n",
       "      <th>day</th>\n",
       "      <th>month</th>\n",
       "      <th>year</th>\n",
       "      <th>witness</th>\n",
       "      <th>issue</th>\n",
       "    </tr>\n",
       "  </thead>\n",
       "  <tbody>\n",
       "    <tr>\n",
       "      <th>0</th>\n",
       "      <td>ES</td>\n",
       "      <td>41.51019</td>\n",
       "      <td>2.24589</td>\n",
       "      <td>2022-11-04T00:00:00</td>\n",
       "      <td>4</td>\n",
       "      <td>11</td>\n",
       "      <td>2022</td>\n",
       "      <td>Roger Eritja</td>\n",
       "      <td>CONTINENT_DERIVED_FROM_COORDINATES</td>\n",
       "    </tr>\n",
       "    <tr>\n",
       "      <th>1</th>\n",
       "      <td>IT</td>\n",
       "      <td>44.40289</td>\n",
       "      <td>8.98775</td>\n",
       "      <td>2021-08-27T00:00:00</td>\n",
       "      <td>27</td>\n",
       "      <td>8</td>\n",
       "      <td>2021</td>\n",
       "      <td>Karin Bakran-Lebl;Ana Klobucar;UNIROMA1;Roger ...</td>\n",
       "      <td>CONTINENT_DERIVED_FROM_COORDINATES</td>\n",
       "    </tr>\n",
       "    <tr>\n",
       "      <th>3</th>\n",
       "      <td>IT</td>\n",
       "      <td>41.70922</td>\n",
       "      <td>12.78512</td>\n",
       "      <td>2022-08-11T00:00:00</td>\n",
       "      <td>11</td>\n",
       "      <td>8</td>\n",
       "      <td>2022</td>\n",
       "      <td>UNIROMA1;Eleonora Longo;Francesco Severini;Rog...</td>\n",
       "      <td>CONTINENT_DERIVED_FROM_COORDINATES</td>\n",
       "    </tr>\n",
       "  </tbody>\n",
       "</table>\n",
       "</div>"
      ],
      "text/plain": [
       "  country_code  latitude  longitude         event_moment  day  month  year  \\\n",
       "0           ES  41.51019    2.24589  2022-11-04T00:00:00    4     11  2022   \n",
       "1           IT  44.40289    8.98775  2021-08-27T00:00:00   27      8  2021   \n",
       "3           IT  41.70922   12.78512  2022-08-11T00:00:00   11      8  2022   \n",
       "\n",
       "                                             witness  \\\n",
       "0                                       Roger Eritja   \n",
       "1  Karin Bakran-Lebl;Ana Klobucar;UNIROMA1;Roger ...   \n",
       "3  UNIROMA1;Eleonora Longo;Francesco Severini;Rog...   \n",
       "\n",
       "                                issue  \n",
       "0  CONTINENT_DERIVED_FROM_COORDINATES  \n",
       "1  CONTINENT_DERIVED_FROM_COORDINATES  \n",
       "3  CONTINENT_DERIVED_FROM_COORDINATES  "
      ]
     },
     "execution_count": 115,
     "metadata": {},
     "output_type": "execute_result"
    }
   ],
   "source": [
    "# Create a list with all the columns that are not interesting now.\n",
    "columns_to_delete=['genus','species','taxon_rank','taxon_key','gbif_id','last_interpreted']\n",
    "df_2=df_1.drop(columns_to_delete,axis=1,inplace=False)\n",
    "df_2.head(3)"
   ]
  },
  {
   "cell_type": "markdown",
   "metadata": {},
   "source": [
    "## 3. Redundant variables"
   ]
  },
  {
   "cell_type": "markdown",
   "metadata": {},
   "source": [
    "It was already checked if there were duplicated rows (there were not), but it is also important to check if there are columns that show the same information."
   ]
  },
  {
   "cell_type": "code",
   "execution_count": 116,
   "metadata": {},
   "outputs": [
    {
     "name": "stdout",
     "output_type": "stream",
     "text": [
      "Column country_code has ---47--- unique values\n",
      "Column latitude has ---11890--- unique values\n",
      "Column longitude has ---12239--- unique values\n",
      "Column event_moment has ---1776--- unique values\n",
      "Column day has ---31--- unique values\n",
      "Column month has ---12--- unique values\n",
      "Column year has ---9--- unique values\n",
      "Column witness has ---2034--- unique values\n",
      "Column issue has ---2--- unique values\n"
     ]
    }
   ],
   "source": [
    "# Check how many unique values has each column to see if some have the same number of unique\n",
    "#  values and check if they show the same information.\n",
    "for col in df_2.columns:\n",
    "    print(f'Column {col} has ---{len(df_2[col].unique())}--- unique values')"
   ]
  },
  {
   "cell_type": "code",
   "execution_count": 117,
   "metadata": {},
   "outputs": [
    {
     "data": {
      "text/plain": [
       "(14518, 9)"
      ]
     },
     "execution_count": 117,
     "metadata": {},
     "output_type": "execute_result"
    }
   ],
   "source": [
    "df_2.shape"
   ]
  },
  {
   "cell_type": "markdown",
   "metadata": {},
   "source": [
    "The number of unique values that each column has is under 14518. Furthermore, each column has a different number of unique values.\n",
    "\n",
    "Column 'event_date' has information about the mosquito registration time (date and time) and columns 'day', 'month' and 'year' has also information about this date, but all of them will be mantained."
   ]
  },
  {
   "cell_type": "markdown",
   "metadata": {},
   "source": [
    "## 4. Modify columns"
   ]
  },
  {
   "cell_type": "markdown",
   "metadata": {},
   "source": [
    "Column 'event_moment' has date and time information, so this info must be separated."
   ]
  },
  {
   "cell_type": "code",
   "execution_count": 118,
   "metadata": {},
   "outputs": [
    {
     "data": {
      "text/html": [
       "<div>\n",
       "<style scoped>\n",
       "    .dataframe tbody tr th:only-of-type {\n",
       "        vertical-align: middle;\n",
       "    }\n",
       "\n",
       "    .dataframe tbody tr th {\n",
       "        vertical-align: top;\n",
       "    }\n",
       "\n",
       "    .dataframe thead th {\n",
       "        text-align: right;\n",
       "    }\n",
       "</style>\n",
       "<table border=\"1\" class=\"dataframe\">\n",
       "  <thead>\n",
       "    <tr style=\"text-align: right;\">\n",
       "      <th></th>\n",
       "      <th>country_code</th>\n",
       "      <th>latitude</th>\n",
       "      <th>longitude</th>\n",
       "      <th>event_moment</th>\n",
       "      <th>day</th>\n",
       "      <th>month</th>\n",
       "      <th>year</th>\n",
       "      <th>witness</th>\n",
       "      <th>issue</th>\n",
       "      <th>event_date</th>\n",
       "      <th>event_time</th>\n",
       "    </tr>\n",
       "  </thead>\n",
       "  <tbody>\n",
       "    <tr>\n",
       "      <th>0</th>\n",
       "      <td>ES</td>\n",
       "      <td>41.51019</td>\n",
       "      <td>2.24589</td>\n",
       "      <td>2022-11-04T00:00:00</td>\n",
       "      <td>4</td>\n",
       "      <td>11</td>\n",
       "      <td>2022</td>\n",
       "      <td>Roger Eritja</td>\n",
       "      <td>CONTINENT_DERIVED_FROM_COORDINATES</td>\n",
       "      <td>2022-11-04</td>\n",
       "      <td>00:00:00</td>\n",
       "    </tr>\n",
       "    <tr>\n",
       "      <th>1</th>\n",
       "      <td>IT</td>\n",
       "      <td>44.40289</td>\n",
       "      <td>8.98775</td>\n",
       "      <td>2021-08-27T00:00:00</td>\n",
       "      <td>27</td>\n",
       "      <td>8</td>\n",
       "      <td>2021</td>\n",
       "      <td>Karin Bakran-Lebl;Ana Klobucar;UNIROMA1;Roger ...</td>\n",
       "      <td>CONTINENT_DERIVED_FROM_COORDINATES</td>\n",
       "      <td>2021-08-27</td>\n",
       "      <td>00:00:00</td>\n",
       "    </tr>\n",
       "    <tr>\n",
       "      <th>3</th>\n",
       "      <td>IT</td>\n",
       "      <td>41.70922</td>\n",
       "      <td>12.78512</td>\n",
       "      <td>2022-08-11T00:00:00</td>\n",
       "      <td>11</td>\n",
       "      <td>8</td>\n",
       "      <td>2022</td>\n",
       "      <td>UNIROMA1;Eleonora Longo;Francesco Severini;Rog...</td>\n",
       "      <td>CONTINENT_DERIVED_FROM_COORDINATES</td>\n",
       "      <td>2022-08-11</td>\n",
       "      <td>00:00:00</td>\n",
       "    </tr>\n",
       "  </tbody>\n",
       "</table>\n",
       "</div>"
      ],
      "text/plain": [
       "  country_code  latitude  longitude         event_moment  day  month  year  \\\n",
       "0           ES  41.51019    2.24589  2022-11-04T00:00:00    4     11  2022   \n",
       "1           IT  44.40289    8.98775  2021-08-27T00:00:00   27      8  2021   \n",
       "3           IT  41.70922   12.78512  2022-08-11T00:00:00   11      8  2022   \n",
       "\n",
       "                                             witness  \\\n",
       "0                                       Roger Eritja   \n",
       "1  Karin Bakran-Lebl;Ana Klobucar;UNIROMA1;Roger ...   \n",
       "3  UNIROMA1;Eleonora Longo;Francesco Severini;Rog...   \n",
       "\n",
       "                                issue  event_date event_time  \n",
       "0  CONTINENT_DERIVED_FROM_COORDINATES  2022-11-04   00:00:00  \n",
       "1  CONTINENT_DERIVED_FROM_COORDINATES  2021-08-27   00:00:00  \n",
       "3  CONTINENT_DERIVED_FROM_COORDINATES  2022-08-11   00:00:00  "
      ]
     },
     "execution_count": 118,
     "metadata": {},
     "output_type": "execute_result"
    }
   ],
   "source": [
    "# Divide the column 'event_moment' into 'event_date' and 'event_time'.\n",
    "df_2['event_date']=df_2['event_moment'].str.split('T',expand=True, n=1)[0]\n",
    "df_2['event_time']=df_2['event_moment'].str.split('T',expand=True, n=1)[1]\n",
    "df_2.head(3)"
   ]
  },
  {
   "cell_type": "code",
   "execution_count": 119,
   "metadata": {},
   "outputs": [
    {
     "data": {
      "text/plain": [
       "1776"
      ]
     },
     "execution_count": 119,
     "metadata": {},
     "output_type": "execute_result"
    }
   ],
   "source": [
    "# Check how many unique values there are in 'event_moment' column.\n",
    "len(df_2['event_moment'].unique())"
   ]
  },
  {
   "cell_type": "code",
   "execution_count": 120,
   "metadata": {},
   "outputs": [
    {
     "data": {
      "text/plain": [
       "1776"
      ]
     },
     "execution_count": 120,
     "metadata": {},
     "output_type": "execute_result"
    }
   ],
   "source": [
    "# Check how many unique values there are in 'event_date' column.\n",
    "len(df_2['event_date'].unique())"
   ]
  },
  {
   "cell_type": "code",
   "execution_count": 121,
   "metadata": {},
   "outputs": [
    {
     "data": {
      "text/plain": [
       "array(['00:00:00'], dtype=object)"
      ]
     },
     "execution_count": 121,
     "metadata": {},
     "output_type": "execute_result"
    }
   ],
   "source": [
    "# Check how many unique values there are in 'event_time' column.\n",
    "df_2['event_time'].unique()"
   ]
  },
  {
   "cell_type": "markdown",
   "metadata": {},
   "source": [
    "There are the same values in 'event_moment' date as in 'event_date', and 'event_time' has only one unique value ('00:00:00', which gives no information) so 'event_moment' and 'event_time' can be deleted."
   ]
  },
  {
   "cell_type": "code",
   "execution_count": 122,
   "metadata": {},
   "outputs": [
    {
     "data": {
      "text/html": [
       "<div>\n",
       "<style scoped>\n",
       "    .dataframe tbody tr th:only-of-type {\n",
       "        vertical-align: middle;\n",
       "    }\n",
       "\n",
       "    .dataframe tbody tr th {\n",
       "        vertical-align: top;\n",
       "    }\n",
       "\n",
       "    .dataframe thead th {\n",
       "        text-align: right;\n",
       "    }\n",
       "</style>\n",
       "<table border=\"1\" class=\"dataframe\">\n",
       "  <thead>\n",
       "    <tr style=\"text-align: right;\">\n",
       "      <th></th>\n",
       "      <th>country_code</th>\n",
       "      <th>latitude</th>\n",
       "      <th>longitude</th>\n",
       "      <th>day</th>\n",
       "      <th>month</th>\n",
       "      <th>year</th>\n",
       "      <th>witness</th>\n",
       "      <th>issue</th>\n",
       "      <th>event_date</th>\n",
       "    </tr>\n",
       "  </thead>\n",
       "  <tbody>\n",
       "    <tr>\n",
       "      <th>0</th>\n",
       "      <td>ES</td>\n",
       "      <td>41.51019</td>\n",
       "      <td>2.24589</td>\n",
       "      <td>4</td>\n",
       "      <td>11</td>\n",
       "      <td>2022</td>\n",
       "      <td>Roger Eritja</td>\n",
       "      <td>CONTINENT_DERIVED_FROM_COORDINATES</td>\n",
       "      <td>2022-11-04</td>\n",
       "    </tr>\n",
       "    <tr>\n",
       "      <th>1</th>\n",
       "      <td>IT</td>\n",
       "      <td>44.40289</td>\n",
       "      <td>8.98775</td>\n",
       "      <td>27</td>\n",
       "      <td>8</td>\n",
       "      <td>2021</td>\n",
       "      <td>Karin Bakran-Lebl;Ana Klobucar;UNIROMA1;Roger ...</td>\n",
       "      <td>CONTINENT_DERIVED_FROM_COORDINATES</td>\n",
       "      <td>2021-08-27</td>\n",
       "    </tr>\n",
       "    <tr>\n",
       "      <th>3</th>\n",
       "      <td>IT</td>\n",
       "      <td>41.70922</td>\n",
       "      <td>12.78512</td>\n",
       "      <td>11</td>\n",
       "      <td>8</td>\n",
       "      <td>2022</td>\n",
       "      <td>UNIROMA1;Eleonora Longo;Francesco Severini;Rog...</td>\n",
       "      <td>CONTINENT_DERIVED_FROM_COORDINATES</td>\n",
       "      <td>2022-08-11</td>\n",
       "    </tr>\n",
       "  </tbody>\n",
       "</table>\n",
       "</div>"
      ],
      "text/plain": [
       "  country_code  latitude  longitude  day  month  year  \\\n",
       "0           ES  41.51019    2.24589    4     11  2022   \n",
       "1           IT  44.40289    8.98775   27      8  2021   \n",
       "3           IT  41.70922   12.78512   11      8  2022   \n",
       "\n",
       "                                             witness  \\\n",
       "0                                       Roger Eritja   \n",
       "1  Karin Bakran-Lebl;Ana Klobucar;UNIROMA1;Roger ...   \n",
       "3  UNIROMA1;Eleonora Longo;Francesco Severini;Rog...   \n",
       "\n",
       "                                issue  event_date  \n",
       "0  CONTINENT_DERIVED_FROM_COORDINATES  2022-11-04  \n",
       "1  CONTINENT_DERIVED_FROM_COORDINATES  2021-08-27  \n",
       "3  CONTINENT_DERIVED_FROM_COORDINATES  2022-08-11  "
      ]
     },
     "execution_count": 122,
     "metadata": {},
     "output_type": "execute_result"
    }
   ],
   "source": [
    "# Create a list with the columns that must be deleted.\n",
    "columns_to_delete2=['event_moment','event_time']\n",
    "df_3=df_2.drop(columns_to_delete2,axis=1,inplace=False)\n",
    "df_3.head(3)"
   ]
  },
  {
   "cell_type": "markdown",
   "metadata": {},
   "source": [
    "Now columns 'day', 'month' and 'year' must be joined to check if they contain the same information as 'event_date'."
   ]
  },
  {
   "cell_type": "code",
   "execution_count": 123,
   "metadata": {},
   "outputs": [
    {
     "data": {
      "text/html": [
       "<div>\n",
       "<style scoped>\n",
       "    .dataframe tbody tr th:only-of-type {\n",
       "        vertical-align: middle;\n",
       "    }\n",
       "\n",
       "    .dataframe tbody tr th {\n",
       "        vertical-align: top;\n",
       "    }\n",
       "\n",
       "    .dataframe thead th {\n",
       "        text-align: right;\n",
       "    }\n",
       "</style>\n",
       "<table border=\"1\" class=\"dataframe\">\n",
       "  <thead>\n",
       "    <tr style=\"text-align: right;\">\n",
       "      <th></th>\n",
       "      <th>country_code</th>\n",
       "      <th>latitude</th>\n",
       "      <th>longitude</th>\n",
       "      <th>day</th>\n",
       "      <th>month</th>\n",
       "      <th>year</th>\n",
       "      <th>witness</th>\n",
       "      <th>issue</th>\n",
       "      <th>event_date</th>\n",
       "      <th>check_date</th>\n",
       "    </tr>\n",
       "  </thead>\n",
       "  <tbody>\n",
       "    <tr>\n",
       "      <th>0</th>\n",
       "      <td>ES</td>\n",
       "      <td>41.51019</td>\n",
       "      <td>2.24589</td>\n",
       "      <td>4</td>\n",
       "      <td>11</td>\n",
       "      <td>2022</td>\n",
       "      <td>Roger Eritja</td>\n",
       "      <td>CONTINENT_DERIVED_FROM_COORDINATES</td>\n",
       "      <td>2022-11-04</td>\n",
       "      <td>2022-11-4</td>\n",
       "    </tr>\n",
       "    <tr>\n",
       "      <th>1</th>\n",
       "      <td>IT</td>\n",
       "      <td>44.40289</td>\n",
       "      <td>8.98775</td>\n",
       "      <td>27</td>\n",
       "      <td>8</td>\n",
       "      <td>2021</td>\n",
       "      <td>Karin Bakran-Lebl;Ana Klobucar;UNIROMA1;Roger ...</td>\n",
       "      <td>CONTINENT_DERIVED_FROM_COORDINATES</td>\n",
       "      <td>2021-08-27</td>\n",
       "      <td>2021-8-27</td>\n",
       "    </tr>\n",
       "    <tr>\n",
       "      <th>3</th>\n",
       "      <td>IT</td>\n",
       "      <td>41.70922</td>\n",
       "      <td>12.78512</td>\n",
       "      <td>11</td>\n",
       "      <td>8</td>\n",
       "      <td>2022</td>\n",
       "      <td>UNIROMA1;Eleonora Longo;Francesco Severini;Rog...</td>\n",
       "      <td>CONTINENT_DERIVED_FROM_COORDINATES</td>\n",
       "      <td>2022-08-11</td>\n",
       "      <td>2022-8-11</td>\n",
       "    </tr>\n",
       "  </tbody>\n",
       "</table>\n",
       "</div>"
      ],
      "text/plain": [
       "  country_code  latitude  longitude  day  month  year  \\\n",
       "0           ES  41.51019    2.24589    4     11  2022   \n",
       "1           IT  44.40289    8.98775   27      8  2021   \n",
       "3           IT  41.70922   12.78512   11      8  2022   \n",
       "\n",
       "                                             witness  \\\n",
       "0                                       Roger Eritja   \n",
       "1  Karin Bakran-Lebl;Ana Klobucar;UNIROMA1;Roger ...   \n",
       "3  UNIROMA1;Eleonora Longo;Francesco Severini;Rog...   \n",
       "\n",
       "                                issue  event_date check_date  \n",
       "0  CONTINENT_DERIVED_FROM_COORDINATES  2022-11-04  2022-11-4  \n",
       "1  CONTINENT_DERIVED_FROM_COORDINATES  2021-08-27  2021-8-27  \n",
       "3  CONTINENT_DERIVED_FROM_COORDINATES  2022-08-11  2022-8-11  "
      ]
     },
     "execution_count": 123,
     "metadata": {},
     "output_type": "execute_result"
    }
   ],
   "source": [
    "# Join these three columns into one ('check_date').\n",
    "df_3['check_date'] = df_3[['year','month','day']].apply(lambda x:'-'.join(str(value) for value in x), axis=1)\n",
    "df_3.head(3)"
   ]
  },
  {
   "cell_type": "code",
   "execution_count": 124,
   "metadata": {},
   "outputs": [
    {
     "data": {
      "text/html": [
       "<div>\n",
       "<style scoped>\n",
       "    .dataframe tbody tr th:only-of-type {\n",
       "        vertical-align: middle;\n",
       "    }\n",
       "\n",
       "    .dataframe tbody tr th {\n",
       "        vertical-align: top;\n",
       "    }\n",
       "\n",
       "    .dataframe thead th {\n",
       "        text-align: right;\n",
       "    }\n",
       "</style>\n",
       "<table border=\"1\" class=\"dataframe\">\n",
       "  <thead>\n",
       "    <tr style=\"text-align: right;\">\n",
       "      <th></th>\n",
       "      <th>country_code</th>\n",
       "      <th>latitude</th>\n",
       "      <th>longitude</th>\n",
       "      <th>day</th>\n",
       "      <th>month</th>\n",
       "      <th>year</th>\n",
       "      <th>witness</th>\n",
       "      <th>issue</th>\n",
       "      <th>event_date</th>\n",
       "      <th>check_date</th>\n",
       "      <th>new_check_date</th>\n",
       "    </tr>\n",
       "  </thead>\n",
       "  <tbody>\n",
       "    <tr>\n",
       "      <th>0</th>\n",
       "      <td>ES</td>\n",
       "      <td>41.51019</td>\n",
       "      <td>2.24589</td>\n",
       "      <td>4</td>\n",
       "      <td>11</td>\n",
       "      <td>2022</td>\n",
       "      <td>Roger Eritja</td>\n",
       "      <td>CONTINENT_DERIVED_FROM_COORDINATES</td>\n",
       "      <td>2022-11-04</td>\n",
       "      <td>2022-11-4</td>\n",
       "      <td>2022-11-04</td>\n",
       "    </tr>\n",
       "    <tr>\n",
       "      <th>1</th>\n",
       "      <td>IT</td>\n",
       "      <td>44.40289</td>\n",
       "      <td>8.98775</td>\n",
       "      <td>27</td>\n",
       "      <td>8</td>\n",
       "      <td>2021</td>\n",
       "      <td>Karin Bakran-Lebl;Ana Klobucar;UNIROMA1;Roger ...</td>\n",
       "      <td>CONTINENT_DERIVED_FROM_COORDINATES</td>\n",
       "      <td>2021-08-27</td>\n",
       "      <td>2021-8-27</td>\n",
       "      <td>2021-08-27</td>\n",
       "    </tr>\n",
       "    <tr>\n",
       "      <th>3</th>\n",
       "      <td>IT</td>\n",
       "      <td>41.70922</td>\n",
       "      <td>12.78512</td>\n",
       "      <td>11</td>\n",
       "      <td>8</td>\n",
       "      <td>2022</td>\n",
       "      <td>UNIROMA1;Eleonora Longo;Francesco Severini;Rog...</td>\n",
       "      <td>CONTINENT_DERIVED_FROM_COORDINATES</td>\n",
       "      <td>2022-08-11</td>\n",
       "      <td>2022-8-11</td>\n",
       "      <td>2022-08-11</td>\n",
       "    </tr>\n",
       "  </tbody>\n",
       "</table>\n",
       "</div>"
      ],
      "text/plain": [
       "  country_code  latitude  longitude  day  month  year  \\\n",
       "0           ES  41.51019    2.24589    4     11  2022   \n",
       "1           IT  44.40289    8.98775   27      8  2021   \n",
       "3           IT  41.70922   12.78512   11      8  2022   \n",
       "\n",
       "                                             witness  \\\n",
       "0                                       Roger Eritja   \n",
       "1  Karin Bakran-Lebl;Ana Klobucar;UNIROMA1;Roger ...   \n",
       "3  UNIROMA1;Eleonora Longo;Francesco Severini;Rog...   \n",
       "\n",
       "                                issue  event_date check_date new_check_date  \n",
       "0  CONTINENT_DERIVED_FROM_COORDINATES  2022-11-04  2022-11-4     2022-11-04  \n",
       "1  CONTINENT_DERIVED_FROM_COORDINATES  2021-08-27  2021-8-27     2021-08-27  \n",
       "3  CONTINENT_DERIVED_FROM_COORDINATES  2022-08-11  2022-8-11     2022-08-11  "
      ]
     },
     "execution_count": 124,
     "metadata": {},
     "output_type": "execute_result"
    }
   ],
   "source": [
    "# \n",
    "df_3['new_check_date'] = pd.to_datetime(df_3['check_date'], format='%Y-%m-%d')\n",
    "df_3.head(3)"
   ]
  },
  {
   "cell_type": "code",
   "execution_count": 126,
   "metadata": {},
   "outputs": [
    {
     "data": {
      "text/html": [
       "<div>\n",
       "<style scoped>\n",
       "    .dataframe tbody tr th:only-of-type {\n",
       "        vertical-align: middle;\n",
       "    }\n",
       "\n",
       "    .dataframe tbody tr th {\n",
       "        vertical-align: top;\n",
       "    }\n",
       "\n",
       "    .dataframe thead th {\n",
       "        text-align: right;\n",
       "    }\n",
       "</style>\n",
       "<table border=\"1\" class=\"dataframe\">\n",
       "  <thead>\n",
       "    <tr style=\"text-align: right;\">\n",
       "      <th></th>\n",
       "      <th>country_code</th>\n",
       "      <th>latitude</th>\n",
       "      <th>longitude</th>\n",
       "      <th>day</th>\n",
       "      <th>month</th>\n",
       "      <th>year</th>\n",
       "      <th>witness</th>\n",
       "      <th>issue</th>\n",
       "      <th>event_date</th>\n",
       "      <th>check_date</th>\n",
       "      <th>new_check_date</th>\n",
       "      <th>new_event_date</th>\n",
       "    </tr>\n",
       "  </thead>\n",
       "  <tbody>\n",
       "    <tr>\n",
       "      <th>0</th>\n",
       "      <td>ES</td>\n",
       "      <td>41.51019</td>\n",
       "      <td>2.24589</td>\n",
       "      <td>4</td>\n",
       "      <td>11</td>\n",
       "      <td>2022</td>\n",
       "      <td>Roger Eritja</td>\n",
       "      <td>CONTINENT_DERIVED_FROM_COORDINATES</td>\n",
       "      <td>2022-11-04</td>\n",
       "      <td>2022-11-4</td>\n",
       "      <td>2022-11-04</td>\n",
       "      <td>2022-11-04</td>\n",
       "    </tr>\n",
       "    <tr>\n",
       "      <th>1</th>\n",
       "      <td>IT</td>\n",
       "      <td>44.40289</td>\n",
       "      <td>8.98775</td>\n",
       "      <td>27</td>\n",
       "      <td>8</td>\n",
       "      <td>2021</td>\n",
       "      <td>Karin Bakran-Lebl;Ana Klobucar;UNIROMA1;Roger ...</td>\n",
       "      <td>CONTINENT_DERIVED_FROM_COORDINATES</td>\n",
       "      <td>2021-08-27</td>\n",
       "      <td>2021-8-27</td>\n",
       "      <td>2021-08-27</td>\n",
       "      <td>2021-08-27</td>\n",
       "    </tr>\n",
       "    <tr>\n",
       "      <th>3</th>\n",
       "      <td>IT</td>\n",
       "      <td>41.70922</td>\n",
       "      <td>12.78512</td>\n",
       "      <td>11</td>\n",
       "      <td>8</td>\n",
       "      <td>2022</td>\n",
       "      <td>UNIROMA1;Eleonora Longo;Francesco Severini;Rog...</td>\n",
       "      <td>CONTINENT_DERIVED_FROM_COORDINATES</td>\n",
       "      <td>2022-08-11</td>\n",
       "      <td>2022-8-11</td>\n",
       "      <td>2022-08-11</td>\n",
       "      <td>2022-08-11</td>\n",
       "    </tr>\n",
       "  </tbody>\n",
       "</table>\n",
       "</div>"
      ],
      "text/plain": [
       "  country_code  latitude  longitude  day  month  year  \\\n",
       "0           ES  41.51019    2.24589    4     11  2022   \n",
       "1           IT  44.40289    8.98775   27      8  2021   \n",
       "3           IT  41.70922   12.78512   11      8  2022   \n",
       "\n",
       "                                             witness  \\\n",
       "0                                       Roger Eritja   \n",
       "1  Karin Bakran-Lebl;Ana Klobucar;UNIROMA1;Roger ...   \n",
       "3  UNIROMA1;Eleonora Longo;Francesco Severini;Rog...   \n",
       "\n",
       "                                issue  event_date check_date new_check_date  \\\n",
       "0  CONTINENT_DERIVED_FROM_COORDINATES  2022-11-04  2022-11-4     2022-11-04   \n",
       "1  CONTINENT_DERIVED_FROM_COORDINATES  2021-08-27  2021-8-27     2021-08-27   \n",
       "3  CONTINENT_DERIVED_FROM_COORDINATES  2022-08-11  2022-8-11     2022-08-11   \n",
       "\n",
       "  new_event_date  \n",
       "0     2022-11-04  \n",
       "1     2021-08-27  \n",
       "3     2022-08-11  "
      ]
     },
     "execution_count": 126,
     "metadata": {},
     "output_type": "execute_result"
    }
   ],
   "source": [
    "df_3['new_event_date'] = pd.to_datetime(df_3['event_date'], format='%Y-%m-%d')\n",
    "df_3.head(3)"
   ]
  },
  {
   "cell_type": "code",
   "execution_count": 129,
   "metadata": {},
   "outputs": [
    {
     "data": {
      "text/plain": [
       "country_code              object\n",
       "latitude                 float64\n",
       "longitude                float64\n",
       "day                        int64\n",
       "month                      int64\n",
       "year                       int64\n",
       "witness                   object\n",
       "issue                     object\n",
       "event_date                object\n",
       "check_date                object\n",
       "new_check_date    datetime64[ns]\n",
       "new_event_date    datetime64[ns]\n",
       "dtype: object"
      ]
     },
     "execution_count": 129,
     "metadata": {},
     "output_type": "execute_result"
    }
   ],
   "source": [
    "df_3.dtypes"
   ]
  },
  {
   "cell_type": "code",
   "execution_count": 130,
   "metadata": {},
   "outputs": [
    {
     "data": {
      "text/html": [
       "<div>\n",
       "<style scoped>\n",
       "    .dataframe tbody tr th:only-of-type {\n",
       "        vertical-align: middle;\n",
       "    }\n",
       "\n",
       "    .dataframe tbody tr th {\n",
       "        vertical-align: top;\n",
       "    }\n",
       "\n",
       "    .dataframe thead th {\n",
       "        text-align: right;\n",
       "    }\n",
       "</style>\n",
       "<table border=\"1\" class=\"dataframe\">\n",
       "  <thead>\n",
       "    <tr style=\"text-align: right;\">\n",
       "      <th></th>\n",
       "      <th>country_code</th>\n",
       "      <th>latitude</th>\n",
       "      <th>longitude</th>\n",
       "      <th>day</th>\n",
       "      <th>month</th>\n",
       "      <th>year</th>\n",
       "      <th>witness</th>\n",
       "      <th>issue</th>\n",
       "      <th>event_date</th>\n",
       "      <th>check_date</th>\n",
       "      <th>new_check_date</th>\n",
       "      <th>new_event_date</th>\n",
       "      <th>same_date</th>\n",
       "    </tr>\n",
       "  </thead>\n",
       "  <tbody>\n",
       "    <tr>\n",
       "      <th>0</th>\n",
       "      <td>ES</td>\n",
       "      <td>41.51019</td>\n",
       "      <td>2.24589</td>\n",
       "      <td>4</td>\n",
       "      <td>11</td>\n",
       "      <td>2022</td>\n",
       "      <td>Roger Eritja</td>\n",
       "      <td>CONTINENT_DERIVED_FROM_COORDINATES</td>\n",
       "      <td>2022-11-04</td>\n",
       "      <td>2022-11-4</td>\n",
       "      <td>2022-11-04</td>\n",
       "      <td>2022-11-04</td>\n",
       "      <td>True</td>\n",
       "    </tr>\n",
       "    <tr>\n",
       "      <th>1</th>\n",
       "      <td>IT</td>\n",
       "      <td>44.40289</td>\n",
       "      <td>8.98775</td>\n",
       "      <td>27</td>\n",
       "      <td>8</td>\n",
       "      <td>2021</td>\n",
       "      <td>Karin Bakran-Lebl;Ana Klobucar;UNIROMA1;Roger ...</td>\n",
       "      <td>CONTINENT_DERIVED_FROM_COORDINATES</td>\n",
       "      <td>2021-08-27</td>\n",
       "      <td>2021-8-27</td>\n",
       "      <td>2021-08-27</td>\n",
       "      <td>2021-08-27</td>\n",
       "      <td>True</td>\n",
       "    </tr>\n",
       "    <tr>\n",
       "      <th>3</th>\n",
       "      <td>IT</td>\n",
       "      <td>41.70922</td>\n",
       "      <td>12.78512</td>\n",
       "      <td>11</td>\n",
       "      <td>8</td>\n",
       "      <td>2022</td>\n",
       "      <td>UNIROMA1;Eleonora Longo;Francesco Severini;Rog...</td>\n",
       "      <td>CONTINENT_DERIVED_FROM_COORDINATES</td>\n",
       "      <td>2022-08-11</td>\n",
       "      <td>2022-8-11</td>\n",
       "      <td>2022-08-11</td>\n",
       "      <td>2022-08-11</td>\n",
       "      <td>True</td>\n",
       "    </tr>\n",
       "  </tbody>\n",
       "</table>\n",
       "</div>"
      ],
      "text/plain": [
       "  country_code  latitude  longitude  day  month  year  \\\n",
       "0           ES  41.51019    2.24589    4     11  2022   \n",
       "1           IT  44.40289    8.98775   27      8  2021   \n",
       "3           IT  41.70922   12.78512   11      8  2022   \n",
       "\n",
       "                                             witness  \\\n",
       "0                                       Roger Eritja   \n",
       "1  Karin Bakran-Lebl;Ana Klobucar;UNIROMA1;Roger ...   \n",
       "3  UNIROMA1;Eleonora Longo;Francesco Severini;Rog...   \n",
       "\n",
       "                                issue  event_date check_date new_check_date  \\\n",
       "0  CONTINENT_DERIVED_FROM_COORDINATES  2022-11-04  2022-11-4     2022-11-04   \n",
       "1  CONTINENT_DERIVED_FROM_COORDINATES  2021-08-27  2021-8-27     2021-08-27   \n",
       "3  CONTINENT_DERIVED_FROM_COORDINATES  2022-08-11  2022-8-11     2022-08-11   \n",
       "\n",
       "  new_event_date  same_date  \n",
       "0     2022-11-04       True  \n",
       "1     2021-08-27       True  \n",
       "3     2022-08-11       True  "
      ]
     },
     "execution_count": 130,
     "metadata": {},
     "output_type": "execute_result"
    }
   ],
   "source": [
    "df_3['same_date'] = np.where(df_3['new_check_date']==df_3['new_event_date'], True, False)\n",
    "df_3.head(3)"
   ]
  },
  {
   "cell_type": "code",
   "execution_count": 133,
   "metadata": {},
   "outputs": [
    {
     "data": {
      "text/plain": [
       "True    14518\n",
       "Name: same_date, dtype: int64"
      ]
     },
     "execution_count": 133,
     "metadata": {},
     "output_type": "execute_result"
    }
   ],
   "source": [
    "df_3['same_date'].value_counts()"
   ]
  },
  {
   "cell_type": "code",
   "execution_count": null,
   "metadata": {},
   "outputs": [],
   "source": []
  },
  {
   "cell_type": "code",
   "execution_count": null,
   "metadata": {},
   "outputs": [],
   "source": []
  },
  {
   "cell_type": "code",
   "execution_count": null,
   "metadata": {},
   "outputs": [],
   "source": []
  },
  {
   "cell_type": "code",
   "execution_count": null,
   "metadata": {},
   "outputs": [],
   "source": [
    "Nuestro df contiene las siguientes columnas:\n",
    "\n",
    "registro = (instant), es el índice\n",
    "fecha = (dteday)\n",
    "estacion = (season) Hay que cambiarla, algunas estaciones no coinciden con la fecha.\n",
    "año = (year) También hay que cambiarla, está en 0 y 1 (2018,2019)\n",
    "mes = (month)\n",
    "festivo = (holiday) 0: laborales, 1:festivos, creemos que tomará festivos.\n",
    "dia_semana = (weekday)\n",
    "no_laboral = (workingday) Cuenta como 0 el laboral y el 1 el no laboral\n",
    "clima = ('weathersit')\n",
    "'temperatura' = (temp)\n",
    "'sens_termica'= ('atemp')\n",
    "humedad = (hum)\n",
    "viento = (windspeed)\n",
    "ocasionales = (casual)\n",
    "registrados = (registred)\n",
    "total = (cnt)"
   ]
  },
  {
   "cell_type": "code",
   "execution_count": null,
   "metadata": {},
   "outputs": [],
   "source": []
  },
  {
   "cell_type": "code",
   "execution_count": null,
   "metadata": {},
   "outputs": [],
   "source": []
  },
  {
   "cell_type": "code",
   "execution_count": null,
   "metadata": {},
   "outputs": [],
   "source": [
    "# Check again null values looking at its percentage.\n",
    "df_1.stb.missing()"
   ]
  },
  {
   "cell_type": "code",
   "execution_count": null,
   "metadata": {},
   "outputs": [],
   "source": []
  },
  {
   "cell_type": "code",
   "execution_count": null,
   "metadata": {},
   "outputs": [],
   "source": []
  },
  {
   "cell_type": "code",
   "execution_count": null,
   "metadata": {},
   "outputs": [],
   "source": [
    "# Check for outliers in month using another method.\n",
    "mean_month=df_1['month'].mean()\n",
    "std_month=df_1['month'].std()\n",
    "upper=mean_month + std_month\n",
    "lower=mean_month - std_month\n",
    "ucb=mean_month + std_month * 3\n",
    "lcb=mean_month - std_month * 3"
   ]
  },
  {
   "cell_type": "code",
   "execution_count": null,
   "metadata": {},
   "outputs": [],
   "source": []
  },
  {
   "cell_type": "code",
   "execution_count": null,
   "metadata": {},
   "outputs": [],
   "source": [
    "# Start the graph.\n",
    "month_graph=sns.histplot(x=df_1['month'],kde=True)\n",
    "graph.axvline(x=mean_month, c='red',label='mean')\n",
    "\n",
    "# Plot its standard deviation.\n",
    "graph.axvline(x=upper,c='green',label='std')\n",
    "graph.axvline(x=lower, c='green')\n",
    "\n",
    "# Plot its confidence interval to 99.7%\n",
    "graph.axvline(x=lcb, c='orange',label='99 lower')\n",
    "graph.axvline(x=ucb, c='orange',label='99 upper')\n",
    "\n",
    "plt.legend()"
   ]
  },
  {
   "cell_type": "code",
   "execution_count": null,
   "metadata": {},
   "outputs": [],
   "source": []
  },
  {
   "cell_type": "code",
   "execution_count": null,
   "metadata": {},
   "outputs": [],
   "source": []
  }
 ],
 "metadata": {
  "kernelspec": {
   "display_name": "base",
   "language": "python",
   "name": "python3"
  },
  "language_info": {
   "codemirror_mode": {
    "name": "ipython",
    "version": 3
   },
   "file_extension": ".py",
   "mimetype": "text/x-python",
   "name": "python",
   "nbconvert_exporter": "python",
   "pygments_lexer": "ipython3",
   "version": "3.9.7"
  },
  "orig_nbformat": 4
 },
 "nbformat": 4,
 "nbformat_minor": 2
}
